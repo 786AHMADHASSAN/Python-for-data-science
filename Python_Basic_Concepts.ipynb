{
  "cells": [
    {
      "cell_type": "markdown",
      "metadata": {
        "id": "UxOPEcs_QCCq"
      },
      "source": [
        "# 1st heading\n",
        "## 2nd heading\n",
        "### 3rd heading\n",
        "\n",
        "- This is my first point\n",
        "- `Files.csv` to highlight\n",
        "- ***Bold***\n",
        "\n",
        "\n",
        "---\n",
        "\n",
        "\n",
        "\n",
        "---\n",
        "\n"
      ]
    },
    {
      "cell_type": "markdown",
      "metadata": {
        "id": "EthzoHBqp506"
      },
      "source": [
        "# 1.Print function"
      ]
    },
    {
      "cell_type": "markdown",
      "metadata": {
        "id": "BiwhFL587WRM"
      },
      "source": [
        "#1.String"
      ]
    },
    {
      "cell_type": "code",
      "execution_count": null,
      "metadata": {
        "colab": {
          "base_uri": "https://localhost:8080/"
        },
        "id": "HEXx3oSl27Cm",
        "outputId": "97c62deb-0dd0-4f17-bd98-ddd728758a4e"
      },
      "outputs": [
        {
          "output_type": "stream",
          "name": "stdout",
          "text": [
            "We are learning Python\n"
          ]
        }
      ],
      "source": [
        "print('We are learning Python')"
      ]
    },
    {
      "cell_type": "code",
      "execution_count": null,
      "metadata": {
        "colab": {
          "base_uri": "https://localhost:8080/"
        },
        "id": "aNG5j9MK76On",
        "outputId": "e0c53c7f-fc7b-406f-de63-de783992792a"
      },
      "outputs": [
        {
          "name": "stdout",
          "output_type": "stream",
          "text": [
            "We are learning Python\n"
          ]
        }
      ],
      "source": [
        "print(\"We are learning Python\")"
      ]
    },
    {
      "cell_type": "code",
      "execution_count": null,
      "metadata": {
        "colab": {
          "base_uri": "https://localhost:8080/"
        },
        "id": "l8IwyMkZ7_lY",
        "outputId": "c7809d9c-bbd4-445b-9006-a893ac6b9556"
      },
      "outputs": [
        {
          "name": "stdout",
          "output_type": "stream",
          "text": [
            "It's raining outside\n"
          ]
        }
      ],
      "source": [
        "print(\"It's raining outside\")"
      ]
    },
    {
      "cell_type": "code",
      "execution_count": null,
      "metadata": {
        "colab": {
          "base_uri": "https://localhost:8080/"
        },
        "id": "Sg0jyX4l8q_8",
        "outputId": "f7dc670b-87d2-4ac3-9456-344a87b463d2"
      },
      "outputs": [
        {
          "name": "stdout",
          "output_type": "stream",
          "text": [
            "         It's raining outside\n",
            "          it will be better to stay inside\n",
            "          And we will wait for the bus\n"
          ]
        }
      ],
      "source": [
        "print(\"\"\"         It's raining outside\n",
        "          it will be better to stay inside\n",
        "          And we will wait for the bus\"\"\")"
      ]
    },
    {
      "cell_type": "code",
      "execution_count": null,
      "metadata": {
        "colab": {
          "base_uri": "https://localhost:8080/"
        },
        "id": "CWHd2sme9iTm",
        "outputId": "c035d05b-2a54-4676-d183-ad271733ba33"
      },
      "outputs": [
        {
          "name": "stdout",
          "output_type": "stream",
          "text": [
            "the accuracy of logistic regression is 90\n"
          ]
        }
      ],
      "source": [
        "Accuracy=90\n",
        "print(\"the accuracy of logistic regression is\",Accuracy)"
      ]
    },
    {
      "cell_type": "code",
      "execution_count": null,
      "metadata": {
        "colab": {
          "base_uri": "https://localhost:8080/"
        },
        "id": "dKMA8uWo-42E",
        "outputId": "c570b1f5-bdde-4909-edf6-7f2040609581"
      },
      "outputs": [
        {
          "data": {
            "text/plain": [
              "str"
            ]
          },
          "execution_count": 14,
          "metadata": {},
          "output_type": "execute_result"
        }
      ],
      "source": [
        "my_string='city name'\n",
        "type(my_string)"
      ]
    },
    {
      "cell_type": "markdown",
      "metadata": {
        "id": "OBdcYnt8-RKP"
      },
      "source": [
        "##2.Integers"
      ]
    },
    {
      "cell_type": "code",
      "execution_count": null,
      "metadata": {
        "colab": {
          "base_uri": "https://localhost:8080/"
        },
        "id": "LpNopmZh-Vjj",
        "outputId": "45b37473-ddf7-413b-a582-65b431a24fc2"
      },
      "outputs": [
        {
          "name": "stdout",
          "output_type": "stream",
          "text": [
            "44\n"
          ]
        }
      ],
      "source": [
        "my_integer=44\n",
        "print(my_integer)"
      ]
    },
    {
      "cell_type": "code",
      "execution_count": null,
      "metadata": {
        "colab": {
          "base_uri": "https://localhost:8080/"
        },
        "id": "Ewt2CO0J-rK0",
        "outputId": "df586b72-ec4a-4367-94e4-9f03b2719c80"
      },
      "outputs": [
        {
          "data": {
            "text/plain": [
              "int"
            ]
          },
          "execution_count": 13,
          "metadata": {},
          "output_type": "execute_result"
        }
      ],
      "source": [
        "type(my_integer)"
      ]
    },
    {
      "cell_type": "markdown",
      "metadata": {
        "id": "0UhfIesH_HYE"
      },
      "source": [
        "##3.Float"
      ]
    },
    {
      "cell_type": "code",
      "execution_count": null,
      "metadata": {
        "colab": {
          "base_uri": "https://localhost:8080/"
        },
        "id": "qowHSHX5_N2d",
        "outputId": "7ef1ea3d-c2da-46e5-f1a4-2a1146469417"
      },
      "outputs": [
        {
          "name": "stdout",
          "output_type": "stream",
          "text": [
            "3.99\n"
          ]
        }
      ],
      "source": [
        "my_float=3.99\n",
        "print(my_float)"
      ]
    },
    {
      "cell_type": "code",
      "execution_count": null,
      "metadata": {
        "colab": {
          "base_uri": "https://localhost:8080/"
        },
        "id": "bxzFsBVV_Uhq",
        "outputId": "e6991eec-1664-4509-99ee-7195ed7091af"
      },
      "outputs": [
        {
          "data": {
            "text/plain": [
              "float"
            ]
          },
          "execution_count": 16,
          "metadata": {},
          "output_type": "execute_result"
        }
      ],
      "source": [
        "type(my_float)"
      ]
    },
    {
      "cell_type": "markdown",
      "metadata": {
        "id": "SAZFZLdw_ZQM"
      },
      "source": [
        "##4.Complex (a+bj)"
      ]
    },
    {
      "cell_type": "code",
      "execution_count": null,
      "metadata": {
        "colab": {
          "base_uri": "https://localhost:8080/"
        },
        "id": "jkwgWuyK_s50",
        "outputId": "cc78d0bc-ec5a-4a02-975e-0cdb75567497"
      },
      "outputs": [
        {
          "name": "stdout",
          "output_type": "stream",
          "text": [
            "(3+4j)\n"
          ]
        }
      ],
      "source": [
        "a=complex(3,4)\n",
        "print(a)"
      ]
    },
    {
      "cell_type": "code",
      "execution_count": null,
      "metadata": {
        "colab": {
          "base_uri": "https://localhost:8080/"
        },
        "id": "xF32oMJpAp33",
        "outputId": "1b714bcf-51ef-492b-a0ba-6f4640c1a218"
      },
      "outputs": [
        {
          "data": {
            "text/plain": [
              "complex"
            ]
          },
          "execution_count": 18,
          "metadata": {},
          "output_type": "execute_result"
        }
      ],
      "source": [
        "type(a)"
      ]
    },
    {
      "cell_type": "code",
      "execution_count": null,
      "metadata": {
        "colab": {
          "base_uri": "https://localhost:8080/"
        },
        "id": "oCLk8k13AsNA",
        "outputId": "4120b487-d5d3-4db0-c28c-286ac0736239"
      },
      "outputs": [
        {
          "name": "stdout",
          "output_type": "stream",
          "text": [
            "(3+4j)\n"
          ]
        },
        {
          "data": {
            "text/plain": [
              "complex"
            ]
          },
          "execution_count": 19,
          "metadata": {},
          "output_type": "execute_result"
        }
      ],
      "source": [
        "a=3+4j\n",
        "print(a)\n",
        "type(a)"
      ]
    },
    {
      "cell_type": "markdown",
      "metadata": {
        "id": "_FsTunZjBAiY"
      },
      "source": [
        "##5.Boolean"
      ]
    },
    {
      "cell_type": "code",
      "execution_count": null,
      "metadata": {
        "colab": {
          "base_uri": "https://localhost:8080/"
        },
        "id": "29xN6kvrBGI1",
        "outputId": "e1232b21-9220-4425-b8b3-ece8ff12d180"
      },
      "outputs": [
        {
          "name": "stdout",
          "output_type": "stream",
          "text": [
            "True\n"
          ]
        },
        {
          "data": {
            "text/plain": [
              "bool"
            ]
          },
          "execution_count": 23,
          "metadata": {},
          "output_type": "execute_result"
        }
      ],
      "source": [
        "my_bool=True\n",
        "print(my_bool)\n",
        "type(my_bool)"
      ]
    },
    {
      "cell_type": "code",
      "execution_count": null,
      "metadata": {
        "colab": {
          "base_uri": "https://localhost:8080/"
        },
        "id": "XsyjC2vUBRid",
        "outputId": "de204b14-749e-46d3-c54a-3ef08bf4c263"
      },
      "outputs": [
        {
          "name": "stdout",
          "output_type": "stream",
          "text": [
            "False\n"
          ]
        },
        {
          "data": {
            "text/plain": [
              "bool"
            ]
          },
          "execution_count": 21,
          "metadata": {},
          "output_type": "execute_result"
        }
      ],
      "source": [
        "my_bool=False\n",
        "print(my_bool)\n",
        "type(my_bool)"
      ]
    },
    {
      "cell_type": "markdown",
      "metadata": {
        "id": "O-CMjkrABwDG"
      },
      "source": [
        "#Different parameters of print function"
      ]
    },
    {
      "cell_type": "markdown",
      "metadata": {
        "id": "IyCVMNtrB-Mo"
      },
      "source": [
        "##1.SEP parameter"
      ]
    },
    {
      "cell_type": "code",
      "execution_count": null,
      "metadata": {
        "colab": {
          "base_uri": "https://localhost:8080/"
        },
        "id": "mYlUqPd-CFP8",
        "outputId": "e771be4f-070c-4b7c-d8ff-fb0336d00192"
      },
      "outputs": [
        {
          "name": "stdout",
          "output_type": "stream",
          "text": [
            "we are learning Python\n"
          ]
        }
      ],
      "source": [
        "print('we','are','learning','Python')"
      ]
    },
    {
      "cell_type": "code",
      "execution_count": null,
      "metadata": {
        "colab": {
          "base_uri": "https://localhost:8080/"
        },
        "id": "pauhOn-BCmV9",
        "outputId": "16bdb00e-d01c-4ed9-da72-43559e01f247"
      },
      "outputs": [
        {
          "name": "stdout",
          "output_type": "stream",
          "text": [
            "we/are/learning/Python\n"
          ]
        }
      ],
      "source": [
        "print('we','are','learning','Python', sep='/')"
      ]
    },
    {
      "cell_type": "code",
      "execution_count": null,
      "metadata": {
        "colab": {
          "base_uri": "https://localhost:8080/"
        },
        "id": "QLjxZY5LC6nx",
        "outputId": "6ac59436-e264-471a-f4d2-6eba3b433fc7"
      },
      "outputs": [
        {
          "name": "stdout",
          "output_type": "stream",
          "text": [
            "we-are-learning-Python\n"
          ]
        }
      ],
      "source": [
        "print('we','are','learning','Python', sep='-')"
      ]
    },
    {
      "cell_type": "markdown",
      "metadata": {
        "id": "As5fNexmDPYg"
      },
      "source": [
        "##2.End parameter"
      ]
    },
    {
      "cell_type": "code",
      "execution_count": null,
      "metadata": {
        "colab": {
          "base_uri": "https://localhost:8080/"
        },
        "id": "6yRdnvtrDROk",
        "outputId": "b56e320e-668d-465d-ac76-3c1307641490"
      },
      "outputs": [
        {
          "name": "stdout",
          "output_type": "stream",
          "text": [
            "Ahmad lives in Pakistan\n",
            "He is learning data science\n"
          ]
        }
      ],
      "source": [
        "print('Ahmad lives in Pakistan')\n",
        "print('He is learning data science')"
      ]
    },
    {
      "cell_type": "code",
      "execution_count": null,
      "metadata": {
        "colab": {
          "base_uri": "https://localhost:8080/"
        },
        "id": "Xl92j3SrEtpr",
        "outputId": "ebf1119b-09ce-4331-e892-691519327e9c"
      },
      "outputs": [
        {
          "name": "stdout",
          "output_type": "stream",
          "text": [
            "Ahmad lives in Pakistan. He is learning data science\n"
          ]
        }
      ],
      "source": [
        "print('Ahmad lives in Pakistan.',end=' ')\n",
        "print('He is learning data science')"
      ]
    },
    {
      "cell_type": "markdown",
      "metadata": {
        "id": "W_Yq9uuYFbCN"
      },
      "source": [
        "\n",
        "\n",
        "---\n",
        "\n",
        "\n",
        "\n",
        "---\n",
        "\n"
      ]
    },
    {
      "cell_type": "markdown",
      "metadata": {
        "id": "4Gk0hl66xpwb"
      },
      "source": [
        "# 2.Data types in python"
      ]
    },
    {
      "cell_type": "markdown",
      "metadata": {
        "id": "lHuhPpkkx1S8"
      },
      "source": [
        "## 1.Basic data types (Already discussed)\n",
        "1. strings\n",
        "2. integers\n",
        "3. floats\n",
        "4. boolean\n",
        "5. complex"
      ]
    },
    {
      "cell_type": "markdown",
      "metadata": {
        "id": "rtEfRbPex6UI"
      },
      "source": [
        "## 2.Container data types\n",
        "- Important thing to consider here is that we can store multiple basic data types in each container data types."
      ]
    },
    {
      "cell_type": "markdown",
      "metadata": {
        "id": "qcg-UeQZGGp9"
      },
      "source": [
        "##1.List"
      ]
    },
    {
      "cell_type": "code",
      "execution_count": null,
      "metadata": {
        "colab": {
          "base_uri": "https://localhost:8080/"
        },
        "id": "Usu0rnP1GEv3",
        "outputId": "31ebd28c-2559-4461-bf4e-0e45b96f4172"
      },
      "outputs": [
        {
          "name": "stdout",
          "output_type": "stream",
          "text": [
            "[1, 2, 3, 'strings', 'False', '4.789', '3+6j']\n"
          ]
        },
        {
          "data": {
            "text/plain": [
              "list"
            ]
          },
          "execution_count": 1,
          "metadata": {},
          "output_type": "execute_result"
        }
      ],
      "source": [
        "my_list=[1,2,3,'strings','False',\"4.789\",'3+6j']\n",
        "print(my_list)\n",
        "type(my_list)"
      ]
    },
    {
      "cell_type": "markdown",
      "metadata": {
        "id": "qt3PeW47HMqh"
      },
      "source": [
        "##2.Tuples"
      ]
    },
    {
      "cell_type": "code",
      "execution_count": null,
      "metadata": {
        "colab": {
          "base_uri": "https://localhost:8080/"
        },
        "id": "OhtujyHTHT8o",
        "outputId": "b5fcdd1c-2fa6-4b63-9bb2-7cab97c38554"
      },
      "outputs": [
        {
          "name": "stdout",
          "output_type": "stream",
          "text": [
            "(1, 2, 3, 'strings', 'False', '4.789', '3+6j')\n"
          ]
        },
        {
          "data": {
            "text/plain": [
              "tuple"
            ]
          },
          "execution_count": 2,
          "metadata": {},
          "output_type": "execute_result"
        }
      ],
      "source": [
        "my_tuple=(1,2,3,'strings','False',\"4.789\",'3+6j')\n",
        "print(my_tuple)\n",
        "type(my_tuple)"
      ]
    },
    {
      "cell_type": "markdown",
      "metadata": {
        "id": "2lnwDkqlIPNX"
      },
      "source": [
        "##3.Sets"
      ]
    },
    {
      "cell_type": "code",
      "execution_count": null,
      "metadata": {
        "colab": {
          "base_uri": "https://localhost:8080/"
        },
        "id": "LodaHc9jITtn",
        "outputId": "548427e3-1f0f-4ee3-9251-ee83b5bd1d5d"
      },
      "outputs": [
        {
          "name": "stdout",
          "output_type": "stream",
          "text": [
            "{'False', 1, 2, 3, '4.789', 'strings', '3+6j'}\n"
          ]
        },
        {
          "data": {
            "text/plain": [
              "set"
            ]
          },
          "execution_count": 3,
          "metadata": {},
          "output_type": "execute_result"
        }
      ],
      "source": [
        "my_sets={1,2,3,'strings','False',\"4.789\",'3+6j'}\n",
        "print(my_sets)\n",
        "type(my_sets)"
      ]
    },
    {
      "cell_type": "markdown",
      "metadata": {
        "id": "FxrEBizTItpq"
      },
      "source": [
        "##4.Dictionary\n",
        "- It is present in the form of **key value base pairs**"
      ]
    },
    {
      "cell_type": "code",
      "execution_count": null,
      "metadata": {
        "colab": {
          "base_uri": "https://localhost:8080/"
        },
        "id": "Q6QsIPO-IzRV",
        "outputId": "26048c40-589c-4c34-d7d6-6b6d88d9917a"
      },
      "outputs": [
        {
          "name": "stdout",
          "output_type": "stream",
          "text": [
            "{'name': 'Ahmad', 'Age': '24', 'education': 'Masters'}\n"
          ]
        },
        {
          "data": {
            "text/plain": [
              "dict"
            ]
          },
          "execution_count": 4,
          "metadata": {},
          "output_type": "execute_result"
        }
      ],
      "source": [
        "my_dictionary= {'name':'Ahmad','Age':'24','education':'Masters'}\n",
        "print(my_dictionary)\n",
        "type(my_dictionary)"
      ]
    },
    {
      "cell_type": "markdown",
      "metadata": {
        "id": "VjPW2hadJ_35"
      },
      "source": [
        "#3.User defined data types"
      ]
    },
    {
      "cell_type": "markdown",
      "metadata": {
        "id": "xNBCX7FtKGAu"
      },
      "source": [
        "- Class (used in OOP (object oriented programming)"
      ]
    },
    {
      "cell_type": "markdown",
      "metadata": {
        "id": "qtgjbk4FLURu"
      },
      "source": [
        "\n",
        "\n",
        "---\n",
        "\n",
        "\n",
        "\n",
        "---\n",
        "\n",
        "\n",
        "\n",
        "---\n",
        "\n"
      ]
    },
    {
      "cell_type": "markdown",
      "metadata": {
        "id": "QANS7lm91JKZ"
      },
      "source": [
        "# 3.Variables"
      ]
    },
    {
      "cell_type": "markdown",
      "metadata": {
        "id": "lGRNJxXL1Pmh"
      },
      "source": [
        "- **dynamic and static typing**\n",
        "      Based on ability that whether we can change value assigned to one variable or not)\n",
        "- **dynamic and static binding**\n",
        "      based on the ability that whether we have to define which data we are going to store in a variable\n",
        "      Wthether more than one data type is stored or not\n"
      ]
    },
    {
      "cell_type": "code",
      "execution_count": null,
      "metadata": {
        "colab": {
          "base_uri": "https://localhost:8080/"
        },
        "id": "W-4ARHEULsxu",
        "outputId": "2c0b3d41-d6c5-423e-ceed-29c09a192770"
      },
      "outputs": [
        {
          "name": "stdout",
          "output_type": "stream",
          "text": [
            "ahmad\n"
          ]
        }
      ],
      "source": [
        "name='ahmad'\n",
        "print(name)"
      ]
    },
    {
      "cell_type": "code",
      "execution_count": null,
      "metadata": {
        "colab": {
          "base_uri": "https://localhost:8080/"
        },
        "id": "Q4qSeSKWL47P",
        "outputId": "3dc44c98-220f-4303-c90f-88674339a115"
      },
      "outputs": [
        {
          "name": "stdout",
          "output_type": "stream",
          "text": [
            "waqas\n"
          ]
        }
      ],
      "source": [
        "name='waqas'\n",
        "print(name)"
      ]
    },
    {
      "cell_type": "code",
      "execution_count": null,
      "metadata": {
        "colab": {
          "base_uri": "https://localhost:8080/"
        },
        "id": "xRQWO5jeMuk9",
        "outputId": "48182cf6-22f8-4a9b-a097-d8bc4d0690c1"
      },
      "outputs": [
        {
          "data": {
            "text/plain": [
              "str"
            ]
          },
          "execution_count": 41,
          "metadata": {},
          "output_type": "execute_result"
        }
      ],
      "source": [
        "type(name)"
      ]
    },
    {
      "cell_type": "markdown",
      "metadata": {
        "id": "imuLQFYSNuLn"
      },
      "source": [
        "##Different ways of using variables"
      ]
    },
    {
      "cell_type": "code",
      "execution_count": null,
      "metadata": {
        "colab": {
          "base_uri": "https://localhost:8080/"
        },
        "id": "y2FmT3afN2QI",
        "outputId": "7f6e3450-c99a-40ba-fdf1-f3ffca9dd866"
      },
      "outputs": [
        {
          "name": "stdout",
          "output_type": "stream",
          "text": [
            "5\n",
            "7\n",
            "88\n"
          ]
        }
      ],
      "source": [
        "a=5;b=7;c=88\n",
        "print(a)\n",
        "print(b)\n",
        "print(c)"
      ]
    },
    {
      "cell_type": "code",
      "execution_count": null,
      "metadata": {
        "colab": {
          "base_uri": "https://localhost:8080/"
        },
        "id": "AouR_YJkOQQv",
        "outputId": "48581e84-aca1-4b20-b722-572b3c88ace0"
      },
      "outputs": [
        {
          "name": "stdout",
          "output_type": "stream",
          "text": [
            "2\n",
            "3\n",
            "4\n"
          ]
        }
      ],
      "source": [
        "a,b,c=2,3,4\n",
        "print(a)\n",
        "print(b)\n",
        "print(c)"
      ]
    },
    {
      "cell_type": "code",
      "execution_count": null,
      "metadata": {
        "colab": {
          "base_uri": "https://localhost:8080/"
        },
        "id": "NS0s_VPdOfuX",
        "outputId": "ab609053-8690-418e-e66e-cee310d95ebf"
      },
      "outputs": [
        {
          "name": "stdout",
          "output_type": "stream",
          "text": [
            "44\n",
            "44\n",
            "44\n"
          ]
        }
      ],
      "source": [
        "a=b=c=44\n",
        "print(a)\n",
        "print(b)\n",
        "print(c)"
      ]
    },
    {
      "cell_type": "markdown",
      "metadata": {
        "id": "03WT7X4LO9Mf"
      },
      "source": [
        "\n",
        "\n",
        "---\n",
        "\n",
        "\n",
        "\n",
        "---\n",
        "\n"
      ]
    },
    {
      "cell_type": "markdown",
      "metadata": {
        "id": "P89hK4sd5gUO"
      },
      "source": [
        "# 4.Keywords\n",
        "\n",
        "- Python keywords are special reserved words that have specific meanings and purposes and can't be used for anything but those specific purposes. These keywords are always available—you'll never have to import them into your code. Python keywords are different from Python's built-in functions and types.\n",
        "\n",
        "- keywords must not be used as variables"
      ]
    },
    {
      "cell_type": "code",
      "execution_count": null,
      "metadata": {
        "colab": {
          "base_uri": "https://localhost:8080/"
        },
        "id": "p68iiRsvPM7e",
        "outputId": "8b8cccf5-691e-4ffd-8d71-442e8d15a4b1"
      },
      "outputs": [
        {
          "name": "stdout",
          "output_type": "stream",
          "text": [
            "['False', 'None', 'True', 'and', 'as', 'assert', 'async', 'await', 'break', 'class', 'continue', 'def', 'del', 'elif', 'else', 'except', 'finally', 'for', 'from', 'global', 'if', 'import', 'in', 'is', 'lambda', 'nonlocal', 'not', 'or', 'pass', 'raise', 'return', 'try', 'while', 'with', 'yield']\n"
          ]
        }
      ],
      "source": [
        "import keyword\n",
        "print(keyword.kwlist)"
      ]
    },
    {
      "cell_type": "code",
      "execution_count": null,
      "metadata": {
        "colab": {
          "base_uri": "https://localhost:8080/",
          "height": 109
        },
        "id": "Cgoip7noQukt",
        "outputId": "b39b3c61-5d30-4ce2-83ff-53759339ee47"
      },
      "outputs": [
        {
          "ename": "SyntaxError",
          "evalue": "invalid syntax (<ipython-input-7-a3e72bf6f33f>, line 1)",
          "output_type": "error",
          "traceback": [
            "\u001b[0;36m  File \u001b[0;32m\"<ipython-input-7-a3e72bf6f33f>\"\u001b[0;36m, line \u001b[0;32m1\u001b[0m\n\u001b[0;31m    break = \"string\"\u001b[0m\n\u001b[0m          ^\u001b[0m\n\u001b[0;31mSyntaxError\u001b[0m\u001b[0;31m:\u001b[0m invalid syntax\n"
          ]
        }
      ],
      "source": [
        "break = \"string\""
      ]
    },
    {
      "cell_type": "markdown",
      "metadata": {
        "id": "gzSC8qHzREcU"
      },
      "source": [
        "\n",
        "\n",
        "---\n",
        "\n",
        "---\n",
        "\n",
        "\n",
        "\n"
      ]
    },
    {
      "cell_type": "markdown",
      "metadata": {
        "id": "II7fasc46VoZ"
      },
      "source": [
        "# 5.Identifiers\n",
        "- Python Identifier is the name we give to identify a variable, function, class, module or other object. That means whenever we want to give an entity a name, that's called identifier. Sometimes variable and identifier are often misunderstood as same but they are not.\n",
        "- variables and function names are typically lowercase with words separated by underscores (snake_case). Class names use CamelCase\n",
        "- **keywords must not be used as identifiers**"
      ]
    },
    {
      "cell_type": "code",
      "execution_count": null,
      "metadata": {
        "id": "CNWBpavJRNoV"
      },
      "outputs": [],
      "source": [
        "city_name=\"Rwalpindi\""
      ]
    },
    {
      "cell_type": "code",
      "execution_count": null,
      "metadata": {
        "colab": {
          "base_uri": "https://localhost:8080/",
          "height": 36
        },
        "id": "eIhg0o1CR-ZP",
        "outputId": "27699bcd-0522-4eb0-b608-244b041f7abc"
      },
      "outputs": [
        {
          "data": {
            "application/vnd.google.colaboratory.intrinsic+json": {
              "type": "string"
            },
            "text/plain": [
              "'city'"
            ]
          },
          "execution_count": 8,
          "metadata": {},
          "output_type": "execute_result"
        }
      ],
      "source": [
        "_underscore='city'\n",
        "_underscore"
      ]
    },
    {
      "cell_type": "code",
      "execution_count": null,
      "metadata": {
        "colab": {
          "base_uri": "https://localhost:8080/",
          "height": 36
        },
        "id": "W1HP3iXDCosU",
        "outputId": "99a2b7a5-bbbe-4d0a-cb87-bd817ebbce26"
      },
      "outputs": [
        {
          "data": {
            "application/vnd.google.colaboratory.intrinsic+json": {
              "type": "string"
            },
            "text/plain": [
              "'city'"
            ]
          },
          "execution_count": 9,
          "metadata": {},
          "output_type": "execute_result"
        }
      ],
      "source": [
        "underscore_='city'\n",
        "underscore_"
      ]
    },
    {
      "cell_type": "code",
      "execution_count": null,
      "metadata": {
        "colab": {
          "base_uri": "https://localhost:8080/",
          "height": 36
        },
        "id": "zLVPnDtdSQlx",
        "outputId": "b0f75ef6-97cd-466b-ac7e-58e961e4f69f"
      },
      "outputs": [
        {
          "data": {
            "application/vnd.google.colaboratory.intrinsic+json": {
              "type": "string"
            },
            "text/plain": [
              "'city'"
            ]
          },
          "execution_count": 60,
          "metadata": {},
          "output_type": "execute_result"
        }
      ],
      "source": [
        "end_with_0='city'\n",
        "end_with_0"
      ]
    },
    {
      "cell_type": "code",
      "execution_count": null,
      "metadata": {
        "colab": {
          "base_uri": "https://localhost:8080/",
          "height": 109
        },
        "id": "5jiwP44hCwwU",
        "outputId": "0e97bdac-1898-47a8-f152-3b714043851f"
      },
      "outputs": [
        {
          "ename": "SyntaxError",
          "evalue": "invalid decimal literal (<ipython-input-10-7a54c0a53a84>, line 1)",
          "output_type": "error",
          "traceback": [
            "\u001b[0;36m  File \u001b[0;32m\"<ipython-input-10-7a54c0a53a84>\"\u001b[0;36m, line \u001b[0;32m1\u001b[0m\n\u001b[0;31m    0_end_with='city'\u001b[0m\n\u001b[0m     ^\u001b[0m\n\u001b[0;31mSyntaxError\u001b[0m\u001b[0;31m:\u001b[0m invalid decimal literal\n"
          ]
        }
      ],
      "source": [
        "0_cannot_start_with_zero='city'\n",
        "0_cannot_start_with_zero"
      ]
    },
    {
      "cell_type": "code",
      "execution_count": null,
      "metadata": {
        "colab": {
          "base_uri": "https://localhost:8080/",
          "height": 36
        },
        "id": "AAQgXOyuSxJa",
        "outputId": "04a5c0bd-3d74-4f68-a6e3-81c27db37c18"
      },
      "outputs": [
        {
          "data": {
            "application/vnd.google.colaboratory.intrinsic+json": {
              "type": "string"
            },
            "text/plain": [
              "'city'"
            ]
          },
          "execution_count": 58,
          "metadata": {},
          "output_type": "execute_result"
        }
      ],
      "source": [
        "ends_with_digit_66='city'\n",
        "ends_with_digit_66"
      ]
    },
    {
      "cell_type": "code",
      "execution_count": null,
      "metadata": {
        "colab": {
          "base_uri": "https://localhost:8080/",
          "height": 111
        },
        "id": "rFsS5GVYTU4I",
        "outputId": "d4ac8a00-613f-44e4-8c3e-df830228bd7a"
      },
      "outputs": [
        {
          "ename": "SyntaxError",
          "evalue": "invalid syntax (<ipython-input-61-801b336acab9>, line 1)",
          "output_type": "error",
          "traceback": [
            "\u001b[0;36m  File \u001b[0;32m\"<ipython-input-61-801b336acab9>\"\u001b[0;36m, line \u001b[0;32m1\u001b[0m\n\u001b[0;31m    with = 88\u001b[0m\n\u001b[0m         ^\u001b[0m\n\u001b[0;31mSyntaxError\u001b[0m\u001b[0;31m:\u001b[0m invalid syntax\n"
          ]
        }
      ],
      "source": [
        "with = 88"
      ]
    },
    {
      "cell_type": "markdown",
      "metadata": {
        "id": "x3goso0hTbID"
      },
      "source": [
        "\n",
        "\n",
        "---\n",
        "\n",
        "---\n",
        "\n",
        "\n",
        "\n"
      ]
    },
    {
      "cell_type": "markdown",
      "metadata": {
        "id": "XRT-NeAW8h2k"
      },
      "source": [
        "# 6.Taking user input"
      ]
    },
    {
      "cell_type": "markdown",
      "metadata": {
        "id": "y4xNaAnC8x-f"
      },
      "source": [
        "**Types of software**\n",
        "- **Static** (user cannot interact. It is unidirectional. i.e clock)\n",
        "- **Dynamic** (user can interact. It is biidirectional. i.e website like facebook and youtube where we can comment for example)"
      ]
    },
    {
      "cell_type": "code",
      "execution_count": null,
      "metadata": {
        "colab": {
          "base_uri": "https://localhost:8080/"
        },
        "id": "8wG5EmlEUlgQ",
        "outputId": "a584904f-6198-4367-b36c-df5f834e441b"
      },
      "outputs": [
        {
          "name": "stdout",
          "output_type": "stream",
          "text": [
            "enter first number44\n",
            "enter second number55\n"
          ]
        }
      ],
      "source": [
        "first_num=input('enter first number')\n",
        "second_num=input('enter second number')"
      ]
    },
    {
      "cell_type": "code",
      "execution_count": null,
      "metadata": {
        "colab": {
          "base_uri": "https://localhost:8080/"
        },
        "id": "iPcJekxYVC01",
        "outputId": "a94b098f-3fc8-46bc-cca6-5237b239d492"
      },
      "outputs": [
        {
          "name": "stdout",
          "output_type": "stream",
          "text": [
            "44\n",
            "55\n"
          ]
        }
      ],
      "source": [
        "print(first_num)\n",
        "print(second_num)"
      ]
    },
    {
      "cell_type": "code",
      "execution_count": null,
      "metadata": {
        "colab": {
          "base_uri": "https://localhost:8080/"
        },
        "id": "LeisJaoUWQ9A",
        "outputId": "08756b48-4d6c-4baf-dc6a-9d6aecf3562c"
      },
      "outputs": [
        {
          "data": {
            "text/plain": [
              "str"
            ]
          },
          "execution_count": 17,
          "metadata": {},
          "output_type": "execute_result"
        }
      ],
      "source": [
        "type(first_num)"
      ]
    },
    {
      "cell_type": "code",
      "execution_count": null,
      "metadata": {
        "colab": {
          "base_uri": "https://localhost:8080/",
          "height": 36
        },
        "id": "KjsmmSuWVoxs",
        "outputId": "fbb15ddb-2d95-4185-ebc4-c496993ac365"
      },
      "outputs": [
        {
          "data": {
            "application/vnd.google.colaboratory.intrinsic+json": {
              "type": "string"
            },
            "text/plain": [
              "'4455'"
            ]
          },
          "execution_count": 18,
          "metadata": {},
          "output_type": "execute_result"
        }
      ],
      "source": [
        "first_num+second_num"
      ]
    },
    {
      "cell_type": "markdown",
      "metadata": {
        "id": "5rajWc5MWEPW"
      },
      "source": [
        "\n",
        "\n",
        "---\n",
        "\n",
        "\n",
        "\n",
        "---\n",
        "\n"
      ]
    },
    {
      "cell_type": "markdown",
      "metadata": {
        "id": "CKUTs4Q4-ohc"
      },
      "source": [
        "# 7.Type conversion\n",
        "- **implicit** (programming languague done itself)\n",
        "- **explicit** (we have to done ourself)"
      ]
    },
    {
      "cell_type": "code",
      "execution_count": null,
      "metadata": {
        "colab": {
          "base_uri": "https://localhost:8080/"
        },
        "id": "wgjlhbdxXghE",
        "outputId": "bf17fad8-8505-40cc-f8d4-3ec2a6a10c1c"
      },
      "outputs": [
        {
          "name": "stdout",
          "output_type": "stream",
          "text": [
            "enter first number44\n",
            "enter second number22\n"
          ]
        }
      ],
      "source": [
        "first_num=int(input('enter first number'))\n",
        "second_num=int(input('enter second number'))"
      ]
    },
    {
      "cell_type": "code",
      "execution_count": null,
      "metadata": {
        "colab": {
          "base_uri": "https://localhost:8080/"
        },
        "id": "WJU37toEX3_f",
        "outputId": "f10bb16d-64cd-4c12-bf68-3a70d6813f78"
      },
      "outputs": [
        {
          "data": {
            "text/plain": [
              "int"
            ]
          },
          "execution_count": 20,
          "metadata": {},
          "output_type": "execute_result"
        }
      ],
      "source": [
        "type(first_num)"
      ]
    },
    {
      "cell_type": "code",
      "execution_count": null,
      "metadata": {
        "colab": {
          "base_uri": "https://localhost:8080/"
        },
        "id": "Yjlr3ReSX7k6",
        "outputId": "e04a57bb-e999-40b1-9c78-78a218dfe039"
      },
      "outputs": [
        {
          "data": {
            "text/plain": [
              "66"
            ]
          },
          "execution_count": 21,
          "metadata": {},
          "output_type": "execute_result"
        }
      ],
      "source": [
        "first_num+second_num"
      ]
    },
    {
      "cell_type": "markdown",
      "metadata": {
        "id": "t-XKrMUhWN1H"
      },
      "source": [
        "\n",
        "\n",
        "---\n",
        "\n",
        "\n",
        "\n",
        "---\n",
        "\n"
      ]
    },
    {
      "cell_type": "markdown",
      "metadata": {
        "id": "hPGZ3zh6Woa1"
      },
      "source": [
        "**Data range in python**"
      ]
    },
    {
      "cell_type": "code",
      "execution_count": null,
      "metadata": {
        "colab": {
          "base_uri": "https://localhost:8080/"
        },
        "id": "YyFrhLtATxh7",
        "outputId": "76f052d2-0d8a-4a7f-95f1-552e3cb94f01"
      },
      "outputs": [
        {
          "data": {
            "text/plain": [
              "2e+222"
            ]
          },
          "execution_count": 5,
          "metadata": {},
          "output_type": "execute_result"
        }
      ],
      "source": [
        "2*1e222"
      ]
    },
    {
      "cell_type": "code",
      "execution_count": null,
      "metadata": {
        "colab": {
          "base_uri": "https://localhost:8080/"
        },
        "id": "w4sVLae_FqC1",
        "outputId": "06f8dd7b-7471-483e-d899-d8e91854baab"
      },
      "outputs": [
        {
          "data": {
            "text/plain": [
              "1e+308"
            ]
          },
          "execution_count": 22,
          "metadata": {},
          "output_type": "execute_result"
        }
      ],
      "source": [
        "1e308"
      ]
    },
    {
      "cell_type": "code",
      "execution_count": null,
      "metadata": {
        "colab": {
          "base_uri": "https://localhost:8080/"
        },
        "id": "2T-Wo0J9WDgz",
        "outputId": "cd6df9ca-fe0a-4ff8-bedb-e46f4fe9ea88"
      },
      "outputs": [
        {
          "data": {
            "text/plain": [
              "inf"
            ]
          },
          "execution_count": 23,
          "metadata": {},
          "output_type": "execute_result"
        }
      ],
      "source": [
        "1e309"
      ]
    },
    {
      "cell_type": "markdown",
      "metadata": {
        "id": "bG2laOmVWQDV"
      },
      "source": [
        "\n",
        "\n",
        "---\n",
        "\n"
      ]
    },
    {
      "cell_type": "markdown",
      "metadata": {
        "id": "mNawfScIvawX"
      },
      "source": [
        "# 8.Literals"
      ]
    },
    {
      "cell_type": "markdown",
      "metadata": {
        "id": "-DQg-3eKvhAA"
      },
      "source": [
        "## 1.Numericals"
      ]
    },
    {
      "cell_type": "markdown",
      "metadata": {
        "id": "16pOhv6uvqsh"
      },
      "source": [
        "### A. Integer"
      ]
    },
    {
      "cell_type": "markdown",
      "metadata": {
        "id": "EGSi1iy2xGjx"
      },
      "source": [
        "![image.png](data:image/png;base64,iVBORw0KGgoAAAANSUhEUgAAAMMAAACOCAYAAACMubwYAAAQwklEQVR4Ae2dW4scxxmG538EDA6EYHIhAg6GQEiuEoKRIQRy40AI+EK58JVDMMYQSHxANk4UAomJIiTHAuVoO2ElY2QjhOREUmwWZLDCBEW+0HF35F1pdjTWAVV4qufrqe3t3umd7pntw7vQdHedurrqfeqrmu2q6rjE3/37992dO3fccDjUoTJolQY6IQv37t1r1csLeDV4oQZiGO7evSsQZAm2XQMXVwbu9x9fd99676o/3r90Y2558jDIIqiFDFvI7bgGgl+djSB45J0rHgTOgDGv/HQYI8zrYXqOoEvTwPnewD11esl9/shl9/0TkUXYFsugwbIEmibQeblhEQwEukTc/+zDZYdVAAxASeaFMBy49wfUX3gd1SfukV+ifvuXRukRpx+kPXCd5IN0nyg8jSMCwRQvGwSKkE2sdI0QPoeJ963zK/4+rYuEG2GxHMQFHA7iAs/ZK2vO4hMOv1vLXXfj7Z1u9W9fdiuHHoiu//Fd9+m+jhtc/sAf+AkGib1UsW/WmFp3CNFiDQwEhG3CRcjcE8Zaf0uTe9wJwzUHYicdgwHrQlqkjx9dr/9cOOcBQPhrnxxzq29+2w3Xeu7mP59xN0/viY8YhqXeamahbOZnGbWz0W33ds5yN3+di7e6VS5DQEDI1qobAJztwM/807pHuBE29DMYeHcAMBgABGiwJINrF9zN937gzwCx+vYTXuv9j//sbp56wR9A0rl8dcX98KmD7otfed698rujqUDs2rXPnf7wv6l+YQV0z19yX/verzeEw/3Zl950PCsMr+tmA2D1SwuOUE3oJv60M8CEYrc07Iz4iUd6CN0siaVv1oJ0CMvZukmcxzAMIotw6oXIWtBNAgCDACG/eeTfGwRrICBm/DnMzTLJGdF/9bE9/oy/WRTO+BEGd+IfOvJR7GbuuIVph8/jmrirq5EFI1z4bF1XFyz68YgV4XKNQJMgAArintSDwN9afIPG7kkbHYRhIre+h4CuEQdAEA44OLjGrYNVMGEjMFrwpLC+8/hvYoF/4Zsve3h2PrHXCzcMazDg96Nn/hinhTv3QEH6QAeApEt8nk8c3DiTJ0RPfjqfeza2KviRFi/70EM/3ZDPMC+6rhYcJnJE98rhNzZYCWCY5z/Y0vSxAYZf7FnYILKdj/3SCxbRImoSQqjJsAYDrTgvb90r3BG4wWCWiK4Z4bi3lp5nAIzBQDzLuMHAPXHNXedqCT+rPmiF+TWHAyAY3IYWAsuQFXce7h0EjRgRKmIzUYYPT8KAgLNgwHIAAwctP+LOA4PlgXQBzmAw+MgP+bP0BEM9AAh15H/afL3jVl7v+J81Dyx2ffcJIKybFIZPu15cXHQHDhxw3W7XcX3y5El/Pnz4sFtaWvIH17gT5ujRo3E43C9evOjv8SN9whHmzJkzrmNCRWjWIiczQQtPOGu1DQZr4S08AJAOBy26+ROXtAEONwMOWBA98RA9B3EJwzN4Xmh93nj3Y58uYQRDvWDg1xog8MehB/wvOOiGX33sP88Mfk1LWWf0gngRNeLmMCjwAwjcAMbAsTAAwME94ucZBgLx/E+riBHhIcC0TCBm/BAzYQkTXlscwhDWwLH0yCRuhCM+cbk2N3O3Vj98RhiGa0ABhtBi2PN1Tq+/7S+Xvv85k39y8bMmYJAnBrcGgg1+J+XVa6nb9Y0oAgYKDsSNH4e5mfjtnvBhGJ5FGKDhHP+fYVImquAPDEAAELxUFfKkPEwGkLEC/+CKfrkZfwLBr0FYhjwWYVI5F9GDxa0VDJMKRP6Thakyyi4jwaDPMWRhRxoQDIJBMAiGbHOprkQ7y0aWQZZBlkGWoZ2tn6xedr3LMsgyyDLIMmS3EGo921k2sgyyDLIMsgztbP1k9bLrXZZBlkGWQZYhu4VQ69nOspFlkGWQZZBlaGfrJ6uXXe+yDLIMsgyyDNkthFrPdpaNLIMsgyyDLEM7Wz9Zvex6l2WQZZBlkGXIbiGSrafNkU266z5/GdahrGQZJlgGVlZgOZE6VKbyWAxOwZADBtbZkdCKCa0O5ScYBMNMQWd5n7p0MwWDYJgpDKxxFS4EV2ULIRgEw0xh+Pquv/jVGqsMgeWt1TD0/7fo+ueOu1sr1zIFwQA6z5iB1eFsvwAKl+USOWyJTSvwup4pI8qKXXDyvgMWofPIb/0KiHnjbGe4lsIwcDcWF9z1Pzzulg/ucr2//iQTiDwwsFnGN/607H787qdeKOwzwP3jf+95t/oD0fdlRXlx5AXiuVdPOCzDruffqUVXqaUwDKP9va5d8BAAA3CktUp5YMAiAAIHwgcErALuAJF3Ud2051fB7capg77RYItZrimvyfmKLCUrp2MhbDHpyfG271er1sJglYL5xzoUgYG0Xjt7w8OA8AHArAHuPz81+73sECndGPJCy837WPfPuoPRfskDN74f+jC+qzjazolr0rLy4Yw1sLRJ4+pLDyf2UM4WMDDYquthmlW8bjUMBsL1hd2xcJKVlMcyECeEActgMAACfsl0y75H/IicdNNgiGBn/4OBF7aJmzII45JGFHYscGAwN9IWDBN+dSm7cmedHpXq+8ALuzdt5bYKA/kGBgCgm2Rdplm/zyzTBwTKis0B6SLl6yZFMMkyVBwcWkMq9OqLD/pWjpbOWr6kqKaBwSD40r5rc7EKyTyXfz9wWE/K6fr+R7dk5QRDxWGIxDLwLd1wyOYZ4w00kkLKC0PUHx93LUjHukrJNOt7n11OWe8kGGoBw3rhZlVmfhjypZf1nKa6CwbBsKWuRFNB4L0Eg2AQDCMNCAbBIBgEQ3X6zXw2zJambIla5GBiD3sKF0ljHnF51yp2t2QZKmAZyoRhz549gmHKOhUMUxZcFVs2fk3StM/pLb5gaBgMeT7hriLIVciTYBAMley/bwccgkEwCIaRBgSDYBAMgmH6gda8Tbj/dHk0UYUvWLOen/dzDPuEmwk+XDfqu6S1np/jsFk5ZZWfLEPlLUM0Y4tJPXyNyZeYNhcgWal5YLi4MnD2hSogMO0zmU6d7/lalSOrjDZ7N8FQeRiwYOMvMPmcOzm7yyo4DwyIHxhsIs92WAVabawd+eY6Em70juN73ns00200EYg4hLVWn3u7tjLAzc92G8Ux9zxnwVALGKIuHULwlmE0ZTJZwXlgYP4CILAwAN2keUzzTOYznPbJLDbEa6LGDytIA+CFvbA7nqBza7nrr20+h5/I4yc8jbu8gqFGgk4KI+89omGCjwkhLV4eGMJ4ABHOgQ79ZnmNYMdzKiLR2z1+kX9kGdbfR2HNf71fBARusgwNBgIArjzd8WOGsJuQFGweGGwRAMYLgMA5mU6d7wVDg0Ggu2DdAT+AXtidOTjMAwNjBABo5C9JXgd9/ZpU59asrLzngaGsZzUxHQ2gG2RVBMN4ID0NrIJBMDRqzDANBBZHMAgGwTDSgGAQDIJBMBTrX5ppLePMTDemW548ebLQwVwGpn0WTWfW8TXts7j2GrvWKjB0u10/DxqhTHsgYmCYNv684vGuZTQiZaehbpK6SZUUZtlCz5OeYBAMgkFjhuL9tjytzTzD6P8MxepUlkGWQZZBlqFYKzLPFj/vs2QZitWpLEMtLEM/ngRjny+nAZIXBma72T5uaenU3Y0y2uzr3qz3Eww1gMF/tbr/UT/phYkvWUDkgcE+4ebzbY6mTftkkhDzGSgn5n/YpKEsAEJ3wVB5GAa+QqNKHUQzvRKb+lmF5oGBmW4AQRz7lHveUz+TM92YysosNvJkn6v7qa6jyf18uo6fF/rC7niCExOeklNguY+2rormjgOGlc+ks2CoPAxhP3jgp30imLSKzQNDGI8pn8xrCN3mcY2IrcWmO+MFvdbz+Vgv8Gguh70vFpGwg8sf+LCc1z45ti7/fpZbPC227xcHyLKkyXcVDDWBwbeK+x/1s92SlWj3eWHAEgAC3STGDxa/CWdgMHgoM1bKyPtegqEGMNhCANadyGrp8sBANwlrwM6ezIFuGgxYFltOx5bXEQw1EHm+Sur7PvDyyx1fyVS0tXzJ+HlgYJzAUjHAwLEdq2Mk813u/WisEFvR8TI7k54jy9AYaIYuDwyTBNFmf8EgGHL3qZsOimAQDIJhpAHBIBgEg2AIf79vxvXS0pK2sSrQuMkyFCi8svrQzHRjlhr7sRU5mPbJBodF0phHXKa4llV2ZaYjGCoCA1Mhix6IjGmfRdOZdXx+9SpTxGWlJRgqAENZlamfVot1dwWDYKhkK11WA7GVdASDYBAMIw0IBsEgGARDsf7lVszvvMLmHTPwNad9Qj2vvNXhObIMLbMMfOTHDLBoAkzzGoQi0AmGlsHg50UE+6QVEU/T4gqGlsGAgMdTI2UZQqAFg2DQAHqkAcEgGASDYGheFyHvr0kMom3FibCb0PZrWYYWWoa2iz7r/QWDYFA3Sd2k9naTslrGtrvLMjTMMjAfoe2invb9BUODYJhWBIoX9RIEQ8NhYPU8KvnQkY90TCiD51494ZZ6q7WwrI3d4HDWLTMVfPnqio4cZTDruigrfcHQcCtWllDakI5gEAy16MLMA0bBIBgEw0gDgkEwCAbB0Lx/EM6jK9HkZ8gyyDLIMsgyyDI0uZWf5t1kGWQZZBlkGWQZpmk9mxxHlkGWQZZBlkGWocmt/DTvJsswQ8uQ3Bi9lF1AR3s7x5Xt71M2HEyGGw5d1o6mcVozLIs6PEMwzEAAiJ6tcNkFNBLBIN4jmp1Ak5DkEspaL1iOJhI/y9OwRzOLl4Wr+bFVLVvUmput6zTezzkFnhmUQ673qtBzBcMMKgPBsxUuG6QjCO5tj2jOY0jyd9VYcODTfR2/ch8tvBf8yx03uPyBhwGhD4cDDwDXV57u+DA8H1hwszjsgV03oc4jv4KhAAwL/+q5D8+lf6uP4IEBKwAY1kXCHSA2q1w2NmF2HTsPsQNRHHat566+9LAXvRf4wm7v51v+vTtiS0B4v4n5uePOb/6+d0fcRRovdjYYp1ugDOK8NSANwVCgEgHh7JW1VFEZDOd7Aw+DiYbwwGH3aWe2znryySf9wZ5ycZj+pREM0abua58cG/n1fct/a7kbh41hOHfcg2HjBb+kzciKxOkWKIMmpSEYZiQEgwGLEFqGt85HXabNRLS4uOgAAuuwzjIkYKCVJ52tWgbGE3SpNstDG/0EwxQw5BkAGwyIisE0XSbA4IzfVGIDhhcfdMNh39HCLzNmuHbBL16GJQgFbpaBsIifBc4ISzeLscNUz5+irOr0HMGw5QoeuORYIXmPALAAQBCJIYKAsQJuBhNwAAb3hOeablWmgNZ6XtgInDAIHHEzOEboYTzGFDZQ5uyB2LvD/yJl8elWYV0AK4zb1mvBsGUYhn7Q3D1/KRZQ2tgBgdug2cSVFDr3AMLZforllycLn3ZOip57Gw+E4SO3AKy13gZggAQrcX3vjk2fGabb5GvBMAUMZQoCCBhUGwT2c2yZz9gsLf9rk+9i5f+Zd7P06uzXuXPnjlqFbQTCxhJAARBTjyemeAezCuomRQ1B5/79+4JhCiGV1QK+fykaTGMdbPxQVtqT0gEG/1/s0f8rJoVvun/HOefu3bsnILYRiKaLrC7v52EAiLt37woIAdFqDcQwyEJoAFmXFnxW+VwHA0AwhtCgWmDMSnBVTncDDADBH1DQdbp9+7b77LPPWm0+q1yByluxhgtto3G0ngnDiAmdVAKtKQHB0Jqq1otOKoH/A/b54A95xhl/AAAAAElFTkSuQmCC)"
      ]
    },
    {
      "cell_type": "markdown",
      "metadata": {
        "id": "HpSN9I_Mxw4x"
      },
      "source": [
        "**Octa integers**\n",
        "- In Python, octal integers are represented by a leading \"0o\" prefix. The octal number `0o60` is composed of the octal digit `6` (which is equivalent to the decimal digit `6`) and `0` (which is equivalent to the decimal digit `0`). Therefore, `0o60` in octal is equivalent to the decimal number `6`. The octal prefix \"0o\" is used to distinguish octal literals from decimal literals in Python.\n",
        "\n",
        "**hexadecimal vales**\n",
        "\n",
        "In hexadecimal (base-16), each digit represents powers of 16. Let's break down the hexadecimal number `0x300` to understand how it becomes 768 in decimal (base-10):\n",
        "\n",
        "- The rightmost digit `0` represents `0` in decimal.\n",
        "- The middle digit `0` (to the left of the rightmost digit) also represents `0` in decimal.\n",
        "- The leftmost digit `3` (to the left of the middle digit) represents `3 * 16^2` in decimal.\n",
        "\n",
        "Now, calculate the value:\n",
        "\n",
        "```\n",
        "3 * 16^2 = 3 * 256 = 768\n",
        "```\n",
        "\n",
        "So, the hexadecimal number `0x300` is equivalent to the decimal number `768` because of the position of the digits and the base-16 representation."
      ]
    },
    {
      "cell_type": "code",
      "execution_count": null,
      "metadata": {
        "colab": {
          "base_uri": "https://localhost:8080/"
        },
        "id": "EWRvb66UW3Tu",
        "outputId": "45c6bc7e-1a2a-4038-e841-029ffd275f59"
      },
      "outputs": [
        {
          "name": "stdout",
          "output_type": "stream",
          "text": [
            "25 10 48 768\n"
          ]
        }
      ],
      "source": [
        "a=25 #Decimal integers\n",
        "b= 0b1010 # Binary integers\n",
        "c= 0o60 # Octa integers\n",
        "d= 0x300 # Hexadecimal values\n",
        "print(a,b,c,d)"
      ]
    },
    {
      "cell_type": "markdown",
      "metadata": {
        "id": "FYPub-CTZLtO"
      },
      "source": [
        "##B.Float"
      ]
    },
    {
      "cell_type": "code",
      "execution_count": null,
      "metadata": {
        "colab": {
          "base_uri": "https://localhost:8080/"
        },
        "id": "QZ2VHunGZQEP",
        "outputId": "869e521a-ae0d-49a3-9d0e-47dd7d20cbeb"
      },
      "outputs": [
        {
          "name": "stdout",
          "output_type": "stream",
          "text": [
            "2.5 0.0044\n"
          ]
        }
      ],
      "source": [
        "float_1=2.5\n",
        "float_2= 4.4e-3\n",
        "print(float_1,float_2)"
      ]
    },
    {
      "cell_type": "markdown",
      "metadata": {
        "id": "gItiN6MWZeok"
      },
      "source": [
        "##C. Complex"
      ]
    },
    {
      "cell_type": "code",
      "execution_count": null,
      "metadata": {
        "colab": {
          "base_uri": "https://localhost:8080/"
        },
        "id": "kOlthzHBZio6",
        "outputId": "59f3fff8-c5f6-402c-991f-4d574ab5c89d"
      },
      "outputs": [
        {
          "name": "stdout",
          "output_type": "stream",
          "text": [
            "(9+5.7j)-5.7-9.0\n"
          ]
        }
      ],
      "source": [
        "d= 9+5.7j\n",
        "print(d , d.imag, d.real, sep='-')"
      ]
    },
    {
      "cell_type": "markdown",
      "metadata": {
        "id": "hosQMI-aaK_u"
      },
      "source": [
        "#2.String literals"
      ]
    },
    {
      "cell_type": "markdown",
      "metadata": {
        "id": "rGP5DNcqbTMo"
      },
      "source": [
        "https://docs.python.org/3/howto/unicode.html"
      ]
    },
    {
      "cell_type": "markdown",
      "metadata": {
        "id": "aF6iK2Jez4kv"
      },
      "source": [
        "**Explaination**\n",
        "1. `unicode = '\\U0001F600'`: This line assigns a Unicode character to the variable `unicode`. The Unicode escape sequence `\\U0001F600` represents the emoji character \"😀\". The `U` in `\\U` indicates that it's a Unicode escape sequence, and `0001F600` is the Unicode code point for the \"😀\" emoji.\n",
        "\n",
        "2. `raw_string = r'raw\\\\n/p/string'`: This line assigns a raw string to the variable `raw_string`. In raw strings, a single backslash is treated literally, so to represent a single backslash, you need to use two consecutive backslashes. The string contains the characters \"r\", \"a\", \"w\", \"\\\", \"\\\", \"n\", \"/\", \"p\", \"/\", \"s\", \"t\", \"r\", \"i\", \"n\", \"g\".\n"
      ]
    },
    {
      "cell_type": "code",
      "execution_count": null,
      "metadata": {
        "colab": {
          "base_uri": "https://localhost:8080/"
        },
        "id": "rpZ_X0OcaRkT",
        "outputId": "611e3f3f-11ce-48a8-c0ab-161abac75a36"
      },
      "outputs": [
        {
          "name": "stdout",
          "output_type": "stream",
          "text": [
            "😀 raw\\\\n/p/string\n"
          ]
        }
      ],
      "source": [
        "unicode= '\\U0001F600'\n",
        "raw_strings= r'raw\\\\n/p/string' # Using double backlashes for raw string\n",
        "print(unicode,raw_strings)"
      ]
    },
    {
      "cell_type": "markdown",
      "metadata": {
        "id": "nSIIgAEZcAlC"
      },
      "source": [
        "#3.Boolean"
      ]
    },
    {
      "cell_type": "code",
      "execution_count": null,
      "metadata": {
        "colab": {
          "background_save": true,
          "base_uri": "https://localhost:8080/"
        },
        "id": "MaeMP1JocDjT",
        "outputId": "91b6344d-f585-4bee-adf7-d51cadb6ab9c"
      },
      "outputs": [
        {
          "name": "stdout",
          "output_type": "stream",
          "text": [
            "6 3\n"
          ]
        }
      ],
      "source": [
        "a= True+5\n",
        "b= False+3\n",
        "print(a,b)"
      ]
    },
    {
      "cell_type": "markdown",
      "metadata": {
        "id": "MQVETa-K1aWs"
      },
      "source": [
        "## 4.Special\n",
        "\n",
        "- It is used when variable decleration is required but we donot assign any value to the variable. We just want to keep it in the code."
      ]
    },
    {
      "cell_type": "code",
      "execution_count": null,
      "metadata": {
        "colab": {
          "base_uri": "https://localhost:8080/"
        },
        "id": "JJxag4Xtcp4C",
        "outputId": "bb573b6a-dae0-462e-f0c1-731d05754056"
      },
      "outputs": [
        {
          "name": "stdout",
          "output_type": "stream",
          "text": [
            "None\n"
          ]
        }
      ],
      "source": [
        "a=None\n",
        "print(a)"
      ]
    },
    {
      "cell_type": "markdown",
      "metadata": {
        "id": "ZJBAIPbzdNuz"
      },
      "source": [
        "\n",
        "\n",
        "---\n",
        "\n",
        "\n",
        "\n",
        "---\n",
        "\n"
      ]
    },
    {
      "cell_type": "markdown",
      "metadata": {
        "id": "jBJsD2UX2FZ8"
      },
      "source": [
        "#9.Operators\n",
        "\n",
        "\"Operators are used to perform operations on variables and values\". Python has the following operators:\n",
        "\n",
        "- Arithmetic operators\n",
        "- Comparison operators\n",
        "- Logical operators\n",
        "- Bitwise operators\n",
        "- Assignment operators\n",
        "- Identity operators\n",
        "- Membership operators"
      ]
    },
    {
      "cell_type": "markdown",
      "metadata": {
        "id": "57G2ca6VdjBk"
      },
      "source": [
        "##1.Arithmetic"
      ]
    },
    {
      "cell_type": "code",
      "execution_count": null,
      "metadata": {
        "colab": {
          "base_uri": "https://localhost:8080/"
        },
        "id": "xEHNlIM5dh_S",
        "outputId": "b0de41e4-37bf-4856-a266-47fa6f202e8e"
      },
      "outputs": [
        {
          "name": "stdout",
          "output_type": "stream",
          "text": [
            "13\n"
          ]
        }
      ],
      "source": [
        "x=11\n",
        "y=2\n",
        "print(x+y)"
      ]
    },
    {
      "cell_type": "code",
      "execution_count": null,
      "metadata": {
        "colab": {
          "base_uri": "https://localhost:8080/"
        },
        "id": "_lsuCazmduly",
        "outputId": "e3ca39a1-94c0-4534-e3e0-87ccf19fdb06"
      },
      "outputs": [
        {
          "name": "stdout",
          "output_type": "stream",
          "text": [
            "9\n"
          ]
        }
      ],
      "source": [
        "print(x-y)"
      ]
    },
    {
      "cell_type": "code",
      "execution_count": null,
      "metadata": {
        "colab": {
          "base_uri": "https://localhost:8080/"
        },
        "id": "TgAOWoyIdxvO",
        "outputId": "5e48c275-4ffc-4a64-f7a8-8047674fcd4e"
      },
      "outputs": [
        {
          "name": "stdout",
          "output_type": "stream",
          "text": [
            "22\n"
          ]
        }
      ],
      "source": [
        "print(x*y)"
      ]
    },
    {
      "cell_type": "code",
      "execution_count": null,
      "metadata": {
        "colab": {
          "base_uri": "https://localhost:8080/"
        },
        "id": "dfjPKYbldz7t",
        "outputId": "1c0b83cd-3d31-4ff6-95f1-3755b3766f40"
      },
      "outputs": [
        {
          "name": "stdout",
          "output_type": "stream",
          "text": [
            "5.5\n"
          ]
        }
      ],
      "source": [
        "print(x/y)"
      ]
    },
    {
      "cell_type": "code",
      "execution_count": null,
      "metadata": {
        "colab": {
          "base_uri": "https://localhost:8080/"
        },
        "id": "Dut02DjSd5CR",
        "outputId": "ae8a9ff3-881c-451a-dfb0-37fd9a96483f"
      },
      "outputs": [
        {
          "name": "stdout",
          "output_type": "stream",
          "text": [
            "1\n"
          ]
        }
      ],
      "source": [
        "# Modulus (remainder after the division)\n",
        "print(x%y)"
      ]
    },
    {
      "cell_type": "code",
      "execution_count": null,
      "metadata": {
        "colab": {
          "base_uri": "https://localhost:8080/"
        },
        "id": "SYkKAer8eOjb",
        "outputId": "d04e9c07-0068-4a6e-d9f8-272ce029a4d0"
      },
      "outputs": [
        {
          "name": "stdout",
          "output_type": "stream",
          "text": [
            "5\n"
          ]
        }
      ],
      "source": [
        "# Integer division (the one where the fractional part (remiander)is discarded)\n",
        "print(x//y)"
      ]
    },
    {
      "cell_type": "markdown",
      "metadata": {
        "id": "dKG3jdJlemCa"
      },
      "source": [
        "##2.Comparison"
      ]
    },
    {
      "cell_type": "code",
      "execution_count": null,
      "metadata": {
        "colab": {
          "base_uri": "https://localhost:8080/"
        },
        "id": "3JZjm46neqVK",
        "outputId": "17e7e9ca-2cda-45d5-c1d8-7c6e1b96d7f6"
      },
      "outputs": [
        {
          "name": "stdout",
          "output_type": "stream",
          "text": [
            "True\n"
          ]
        }
      ],
      "source": [
        "print(x>y)"
      ]
    },
    {
      "cell_type": "code",
      "execution_count": null,
      "metadata": {
        "colab": {
          "base_uri": "https://localhost:8080/"
        },
        "id": "nPIbkBVle3Dw",
        "outputId": "2530c926-e919-498e-8ba3-71ac32b698da"
      },
      "outputs": [
        {
          "name": "stdout",
          "output_type": "stream",
          "text": [
            "False\n"
          ]
        }
      ],
      "source": [
        "print(x<y)"
      ]
    },
    {
      "cell_type": "code",
      "execution_count": null,
      "metadata": {
        "colab": {
          "base_uri": "https://localhost:8080/"
        },
        "id": "tQU7yTDwe5G1",
        "outputId": "af012538-1865-4c68-ef7a-c81feaa103ef"
      },
      "outputs": [
        {
          "name": "stdout",
          "output_type": "stream",
          "text": [
            "True\n"
          ]
        }
      ],
      "source": [
        "print(x>=y)"
      ]
    },
    {
      "cell_type": "code",
      "execution_count": null,
      "metadata": {
        "colab": {
          "base_uri": "https://localhost:8080/"
        },
        "id": "s2pe7hUTe7IV",
        "outputId": "a964cffa-fdfe-424f-a30f-aaac535fde18"
      },
      "outputs": [
        {
          "name": "stdout",
          "output_type": "stream",
          "text": [
            "False\n"
          ]
        }
      ],
      "source": [
        "print(x<=y)"
      ]
    },
    {
      "cell_type": "code",
      "execution_count": null,
      "metadata": {
        "colab": {
          "base_uri": "https://localhost:8080/"
        },
        "id": "jASyQfVoe8yl",
        "outputId": "b1b93db8-60c0-416b-9b41-56cd692a5946"
      },
      "outputs": [
        {
          "name": "stdout",
          "output_type": "stream",
          "text": [
            "False\n"
          ]
        }
      ],
      "source": [
        "print(x==y)"
      ]
    },
    {
      "cell_type": "code",
      "execution_count": null,
      "metadata": {
        "colab": {
          "base_uri": "https://localhost:8080/"
        },
        "id": "CZJ2uDRKfRG5",
        "outputId": "303f2236-3e29-465b-e66d-ed50f9e64a7e"
      },
      "outputs": [
        {
          "name": "stdout",
          "output_type": "stream",
          "text": [
            "True\n"
          ]
        }
      ],
      "source": [
        "print(x!=y)"
      ]
    },
    {
      "cell_type": "markdown",
      "metadata": {
        "id": "4L99vYdFfXlS"
      },
      "source": [
        "#3.Logical"
      ]
    },
    {
      "cell_type": "code",
      "execution_count": null,
      "metadata": {
        "colab": {
          "base_uri": "https://localhost:8080/"
        },
        "id": "inhEIuOFfgzi",
        "outputId": "0f2cc0be-e44c-4b0c-ad11-4b6238fdf474"
      },
      "outputs": [
        {
          "output_type": "stream",
          "name": "stdout",
          "text": [
            "False\n"
          ]
        }
      ],
      "source": [
        "x= False\n",
        "y= True\n",
        "print(x and y)"
      ]
    },
    {
      "cell_type": "code",
      "execution_count": null,
      "metadata": {
        "colab": {
          "base_uri": "https://localhost:8080/"
        },
        "id": "PlVMMLVZf5zU",
        "outputId": "48ee8665-84d5-4df4-de6e-0c59390b2ae6"
      },
      "outputs": [
        {
          "output_type": "stream",
          "name": "stdout",
          "text": [
            "True\n"
          ]
        }
      ],
      "source": [
        "print(x or y)"
      ]
    },
    {
      "cell_type": "code",
      "execution_count": null,
      "metadata": {
        "colab": {
          "base_uri": "https://localhost:8080/"
        },
        "id": "BziWyItWgDpl",
        "outputId": "ef84b316-da12-44cd-ff57-8c4f80148e1f"
      },
      "outputs": [
        {
          "output_type": "stream",
          "name": "stdout",
          "text": [
            "True\n"
          ]
        }
      ],
      "source": [
        "print(not x)"
      ]
    },
    {
      "cell_type": "markdown",
      "metadata": {
        "id": "0A7qe2Tq6QRI"
      },
      "source": [
        "## 4.Bitwise\n",
        "It always works on binary values\n",
        "\n",
        "![image.png](data:image/png;base64,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)"
      ]
    },
    {
      "cell_type": "markdown",
      "metadata": {
        "id": "_ORkUcidh9Yc"
      },
      "source": [
        "-  the result of x | y is 111 in binary, which is equivalent to 7 in decimal."
      ]
    },
    {
      "cell_type": "markdown",
      "metadata": {
        "id": "jxMyP2aB07GG"
      },
      "source": [
        "- The bitwise AND operation sets each bit in the result to 1 only if the corresponding bits in both x and y are 1. In this case, none of the bits have a common 1, resulting in 0"
      ]
    },
    {
      "cell_type": "code",
      "execution_count": null,
      "metadata": {
        "colab": {
          "base_uri": "https://localhost:8080/"
        },
        "id": "Ez3JRBG7giRG",
        "outputId": "01c3b12e-0c4f-4f06-ad04-10bc5f9b2a03"
      },
      "outputs": [
        {
          "output_type": "stream",
          "name": "stdout",
          "text": [
            "0\n"
          ]
        }
      ],
      "source": [
        "x=2 #10\n",
        "y=5 #101\n",
        "print(x&y)"
      ]
    },
    {
      "cell_type": "markdown",
      "metadata": {
        "id": "Q478wPhf1MXv"
      },
      "source": [
        "-  the result of x | y is 111 in binary, which is equivalent to 7 in decimal."
      ]
    },
    {
      "cell_type": "code",
      "execution_count": null,
      "metadata": {
        "colab": {
          "base_uri": "https://localhost:8080/"
        },
        "id": "V9Z3PZGlhL9B",
        "outputId": "3c562d8e-f18e-47bc-a4b8-9a9b89289951"
      },
      "outputs": [
        {
          "name": "stdout",
          "output_type": "stream",
          "text": [
            "7\n"
          ]
        }
      ],
      "source": [
        "print(x|y)"
      ]
    },
    {
      "cell_type": "code",
      "execution_count": null,
      "metadata": {
        "colab": {
          "base_uri": "https://localhost:8080/"
        },
        "id": "KeB86k5shoAi",
        "outputId": "12d5966a-9fe3-4577-f15a-820ae183d46c"
      },
      "outputs": [
        {
          "output_type": "stream",
          "name": "stdout",
          "text": [
            "-3\n"
          ]
        }
      ],
      "source": [
        "print(~x)"
      ]
    },
    {
      "cell_type": "markdown",
      "metadata": {
        "id": "zn7ZLw7-iScY"
      },
      "source": [
        "##5.Assignment (=)"
      ]
    },
    {
      "cell_type": "code",
      "execution_count": null,
      "metadata": {
        "colab": {
          "base_uri": "https://localhost:8080/"
        },
        "id": "ZtmAqiN1iXVf",
        "outputId": "20aac8cb-0482-4d90-f380-5080eaeef2ae"
      },
      "outputs": [
        {
          "output_type": "stream",
          "name": "stdout",
          "text": [
            "4\n"
          ]
        }
      ],
      "source": [
        "a=4\n",
        "print(a)"
      ]
    },
    {
      "cell_type": "code",
      "execution_count": null,
      "metadata": {
        "colab": {
          "base_uri": "https://localhost:8080/"
        },
        "id": "nvSlWCBWieuT",
        "outputId": "8cb5686f-cdbb-4042-f018-c8dfbd0ae096"
      },
      "outputs": [
        {
          "output_type": "stream",
          "name": "stdout",
          "text": [
            "7\n"
          ]
        }
      ],
      "source": [
        "a+=3\n",
        "print(a)"
      ]
    },
    {
      "cell_type": "code",
      "execution_count": null,
      "metadata": {
        "colab": {
          "base_uri": "https://localhost:8080/",
          "height": 109
        },
        "id": "6r_KUEbNirnS",
        "outputId": "1245b40a-9476-43d5-d985-ec6f840cfae7"
      },
      "outputs": [
        {
          "output_type": "error",
          "ename": "SyntaxError",
          "evalue": "invalid syntax (<ipython-input-10-703654289d06>, line 1)",
          "traceback": [
            "\u001b[0;36m  File \u001b[0;32m\"<ipython-input-10-703654289d06>\"\u001b[0;36m, line \u001b[0;32m1\u001b[0m\n\u001b[0;31m    a++=3\u001b[0m\n\u001b[0m      ^\u001b[0m\n\u001b[0;31mSyntaxError\u001b[0m\u001b[0;31m:\u001b[0m invalid syntax\n"
          ]
        }
      ],
      "source": [
        "a++=3"
      ]
    },
    {
      "cell_type": "markdown",
      "metadata": {
        "id": "UY8fr-n4i2Bd"
      },
      "source": [
        "##Identity (is)(is not)\n",
        "- It is used to check whether two variables are present on same memory location OR NOT. Memory location does not depend on variables value means it does not matter whether they have same values or not."
      ]
    },
    {
      "cell_type": "code",
      "execution_count": null,
      "metadata": {
        "colab": {
          "base_uri": "https://localhost:8080/"
        },
        "id": "UwLXwcbTi6c7",
        "outputId": "06a50b47-7601-4ae5-a43f-5a01cb1ebc48"
      },
      "outputs": [
        {
          "name": "stdout",
          "output_type": "stream",
          "text": [
            "True\n"
          ]
        }
      ],
      "source": [
        "a=5\n",
        "b=5\n",
        "print(a is b)"
      ]
    },
    {
      "cell_type": "code",
      "execution_count": null,
      "metadata": {
        "colab": {
          "base_uri": "https://localhost:8080/"
        },
        "id": "ewqrNSJ_kW1D",
        "outputId": "3470a9ad-6bbd-4daf-bad4-1b40b824c49e"
      },
      "outputs": [
        {
          "data": {
            "text/plain": [
              "132363044094320"
            ]
          },
          "execution_count": 8,
          "metadata": {},
          "output_type": "execute_result"
        }
      ],
      "source": [
        "id(a)"
      ]
    },
    {
      "cell_type": "code",
      "execution_count": null,
      "metadata": {
        "colab": {
          "base_uri": "https://localhost:8080/"
        },
        "id": "nBS5pIy9kkUx",
        "outputId": "582d258a-c3cc-461b-d1b8-59ccf687d109"
      },
      "outputs": [
        {
          "data": {
            "text/plain": [
              "132363044094320"
            ]
          },
          "execution_count": 9,
          "metadata": {},
          "output_type": "execute_result"
        }
      ],
      "source": [
        "id(b)"
      ]
    },
    {
      "cell_type": "code",
      "execution_count": null,
      "metadata": {
        "colab": {
          "base_uri": "https://localhost:8080/"
        },
        "id": "FzqQER82jlkn",
        "outputId": "263322bc-b1ce-42e7-ac30-9c391587c881"
      },
      "outputs": [
        {
          "output_type": "stream",
          "name": "stdout",
          "text": [
            "False\n"
          ]
        }
      ],
      "source": [
        "a=[1,2,3]\n",
        "b=[1,2,3]\n",
        "print(a is b)"
      ]
    },
    {
      "cell_type": "code",
      "execution_count": null,
      "metadata": {
        "colab": {
          "base_uri": "https://localhost:8080/"
        },
        "id": "wbB95gu9kCuo",
        "outputId": "436b145b-56bf-498a-cc8d-459382bdc408"
      },
      "outputs": [
        {
          "output_type": "execute_result",
          "data": {
            "text/plain": [
              "138599078731584"
            ]
          },
          "metadata": {},
          "execution_count": 12
        }
      ],
      "source": [
        "id(a)"
      ]
    },
    {
      "cell_type": "code",
      "execution_count": null,
      "metadata": {
        "colab": {
          "base_uri": "https://localhost:8080/"
        },
        "id": "CedswGwMkPBv",
        "outputId": "700720b5-a044-4c05-db10-c2d394e693aa"
      },
      "outputs": [
        {
          "output_type": "execute_result",
          "data": {
            "text/plain": [
              "138599078731200"
            ]
          },
          "metadata": {},
          "execution_count": 13
        }
      ],
      "source": [
        "id(b)"
      ]
    },
    {
      "cell_type": "markdown",
      "metadata": {
        "id": "PiFBepWDlK97"
      },
      "source": [
        "##7.Membership (in) (not in)\n",
        "- It is used to check whether one thing is present in other or not"
      ]
    },
    {
      "cell_type": "code",
      "execution_count": null,
      "metadata": {
        "colab": {
          "base_uri": "https://localhost:8080/"
        },
        "id": "J_9uAWOMlWrn",
        "outputId": "260c849f-6ebd-4906-b381-42b4dccc4063"
      },
      "outputs": [
        {
          "output_type": "stream",
          "name": "stdout",
          "text": [
            "True\n"
          ]
        }
      ],
      "source": [
        "x= 'city'\n",
        "print(\"z\" not in x)"
      ]
    },
    {
      "cell_type": "code",
      "execution_count": null,
      "metadata": {
        "colab": {
          "base_uri": "https://localhost:8080/"
        },
        "id": "ggQum_gTlvWB",
        "outputId": "c98ed725-02c0-4f63-f68a-54250e024348"
      },
      "outputs": [
        {
          "output_type": "stream",
          "name": "stdout",
          "text": [
            "True\n"
          ]
        }
      ],
      "source": [
        "x=[1,2,3]\n",
        "print(2 in x)"
      ]
    },
    {
      "cell_type": "markdown",
      "metadata": {
        "id": "YPyNvL4Ul_OQ"
      },
      "source": [
        "\n",
        "\n",
        "---\n",
        "\n",
        "\n",
        "\n",
        "---\n",
        "\n"
      ]
    },
    {
      "cell_type": "markdown",
      "metadata": {
        "id": "Omvod3gRmC8D"
      },
      "source": [
        "#10. If/else statements and Identations"
      ]
    },
    {
      "cell_type": "code",
      "execution_count": null,
      "metadata": {
        "colab": {
          "base_uri": "https://localhost:8080/"
        },
        "id": "qnpbw1HvmNFi",
        "outputId": "28198e26-7add-4d55-beea-62f1e2d8e457"
      },
      "outputs": [
        {
          "output_type": "stream",
          "name": "stdout",
          "text": [
            "write your emailxyzgmail.com\n",
            "emial is wrong write again\n"
          ]
        }
      ],
      "source": [
        "email=input('write your email')\n",
        "if '@' in email:\n",
        "  password=input('write you password as well')\n",
        "  if email == 'xyz@gmail.com'and password == '1234':\n",
        "    print('welcome')\n",
        "  elif email == 'xyz@gmail.com' and password != '1234':\n",
        "    print('password incorrect')\n",
        "    password= input('write your password again')\n",
        "    if password == '1234':\n",
        "      print('Finally correct')\n",
        "    else:\n",
        "      print('still incorrect')\n",
        "  else:\n",
        "    print(\"incorrect credentals\")\n",
        "else:\n",
        "  print(\"emial is wrong write again\")"
      ]
    },
    {
      "cell_type": "markdown",
      "source": [
        "https://www.regexlib.com/Search.aspx?k=email\n",
        "\n",
        "We can use this website to import some regular expressions for email conditioning. Previously we were only specifying '@\" sign but by using these expressions we can make sure that user should write the email in correct format."
      ],
      "metadata": {
        "id": "R_O1sx4S_cm5"
      }
    },
    {
      "cell_type": "code",
      "source": [
        "import re\n",
        "\n",
        "email = input('write your email: ')\n",
        "\n",
        "# Updated regex to validate the email format with stricter TLD validation\n",
        "email_pattern = r'^[a-zA-Z0-9_.+-]+@[a-zA-Z0-9-]+\\.(com|org|net|edu|gov)$'\n",
        "\n",
        "if re.match(email_pattern, email):\n",
        "    password = input('write your password as well: ')\n",
        "    if email == 'xyz@gmail.com' and password == '1234':\n",
        "        print('Welcome')\n",
        "    elif email == 'xyz@gmail.com' and password != '1234':\n",
        "        print('Password incorrect')\n",
        "        password = input('Write your password again: ')\n",
        "        if password == '1234':\n",
        "            print('Finally correct')\n",
        "        else:\n",
        "            print('Still incorrect')\n",
        "    else:\n",
        "        print(\"Incorrect credentials\")\n",
        "else:\n",
        "    print(\"Email is wrong, write again\")"
      ],
      "metadata": {
        "colab": {
          "base_uri": "https://localhost:8080/"
        },
        "id": "WTslNPw-7xZC",
        "outputId": "2095e176-cbeb-40f9-cce4-c27938918382"
      },
      "execution_count": null,
      "outputs": [
        {
          "output_type": "stream",
          "name": "stdout",
          "text": [
            "write your email: xyz@ggmail.com\n",
            "write your password as well: 1234\n",
            "Incorrect credentials\n"
          ]
        }
      ]
    },
    {
      "cell_type": "markdown",
      "metadata": {
        "id": "PIvzLC-AqN2x"
      },
      "source": [
        "#11.While Loop\n",
        "- When things needed to be done in a repeated manner."
      ]
    },
    {
      "cell_type": "markdown",
      "metadata": {
        "id": "6AJ5rWqvrL-P"
      },
      "source": [
        "## Table example"
      ]
    },
    {
      "cell_type": "code",
      "execution_count": null,
      "metadata": {
        "colab": {
          "base_uri": "https://localhost:8080/"
        },
        "id": "H8TFaXdRrSTw",
        "outputId": "6c19db75-aec8-4d7a-f0d2-c04a63fa6336"
      },
      "outputs": [
        {
          "output_type": "stream",
          "name": "stdout",
          "text": [
            "enter the number8\n",
            "8 * 1 = 8\n",
            "8 * 2 = 16\n",
            "8 * 3 = 24\n",
            "8 * 4 = 32\n",
            "8 * 5 = 40\n",
            "8 * 6 = 48\n",
            "8 * 7 = 56\n",
            "8 * 8 = 64\n",
            "8 * 9 = 72\n",
            "8 * 10 = 80\n"
          ]
        }
      ],
      "source": [
        "number=int(input('enter the number'))\n",
        "i=0\n",
        "while i<10:\n",
        "  i+=1\n",
        "  print(number,'*',i,'=',number*i)"
      ]
    },
    {
      "cell_type": "markdown",
      "metadata": {
        "id": "IPm7n47vth1U"
      },
      "source": [
        "##Guessing game"
      ]
    },
    {
      "cell_type": "code",
      "execution_count": null,
      "metadata": {
        "colab": {
          "base_uri": "https://localhost:8080/"
        },
        "id": "LkYTHemUtpEZ",
        "outputId": "224442ca-61a0-4148-85aa-1a531a918411"
      },
      "outputs": [
        {
          "output_type": "stream",
          "name": "stdout",
          "text": [
            "make a guess50\n",
            "think lesser number\n",
            "make a guess25\n",
            "think bigger number\n",
            "make a guess40\n",
            "think bigger number\n",
            "make a guess45\n",
            "think bigger number\n",
            "make a guess47\n",
            "think bigger number\n",
            "make a guess49\n",
            "think lesser number\n",
            "make a guess48\n",
            "right answere\n",
            "you took 7 attempts\n"
          ]
        }
      ],
      "source": [
        "import random\n",
        "jackpot=random.randint(1,100)\n",
        "guess=int(input('make a guess'))\n",
        "counter=1\n",
        "while guess != jackpot:\n",
        "  if guess < jackpot:\n",
        "    print('think bigger number')\n",
        "  else:\n",
        "    print('think lesser number')\n",
        "  guess=int(input('make a guess'))\n",
        "  counter+=1\n",
        "print('right answere')\n",
        "print(\"you took\", counter, \"attempts\")"
      ]
    },
    {
      "cell_type": "markdown",
      "metadata": {
        "id": "J4uyrAzjOCnJ"
      },
      "source": [
        "# 12.For loop\n",
        "- it performs iteration(repetative process to generate outcome)on rangeor squence function.NO need to give terminate position or increment value.\n",
        "- range fuction : It is used to grnerate integers in given range. 3 things can besend(star, stop, step)"
      ]
    },
    {
      "cell_type": "code",
      "execution_count": null,
      "metadata": {
        "colab": {
          "base_uri": "https://localhost:8080/"
        },
        "id": "dhaKSYX8RTHC",
        "outputId": "3037be16-73a4-4cb0-e9bc-3838478b5676"
      },
      "outputs": [
        {
          "data": {
            "text/plain": [
              "range(1, 20)"
            ]
          },
          "execution_count": 1,
          "metadata": {},
          "output_type": "execute_result"
        }
      ],
      "source": [
        "range(1,20)"
      ]
    },
    {
      "cell_type": "code",
      "execution_count": null,
      "metadata": {
        "colab": {
          "base_uri": "https://localhost:8080/"
        },
        "id": "1Vq_AxNlW_lW",
        "outputId": "f4cccfcd-9030-4926-d428-065630c15873"
      },
      "outputs": [
        {
          "output_type": "execute_result",
          "data": {
            "text/plain": [
              "[1, 2, 3, 4, 5, 6, 7, 8, 9, 10, 11, 12, 13, 14, 15, 16, 17, 18, 19]"
            ]
          },
          "metadata": {},
          "execution_count": 25
        }
      ],
      "source": [
        "list(range(1,20))"
      ]
    },
    {
      "cell_type": "code",
      "execution_count": null,
      "metadata": {
        "colab": {
          "base_uri": "https://localhost:8080/"
        },
        "id": "4zkKztiKXIwf",
        "outputId": "0a369a32-6214-414b-d70d-a2a5fda74c1b"
      },
      "outputs": [
        {
          "output_type": "execute_result",
          "data": {
            "text/plain": [
              "[0, 1, 2, 3, 4]"
            ]
          },
          "metadata": {},
          "execution_count": 26
        }
      ],
      "source": [
        "list(range(5))"
      ]
    },
    {
      "cell_type": "code",
      "execution_count": null,
      "metadata": {
        "colab": {
          "base_uri": "https://localhost:8080/"
        },
        "id": "sNCpXiynXU4d",
        "outputId": "1af1c3d8-a375-4325-da49-974db55aff8f"
      },
      "outputs": [
        {
          "output_type": "execute_result",
          "data": {
            "text/plain": [
              "[1, 6, 11, 16, 21, 26, 31, 36, 41, 46]"
            ]
          },
          "metadata": {},
          "execution_count": 27
        }
      ],
      "source": [
        "list(range(1,50,5))"
      ]
    },
    {
      "cell_type": "code",
      "execution_count": null,
      "metadata": {
        "colab": {
          "base_uri": "https://localhost:8080/"
        },
        "id": "E_s7cM65XnKb",
        "outputId": "67ad07c9-0182-4d27-cf2f-4a3c7402a948"
      },
      "outputs": [
        {
          "output_type": "execute_result",
          "data": {
            "text/plain": [
              "[50, 45, 40, 35, 30, 25, 20, 15, 10, 5]"
            ]
          },
          "metadata": {},
          "execution_count": 28
        }
      ],
      "source": [
        "list(range(50,0,-5))"
      ]
    },
    {
      "cell_type": "code",
      "execution_count": null,
      "metadata": {
        "colab": {
          "base_uri": "https://localhost:8080/"
        },
        "id": "BKugft3KX7r3",
        "outputId": "01ea2b66-0dc8-4e56-e317-ff8e396d1016"
      },
      "outputs": [
        {
          "output_type": "stream",
          "name": "stdout",
          "text": [
            "1\n",
            "5\n",
            "9\n",
            "13\n",
            "17\n",
            "21\n",
            "25\n",
            "29\n"
          ]
        }
      ],
      "source": [
        "for i in range (1,30,4):\n",
        "  print(i)"
      ]
    },
    {
      "cell_type": "code",
      "execution_count": null,
      "metadata": {
        "colab": {
          "base_uri": "https://localhost:8080/"
        },
        "id": "DcVRtvjwYM0_",
        "outputId": "2fcb5b9e-05c1-4a08-cc5b-29a0cc172f23"
      },
      "outputs": [
        {
          "output_type": "stream",
          "name": "stdout",
          "text": [
            "P\n",
            "a\n",
            "k\n",
            "i\n",
            "s\n",
            "t\n",
            "a\n",
            "n\n",
            "/\n",
            "U\n",
            "S\n",
            "A\n"
          ]
        }
      ],
      "source": [
        "for i in (\"Pakistan/USA\"):\n",
        "  print(i)"
      ]
    },
    {
      "cell_type": "markdown",
      "metadata": {
        "id": "KE-MIeC5Xa9v"
      },
      "source": [
        "## NESTED LOPS\n",
        "\n",
        "\"when loop is used witin the loop\"\n",
        "\n",
        "i.e to find friends of users in facebook....to find no of transections of customers in HBL"
      ]
    },
    {
      "cell_type": "code",
      "execution_count": null,
      "metadata": {
        "colab": {
          "base_uri": "https://localhost:8080/"
        },
        "id": "gvU6qNdYYytd",
        "outputId": "c41d47e3-7116-4cc4-a015-fe2abbc3e91a"
      },
      "outputs": [
        {
          "output_type": "stream",
          "name": "stdout",
          "text": [
            "China\n",
            "C\n",
            "h\n",
            "i\n",
            "n\n",
            "a\n",
            "Pakistan\n",
            "P\n",
            "a\n",
            "k\n",
            "i\n",
            "s\n",
            "t\n",
            "a\n",
            "n\n",
            "india\n",
            "i\n",
            "n\n",
            "d\n",
            "i\n",
            "a\n",
            "nepal\n",
            "n\n",
            "e\n",
            "p\n",
            "a\n",
            "l\n"
          ]
        }
      ],
      "source": [
        "country=['China','Pakistan','india','nepal']\n",
        "for a in country:\n",
        "  print(a)\n",
        "  for b in a:\n",
        "    print(b)"
      ]
    },
    {
      "cell_type": "code",
      "execution_count": null,
      "metadata": {
        "colab": {
          "base_uri": "https://localhost:8080/"
        },
        "id": "6-9K7sxCaFOm",
        "outputId": "0c2809ae-a115-4b2f-ca4c-9c536d7a0201"
      },
      "outputs": [
        {
          "output_type": "stream",
          "name": "stdout",
          "text": [
            "enter the number of rows10\n",
            "* \n",
            "* * \n",
            "* * * \n",
            "* * * * \n",
            "* * * * * \n",
            "* * * * * * \n",
            "* * * * * * * \n",
            "* * * * * * * * \n",
            "* * * * * * * * * \n",
            "* * * * * * * * * * \n"
          ]
        }
      ],
      "source": [
        "rows=int(input('enter the number of rows'))\n",
        "for i in range (1, rows+1):\n",
        "  for j in range (0,i):\n",
        "    print('*',end=' ')\n",
        "  print('')"
      ]
    },
    {
      "cell_type": "markdown",
      "metadata": {
        "id": "L2SUHHzIXFEg"
      },
      "source": [
        "**which loop is required? when we know the value of loop repitition then we used**\n",
        "**FOR loop and WHILE loop othervise**."
      ]
    },
    {
      "cell_type": "markdown",
      "metadata": {
        "id": "dyNRNFgrlXPV"
      },
      "source": [
        "# 13.Common Statements"
      ]
    },
    {
      "cell_type": "markdown",
      "metadata": {
        "id": "hvrLFpAqZ6C2"
      },
      "source": [
        "##BREAK STATEMENT\n",
        "\n",
        "- It is used to terminate loops under specific conditions.i.e linear searching (a linear search or sequential search is a method for finding an element within a list)"
      ]
    },
    {
      "cell_type": "code",
      "execution_count": null,
      "metadata": {
        "colab": {
          "base_uri": "https://localhost:8080/"
        },
        "id": "LlCCw4jpcp46",
        "outputId": "9c223fcc-ad32-42a3-ebf8-6f4d9b749001"
      },
      "outputs": [
        {
          "output_type": "stream",
          "name": "stdout",
          "text": [
            "1\n",
            "2\n",
            "3\n",
            "4\n",
            "5\n",
            "6\n",
            "7\n",
            "8\n",
            "9\n",
            "10\n"
          ]
        }
      ],
      "source": [
        "for i in range (1,30):\n",
        "  if i==11:\n",
        "    break\n",
        "  print(i)"
      ]
    },
    {
      "cell_type": "markdown",
      "metadata": {
        "id": "TBi6ldktaG5M"
      },
      "source": [
        "##CONTINUE STATEMENT\n",
        "\n",
        "- It is also used in loops.Here when that particular condition meet then only that particular code will not run."
      ]
    },
    {
      "cell_type": "code",
      "execution_count": null,
      "metadata": {
        "colab": {
          "base_uri": "https://localhost:8080/"
        },
        "id": "FsBYycOadhFb",
        "outputId": "54a28db1-4e06-4e2c-c9dd-b62587d29fb5"
      },
      "outputs": [
        {
          "output_type": "stream",
          "name": "stdout",
          "text": [
            "1\n",
            "2\n",
            "3\n",
            "4\n",
            "5\n",
            "6\n",
            "8\n",
            "9\n"
          ]
        }
      ],
      "source": [
        "for i in range (1,10):\n",
        "  if i==7:\n",
        "    continue\n",
        "  print(i)"
      ]
    },
    {
      "cell_type": "markdown",
      "metadata": {
        "id": "ZATnNuada06Q"
      },
      "source": [
        "##PASS STATEMENT\n",
        "- (just to aviod the particular code)"
      ]
    },
    {
      "cell_type": "code",
      "execution_count": null,
      "metadata": {
        "id": "ndZ-ok_dd5EJ"
      },
      "outputs": [],
      "source": [
        "for i in range (1,10):\n",
        "  pass"
      ]
    },
    {
      "cell_type": "markdown",
      "metadata": {
        "id": "xQPM1YumenD3"
      },
      "source": [
        "\n",
        "\n",
        "---\n",
        "\n"
      ]
    },
    {
      "cell_type": "markdown",
      "metadata": {
        "id": "vZlKoKzCm6m-"
      },
      "source": [
        "#14.Built in function\n",
        "- A block of codes which provides output if we provide some input."
      ]
    },
    {
      "cell_type": "markdown",
      "metadata": {
        "id": "ONglNgq6RoHS"
      },
      "source": [
        "##1.print()\n",
        "    To Write a statement within our python program\n"
      ]
    },
    {
      "cell_type": "markdown",
      "metadata": {
        "id": "ZrqTu2y-oTaK"
      },
      "source": [
        "##2.input()\n",
        "    To get the data from user\n"
      ]
    },
    {
      "cell_type": "markdown",
      "metadata": {
        "id": "paAWEtd8o2SB"
      },
      "source": [
        "##3.type()\n",
        "    It is used to predict the data type of variable\n"
      ]
    },
    {
      "cell_type": "markdown",
      "metadata": {
        "id": "ZV4uWUY-o33r"
      },
      "source": [
        "##4.type conversion\n",
        "    To change the data type"
      ]
    },
    {
      "cell_type": "markdown",
      "metadata": {
        "id": "8GnOEQW-o9Ru"
      },
      "source": [
        "## 5.absolute function\n",
        "- The `abs()` function calculates the absolute value of a given number. If the number is a complex number, `abs()` returns its magnitude.\n",
        "\n",
        "- The absolute value, represented as | x |, of a real number x is the non-negative value of x without considering its sign. For instance, the absolute value of 5 is 5, and the absolute value of −5 is also 5. Conceptually, the absolute value of a number can be seen as its distance from zero along the real number line."
      ]
    },
    {
      "cell_type": "markdown",
      "metadata": {
        "id": "uBA6nxJKp8i8"
      },
      "source": [
        "**Maths Involved(Latex formatting)**\n",
        "\n",
        "The absolute value of a complex number $a + bj$ is given by the formula:\n",
        "\n",
        "$$|a + bj| = sqrt{a^2 + b^2}$$\n",
        "\n",
        "In this case, for the complex number $4 + 4j$, where $a = 4$ and $b = 4$, the absolute value is calculated as follows:\n",
        "\n",
        "$|4 + 4j|$ = $sqrt{4^2 + 4^2}$ = $sqrt{16 + 16}$ = $sqrt{32}$"
      ]
    },
    {
      "cell_type": "code",
      "execution_count": null,
      "metadata": {
        "id": "nEZyxaLJPbZB",
        "colab": {
          "base_uri": "https://localhost:8080/"
        },
        "outputId": "f17c770d-37df-4ad4-a7f9-29c4ba240237"
      },
      "outputs": [
        {
          "output_type": "execute_result",
          "data": {
            "text/plain": [
              "99.76472322419383"
            ]
          },
          "metadata": {},
          "execution_count": 2
        }
      ],
      "source": [
        "abs(88+47j)"
      ]
    },
    {
      "cell_type": "code",
      "source": [
        "abs(5)"
      ],
      "metadata": {
        "colab": {
          "base_uri": "https://localhost:8080/"
        },
        "id": "INw4sf5c7itY",
        "outputId": "7a588454-37cc-498b-8752-a5b35e31f029"
      },
      "execution_count": null,
      "outputs": [
        {
          "output_type": "execute_result",
          "data": {
            "text/plain": [
              "5"
            ]
          },
          "metadata": {},
          "execution_count": 1
        }
      ]
    },
    {
      "cell_type": "markdown",
      "metadata": {
        "id": "dE1qWrWcrL7E"
      },
      "source": [
        "##6.power function"
      ]
    },
    {
      "cell_type": "code",
      "execution_count": null,
      "metadata": {
        "id": "Saz6yq4PQ8zp",
        "colab": {
          "base_uri": "https://localhost:8080/"
        },
        "outputId": "4bb2404d-a4e2-47ee-de61-0fa71ddee2af"
      },
      "outputs": [
        {
          "output_type": "execute_result",
          "data": {
            "text/plain": [
              "625"
            ]
          },
          "metadata": {},
          "execution_count": 6
        }
      ],
      "source": [
        "pow(5,4)"
      ]
    },
    {
      "cell_type": "markdown",
      "metadata": {
        "id": "Bf-VTB2TrV4X"
      },
      "source": [
        "##7.min/max function"
      ]
    },
    {
      "cell_type": "code",
      "execution_count": null,
      "metadata": {
        "id": "cVcm1EPgRLvh",
        "colab": {
          "base_uri": "https://localhost:8080/"
        },
        "outputId": "2f60a1bf-9995-4938-8fbe-eef8bc4ab5a1"
      },
      "outputs": [
        {
          "output_type": "execute_result",
          "data": {
            "text/plain": [
              "1"
            ]
          },
          "metadata": {},
          "execution_count": 7
        }
      ],
      "source": [
        "min(1,2,3,4)"
      ]
    },
    {
      "cell_type": "code",
      "execution_count": null,
      "metadata": {
        "id": "6IjQ7MwjRS0G",
        "colab": {
          "base_uri": "https://localhost:8080/"
        },
        "outputId": "5a549dc2-568d-48d5-aba2-5b8130782ec5"
      },
      "outputs": [
        {
          "output_type": "execute_result",
          "data": {
            "text/plain": [
              "4"
            ]
          },
          "metadata": {},
          "execution_count": 8
        }
      ],
      "source": [
        "max(1,2,3,4)"
      ]
    },
    {
      "cell_type": "code",
      "execution_count": null,
      "metadata": {
        "id": "VEwlE7IFR0bz",
        "colab": {
          "base_uri": "https://localhost:8080/",
          "height": 36
        },
        "outputId": "25470b12-179d-4f72-ce92-8eaa4b580af7"
      },
      "outputs": [
        {
          "output_type": "execute_result",
          "data": {
            "text/plain": [
              "'t'"
            ],
            "application/vnd.google.colaboratory.intrinsic+json": {
              "type": "string"
            }
          },
          "metadata": {},
          "execution_count": 9
        }
      ],
      "source": [
        "max('train') #lexiographical(alphabetical order)"
      ]
    },
    {
      "cell_type": "code",
      "execution_count": null,
      "metadata": {
        "id": "-qzEHZkYSzCV",
        "colab": {
          "base_uri": "https://localhost:8080/",
          "height": 36
        },
        "outputId": "b322ab29-3373-4f32-b54f-a12ad2614202"
      },
      "outputs": [
        {
          "output_type": "execute_result",
          "data": {
            "text/plain": [
              "'a'"
            ],
            "application/vnd.google.colaboratory.intrinsic+json": {
              "type": "string"
            }
          },
          "metadata": {},
          "execution_count": 10
        }
      ],
      "source": [
        "min('train')"
      ]
    },
    {
      "cell_type": "markdown",
      "metadata": {
        "id": "Xs7repy5rYaD"
      },
      "source": [
        "##8.round function"
      ]
    },
    {
      "cell_type": "code",
      "execution_count": null,
      "metadata": {
        "id": "Hbmv-441S50C",
        "colab": {
          "base_uri": "https://localhost:8080/"
        },
        "outputId": "e7ba830a-09ef-40b1-a072-34d09a5ff09c"
      },
      "outputs": [
        {
          "output_type": "execute_result",
          "data": {
            "text/plain": [
              "3.14"
            ]
          },
          "metadata": {},
          "execution_count": 15
        }
      ],
      "source": [
        "a=22/7\n",
        "round(a,2)"
      ]
    },
    {
      "cell_type": "markdown",
      "metadata": {
        "id": "sqsT8MycreFe"
      },
      "source": [
        "##9.divmod function\n",
        "- The `divmod()` function in Python returns a pair of values, consisting of the quotient and the remainder, when dividing two numbers. It takes two arguments and returns a tuple of two values: the result of integer division and the remainder."
      ]
    },
    {
      "cell_type": "code",
      "execution_count": null,
      "metadata": {
        "id": "cJBayOm3TZZ-",
        "colab": {
          "base_uri": "https://localhost:8080/"
        },
        "outputId": "0c003139-8aaa-46bb-8228-ad1932c407e4"
      },
      "outputs": [
        {
          "output_type": "execute_result",
          "data": {
            "text/plain": [
              "(3, 1)"
            ]
          },
          "metadata": {},
          "execution_count": 16
        }
      ],
      "source": [
        "divmod(10,3)"
      ]
    },
    {
      "cell_type": "markdown",
      "metadata": {
        "id": "vkuAxHe5sKF9"
      },
      "source": [
        "## 10.bin/oct/hex function"
      ]
    },
    {
      "cell_type": "code",
      "execution_count": null,
      "metadata": {
        "id": "70sjqIM4Tuef",
        "colab": {
          "base_uri": "https://localhost:8080/",
          "height": 36
        },
        "outputId": "71f9ad8d-2d1a-4837-a846-c461f2c9da68"
      },
      "outputs": [
        {
          "output_type": "execute_result",
          "data": {
            "text/plain": [
              "'0b1010010'"
            ],
            "application/vnd.google.colaboratory.intrinsic+json": {
              "type": "string"
            }
          },
          "metadata": {},
          "execution_count": 17
        }
      ],
      "source": [
        "bin(82)"
      ]
    },
    {
      "cell_type": "code",
      "execution_count": null,
      "metadata": {
        "id": "Lc6nePhNVHPF",
        "colab": {
          "base_uri": "https://localhost:8080/",
          "height": 36
        },
        "outputId": "f9710e62-0623-4d9c-ff2d-bf33a3230a3c"
      },
      "outputs": [
        {
          "output_type": "execute_result",
          "data": {
            "text/plain": [
              "'0o122'"
            ],
            "application/vnd.google.colaboratory.intrinsic+json": {
              "type": "string"
            }
          },
          "metadata": {},
          "execution_count": 18
        }
      ],
      "source": [
        "oct(82)"
      ]
    },
    {
      "cell_type": "code",
      "execution_count": null,
      "metadata": {
        "id": "2oVnS9hIVQYx",
        "colab": {
          "base_uri": "https://localhost:8080/",
          "height": 36
        },
        "outputId": "d5d67045-f852-48f6-ecf0-039c1e14f9d6"
      },
      "outputs": [
        {
          "output_type": "execute_result",
          "data": {
            "text/plain": [
              "'0x52'"
            ],
            "application/vnd.google.colaboratory.intrinsic+json": {
              "type": "string"
            }
          },
          "metadata": {},
          "execution_count": 19
        }
      ],
      "source": [
        "hex(82)"
      ]
    },
    {
      "cell_type": "markdown",
      "metadata": {
        "id": "pYRMGZ1zsM2c"
      },
      "source": [
        "##11.ID function\n",
        "-\n",
        "The id() function in Python returns the identity of an object, which is a unique integer representing the object's memory address. Each object in Python has a distinct identity, and the id() function provides a way to access this unique identifier."
      ]
    },
    {
      "cell_type": "code",
      "execution_count": null,
      "metadata": {
        "id": "HXcVtwUiVmyG",
        "colab": {
          "base_uri": "https://localhost:8080/"
        },
        "outputId": "34c2f7a7-ab74-410c-999e-aaf20651c068"
      },
      "outputs": [
        {
          "output_type": "execute_result",
          "data": {
            "text/plain": [
              "139010975139408"
            ]
          },
          "metadata": {},
          "execution_count": 17
        }
      ],
      "source": [
        "b=44\n",
        "id(b)"
      ]
    },
    {
      "cell_type": "code",
      "execution_count": null,
      "metadata": {
        "id": "uZj4nL7kVyPI",
        "colab": {
          "base_uri": "https://localhost:8080/"
        },
        "outputId": "29f40469-8ea0-454b-d30a-8008e871dcf0"
      },
      "outputs": [
        {
          "output_type": "execute_result",
          "data": {
            "text/plain": [
              "139010975139408"
            ]
          },
          "metadata": {},
          "execution_count": 18
        }
      ],
      "source": [
        "a=44\n",
        "id(a)"
      ]
    },
    {
      "cell_type": "code",
      "execution_count": null,
      "metadata": {
        "id": "2n7GMouHV7Ij",
        "colab": {
          "base_uri": "https://localhost:8080/"
        },
        "outputId": "eb0b69b6-dee2-4432-9eb0-d53a9f88231b"
      },
      "outputs": [
        {
          "output_type": "execute_result",
          "data": {
            "text/plain": [
              "139010067860240"
            ]
          },
          "metadata": {},
          "execution_count": 19
        }
      ],
      "source": [
        "a=444\n",
        "id(a)"
      ]
    },
    {
      "cell_type": "code",
      "source": [
        "d=[1,2,3]\n",
        "b=[1,2,3]\n",
        "id(d)"
      ],
      "metadata": {
        "colab": {
          "base_uri": "https://localhost:8080/"
        },
        "id": "EdyMiwyJ_shv",
        "outputId": "4c9b2523-3114-45aa-fe52-0a6064939d7c"
      },
      "execution_count": null,
      "outputs": [
        {
          "output_type": "execute_result",
          "data": {
            "text/plain": [
              "139009693878080"
            ]
          },
          "metadata": {},
          "execution_count": 21
        }
      ]
    },
    {
      "cell_type": "code",
      "source": [
        "id(b)"
      ],
      "metadata": {
        "colab": {
          "base_uri": "https://localhost:8080/"
        },
        "id": "4WYrT50K_0Ry",
        "outputId": "e9df5830-4dff-4cb8-dafc-be664a72142e"
      },
      "execution_count": null,
      "outputs": [
        {
          "output_type": "execute_result",
          "data": {
            "text/plain": [
              "139009694024000"
            ]
          },
          "metadata": {},
          "execution_count": 22
        }
      ]
    },
    {
      "cell_type": "markdown",
      "metadata": {
        "id": "b6_hy-pmsR2s"
      },
      "source": [
        "##12.ord function\n",
        "- The ord() function in Python returns an integer representing the Unicode character. It takes a single character (a string of length 1) as an argument and returns the Unicode code point of that character."
      ]
    },
    {
      "cell_type": "code",
      "execution_count": null,
      "metadata": {
        "id": "4gxV6F8wWtxK",
        "colab": {
          "base_uri": "https://localhost:8080/"
        },
        "outputId": "02e619ca-15f7-4b5c-a2ff-10ab725ad830"
      },
      "outputs": [
        {
          "output_type": "execute_result",
          "data": {
            "text/plain": [
              "32"
            ]
          },
          "metadata": {},
          "execution_count": 28
        }
      ],
      "source": [
        "ord(' ')"
      ]
    },
    {
      "cell_type": "markdown",
      "metadata": {
        "id": "wFCk6So8tYnR"
      },
      "source": [
        "##13.chr() function\n",
        "-  chr() function returns a string representing a character whose Unicode code point is the integer."
      ]
    },
    {
      "cell_type": "code",
      "execution_count": null,
      "metadata": {
        "id": "zcvn0WDvXD0P",
        "colab": {
          "base_uri": "https://localhost:8080/",
          "height": 36
        },
        "outputId": "d94df494-1fbb-4617-feb5-2b15b1a38bb1"
      },
      "outputs": [
        {
          "output_type": "execute_result",
          "data": {
            "text/plain": [
              "'a'"
            ],
            "application/vnd.google.colaboratory.intrinsic+json": {
              "type": "string"
            }
          },
          "metadata": {},
          "execution_count": 27
        }
      ],
      "source": [
        "chr(97)"
      ]
    },
    {
      "cell_type": "markdown",
      "metadata": {
        "id": "9D-uBt-wtsUw"
      },
      "source": [
        "## 14.lenght function\n",
        "- (Return the number of items in a container)"
      ]
    },
    {
      "cell_type": "code",
      "execution_count": null,
      "metadata": {
        "id": "OW8UTOY-XYuS",
        "colab": {
          "base_uri": "https://localhost:8080/"
        },
        "outputId": "ef60957b-30b3-4172-b201-a7ea151dba84"
      },
      "outputs": [
        {
          "output_type": "execute_result",
          "data": {
            "text/plain": [
              "24"
            ]
          },
          "metadata": {},
          "execution_count": 31
        }
      ],
      "source": [
        "len('we are learning python  ')"
      ]
    },
    {
      "cell_type": "markdown",
      "metadata": {
        "id": "DH_gUqW6tzZc"
      },
      "source": [
        "##15.sum function\n",
        "- Return the sum of a 'start' value (default: 0) plus an iterable of numbers.When the iterable is empty, return the start value."
      ]
    },
    {
      "cell_type": "code",
      "source": [
        "# The sum function is reserved for the numerical literals\n",
        "sum('we are learning python')"
      ],
      "metadata": {
        "id": "WRskxGkw7I5x",
        "outputId": "355a7644-c3be-45ee-ca4f-f7c2d9850557",
        "colab": {
          "base_uri": "https://localhost:8080/",
          "height": 146
        }
      },
      "execution_count": null,
      "outputs": [
        {
          "output_type": "error",
          "ename": "TypeError",
          "evalue": "unsupported operand type(s) for +: 'int' and 'str'",
          "traceback": [
            "\u001b[0;31m---------------------------------------------------------------------------\u001b[0m",
            "\u001b[0;31mTypeError\u001b[0m                                 Traceback (most recent call last)",
            "\u001b[0;32m<ipython-input-32-db9c3e274c66>\u001b[0m in \u001b[0;36m<cell line: 1>\u001b[0;34m()\u001b[0m\n\u001b[0;32m----> 1\u001b[0;31m \u001b[0msum\u001b[0m\u001b[0;34m(\u001b[0m\u001b[0;34m'we are learning python'\u001b[0m\u001b[0;34m)\u001b[0m\u001b[0;34m\u001b[0m\u001b[0;34m\u001b[0m\u001b[0m\n\u001b[0m",
            "\u001b[0;31mTypeError\u001b[0m: unsupported operand type(s) for +: 'int' and 'str'"
          ]
        }
      ]
    },
    {
      "cell_type": "code",
      "execution_count": null,
      "metadata": {
        "id": "AAj9GH5vZTCX",
        "colab": {
          "base_uri": "https://localhost:8080/"
        },
        "outputId": "b000e151-328e-4102-e0f6-8156074ef1cc"
      },
      "outputs": [
        {
          "output_type": "execute_result",
          "data": {
            "text/plain": [
              "(99.88+8j)"
            ]
          },
          "metadata": {},
          "execution_count": 40
        }
      ],
      "source": [
        "sum([22.88,33,44+8j,False])"
      ]
    },
    {
      "cell_type": "code",
      "source": [
        "sum((1,True))"
      ],
      "metadata": {
        "id": "MQ5dxD6Q8eqD",
        "outputId": "6aa87b1c-214b-4773-e562-693809e5cbd8",
        "colab": {
          "base_uri": "https://localhost:8080/"
        }
      },
      "execution_count": null,
      "outputs": [
        {
          "output_type": "execute_result",
          "data": {
            "text/plain": [
              "2"
            ]
          },
          "metadata": {},
          "execution_count": 42
        }
      ]
    },
    {
      "cell_type": "code",
      "execution_count": null,
      "metadata": {
        "id": "EWD3b-jZZcVY",
        "colab": {
          "base_uri": "https://localhost:8080/"
        },
        "outputId": "fd41fbfa-65d7-4483-aa2f-b4839db48a0e"
      },
      "outputs": [
        {
          "output_type": "execute_result",
          "data": {
            "text/plain": [
              "0"
            ]
          },
          "metadata": {},
          "execution_count": 35
        }
      ],
      "source": [
        "sum([])"
      ]
    },
    {
      "cell_type": "markdown",
      "metadata": {
        "id": "0tAWyXAMuMjs"
      },
      "source": [
        "##16.help"
      ]
    },
    {
      "cell_type": "code",
      "execution_count": null,
      "metadata": {
        "id": "1StKOaDQZrjx",
        "colab": {
          "base_uri": "https://localhost:8080/"
        },
        "outputId": "36c77626-86c1-47df-c4e1-bd45d381b3df"
      },
      "outputs": [
        {
          "output_type": "stream",
          "name": "stdout",
          "text": [
            "Help on built-in function pow in module builtins:\n",
            "\n",
            "pow(base, exp, mod=None)\n",
            "    Equivalent to base**exp with 2 arguments or base**exp % mod with 3 arguments\n",
            "    \n",
            "    Some types, such as ints, are able to use a more efficient algorithm when\n",
            "    invoked using the three argument form.\n",
            "\n"
          ]
        }
      ],
      "source": [
        "help(pow)"
      ]
    },
    {
      "cell_type": "markdown",
      "metadata": {
        "id": "SBVsWp4XuUbh"
      },
      "source": [
        "\n",
        "\n",
        "---\n",
        "\n",
        "\n",
        "\n",
        "---\n",
        "\n"
      ]
    },
    {
      "cell_type": "markdown",
      "metadata": {
        "id": "q-Ik_l3lYRNz"
      },
      "source": [
        "# 15.Built in modules\n",
        "**What are modules?**\n",
        "\n",
        "Consider a module to be the same as a code library.\n",
        "A file containing a set of functions you want to include in your application.\n",
        "Examples of python modules\n",
        "- Math\n",
        "- Random\n",
        "- os\n",
        "- time"
      ]
    },
    {
      "cell_type": "markdown",
      "source": [
        "## All built in modules in python\n",
        "https://docs.python.org/3/py-modindex.html"
      ],
      "metadata": {
        "id": "rr5WWnAATmZK"
      }
    },
    {
      "cell_type": "markdown",
      "metadata": {
        "id": "0O2aPN8Jv9eQ"
      },
      "source": [
        "##1.MATH"
      ]
    },
    {
      "cell_type": "code",
      "execution_count": null,
      "metadata": {
        "id": "R9LRgX_JbFdv"
      },
      "outputs": [],
      "source": [
        "import math"
      ]
    },
    {
      "cell_type": "code",
      "execution_count": null,
      "metadata": {
        "id": "lKtWBUUJbKCx",
        "colab": {
          "base_uri": "https://localhost:8080/"
        },
        "outputId": "9e95d9d6-9bc2-4eeb-bd85-e82f9ebfa815"
      },
      "outputs": [
        {
          "output_type": "execute_result",
          "data": {
            "text/plain": [
              "-0.99964745596635"
            ]
          },
          "metadata": {},
          "execution_count": 36
        }
      ],
      "source": [
        "math.cos(66)"
      ]
    },
    {
      "cell_type": "code",
      "execution_count": null,
      "metadata": {
        "id": "X_IL3lJbbgL2",
        "colab": {
          "base_uri": "https://localhost:8080/"
        },
        "outputId": "49b47e68-b19e-4f8f-e019-c2b2bb5f01ed"
      },
      "outputs": [
        {
          "output_type": "execute_result",
          "data": {
            "text/plain": [
              "21.354156504062622"
            ]
          },
          "metadata": {},
          "execution_count": 37
        }
      ],
      "source": [
        "math.sqrt(456)"
      ]
    },
    {
      "cell_type": "code",
      "source": [
        "math.cosh(567)"
      ],
      "metadata": {
        "colab": {
          "base_uri": "https://localhost:8080/"
        },
        "id": "BL0XrrVEDPGF",
        "outputId": "11c73573-7512-45d2-8761-d81dd51801fd"
      },
      "execution_count": null,
      "outputs": [
        {
          "output_type": "execute_result",
          "data": {
            "text/plain": [
              "8.789036002598174e+245"
            ]
          },
          "metadata": {},
          "execution_count": 38
        }
      ]
    },
    {
      "cell_type": "code",
      "source": [
        "math.exp(44)"
      ],
      "metadata": {
        "id": "5VpYM5cz-yzk",
        "outputId": "28187e3c-3c73-4b2f-a166-efa73fb26bdf",
        "colab": {
          "base_uri": "https://localhost:8080/"
        }
      },
      "execution_count": null,
      "outputs": [
        {
          "output_type": "execute_result",
          "data": {
            "text/plain": [
              "1.2851600114359308e+19"
            ]
          },
          "metadata": {},
          "execution_count": 47
        }
      ]
    },
    {
      "cell_type": "markdown",
      "metadata": {
        "id": "kF_HLYaiv-x7"
      },
      "source": [
        "##2.RANDOM"
      ]
    },
    {
      "cell_type": "code",
      "execution_count": null,
      "metadata": {
        "id": "Ba41QLFbbyE0"
      },
      "outputs": [],
      "source": [
        "import random"
      ]
    },
    {
      "cell_type": "code",
      "execution_count": null,
      "metadata": {
        "id": "7dsMwvPWb1t2",
        "colab": {
          "base_uri": "https://localhost:8080/"
        },
        "outputId": "1234fd14-8a99-4279-89fd-56ee580832b0"
      },
      "outputs": [
        {
          "output_type": "execute_result",
          "data": {
            "text/plain": [
              "18"
            ]
          },
          "metadata": {},
          "execution_count": 4
        }
      ],
      "source": [
        "random.randint(1,25)"
      ]
    },
    {
      "cell_type": "code",
      "execution_count": null,
      "metadata": {
        "id": "1yaYQBwhb8JL",
        "colab": {
          "base_uri": "https://localhost:8080/"
        },
        "outputId": "9d9d9218-9b76-43c4-c6d7-0248ee950ffa"
      },
      "outputs": [
        {
          "output_type": "stream",
          "name": "stdout",
          "text": [
            "[77, 66, 88, 1, 5]\n"
          ]
        }
      ],
      "source": [
        "a=[1,5,66,77,88]\n",
        "random.shuffle(a)\n",
        "print(a)"
      ]
    },
    {
      "cell_type": "markdown",
      "metadata": {
        "id": "oZfMuyjnwB0W"
      },
      "source": [
        "##3.OS\n",
        "- The os module in Python provides a way to interact with the operating system. It offers a range of functions to perform tasks such as file and directory operations, process management, and environment variables"
      ]
    },
    {
      "cell_type": "code",
      "execution_count": null,
      "metadata": {
        "id": "p1AW3XJCcf9-"
      },
      "outputs": [],
      "source": [
        "import os"
      ]
    },
    {
      "cell_type": "code",
      "execution_count": null,
      "metadata": {
        "id": "lH_nPacRcrRP",
        "colab": {
          "base_uri": "https://localhost:8080/",
          "height": 36
        },
        "outputId": "2710b1af-6d8d-4dc5-ff6a-a334635fa756"
      },
      "outputs": [
        {
          "output_type": "execute_result",
          "data": {
            "text/plain": [
              "'/content'"
            ],
            "application/vnd.google.colaboratory.intrinsic+json": {
              "type": "string"
            }
          },
          "metadata": {},
          "execution_count": 8
        }
      ],
      "source": [
        "# Get the current working directory\n",
        "os.getcwd()"
      ]
    },
    {
      "cell_type": "code",
      "execution_count": null,
      "metadata": {
        "id": "Mw5NHaEhdoR3",
        "colab": {
          "base_uri": "https://localhost:8080/"
        },
        "outputId": "5d04a837-7597-4443-b430-37f377ffda33"
      },
      "outputs": [
        {
          "output_type": "execute_result",
          "data": {
            "text/plain": [
              "<function posix.getcwdb()>"
            ]
          },
          "metadata": {},
          "execution_count": 9
        }
      ],
      "source": [
        "# Get the current working data base\n",
        "os.getcwdb"
      ]
    },
    {
      "cell_type": "code",
      "execution_count": null,
      "metadata": {
        "id": "UT4Z9iHFc--7",
        "colab": {
          "base_uri": "https://localhost:8080/"
        },
        "outputId": "5f511170-279a-4ea0-b5c5-f61b32521658"
      },
      "outputs": [
        {
          "output_type": "execute_result",
          "data": {
            "text/plain": [
              "['.config', 'sample_data']"
            ]
          },
          "metadata": {},
          "execution_count": 10
        }
      ],
      "source": [
        "os.listdir()"
      ]
    },
    {
      "cell_type": "markdown",
      "metadata": {
        "id": "_0kpBVF_xNX7"
      },
      "source": [
        "##4.TIME"
      ]
    },
    {
      "cell_type": "code",
      "execution_count": null,
      "metadata": {
        "id": "gqsB0kileCZZ"
      },
      "outputs": [],
      "source": [
        "import time"
      ]
    },
    {
      "cell_type": "code",
      "execution_count": null,
      "metadata": {
        "id": "esEHJERreGAe",
        "colab": {
          "base_uri": "https://localhost:8080/",
          "height": 36
        },
        "outputId": "a22c5026-00d2-477d-ed80-3b5e186f3626"
      },
      "outputs": [
        {
          "output_type": "execute_result",
          "data": {
            "text/plain": [
              "'Sat Aug 24 15:32:23 2024'"
            ],
            "application/vnd.google.colaboratory.intrinsic+json": {
              "type": "string"
            }
          },
          "metadata": {},
          "execution_count": 12
        }
      ],
      "source": [
        "time.ctime()"
      ]
    },
    {
      "cell_type": "markdown",
      "metadata": {
        "id": "YF2TCRteAHie"
      },
      "source": [
        "- The time.time() function in Python is used to get the current time in seconds since the epoch. The \"epoch\" is a predefined point in time, typically the start of the year 1970, and the return value of time.time() is the number of seconds that have elapsed since that epoch."
      ]
    },
    {
      "cell_type": "code",
      "execution_count": null,
      "metadata": {
        "id": "HPHtpc95eVc9",
        "colab": {
          "base_uri": "https://localhost:8080/"
        },
        "outputId": "d8fa402c-ffd6-4deb-dc96-ba65fc4714f4"
      },
      "outputs": [
        {
          "output_type": "execute_result",
          "data": {
            "text/plain": [
              "1724513566.2211032"
            ]
          },
          "metadata": {},
          "execution_count": 13
        }
      ],
      "source": [
        "time.time()"
      ]
    },
    {
      "cell_type": "code",
      "execution_count": null,
      "metadata": {
        "id": "JCnTYrr4e-4e",
        "colab": {
          "base_uri": "https://localhost:8080/"
        },
        "outputId": "3e5a4d21-3224-459b-da80-d666b823fb66"
      },
      "outputs": [
        {
          "output_type": "stream",
          "name": "stdout",
          "text": [
            "CPU times: user 3 µs, sys: 1 µs, total: 4 µs\n",
            "Wall time: 7.63 µs\n",
            "helo world\n"
          ]
        }
      ],
      "source": [
        "%time\n",
        "print(\"helo world\")"
      ]
    },
    {
      "cell_type": "code",
      "execution_count": null,
      "metadata": {
        "id": "tYsT6iMZffny",
        "colab": {
          "base_uri": "https://localhost:8080/"
        },
        "outputId": "15bdccfd-b4b1-4313-99a5-57aa58338290"
      },
      "outputs": [
        {
          "output_type": "stream",
          "name": "stdout",
          "text": [
            "we  are  learning  the  python  "
          ]
        }
      ],
      "source": [
        "print(\"we\",end=('  '))\n",
        "time.sleep(5)\n",
        "print(\"are\",end=('  '))\n",
        "time.sleep(2)\n",
        "print(\"learning\",end=('  '))\n",
        "time.sleep(2)\n",
        "print(\"the\",end=('  '))\n",
        "time.sleep(2)\n",
        "print(\"python\",end=('  '))"
      ]
    },
    {
      "cell_type": "markdown",
      "metadata": {
        "id": "RvtYiIO2xQt3"
      },
      "source": [
        "\n",
        "\n",
        "\n",
        "---\n",
        "\n",
        "\n",
        "---\n",
        "\n"
      ]
    }
  ],
  "metadata": {
    "accelerator": "TPU",
    "colab": {
      "gpuType": "V28",
      "provenance": []
    },
    "kernelspec": {
      "display_name": "Python 3",
      "name": "python3"
    },
    "language_info": {
      "name": "python"
    }
  },
  "nbformat": 4,
  "nbformat_minor": 0
}