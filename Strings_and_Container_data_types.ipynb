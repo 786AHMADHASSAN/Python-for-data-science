{
  "cells": [
    {
      "cell_type": "markdown",
      "metadata": {
        "id": "L6ZorfxnWfoz"
      },
      "source": [
        "- How to cretae?\n",
        "- Indexing and slicing\n",
        "- Editing and addition\n",
        "- Deletion\n",
        "- Operations\n",
        "- Functions"
      ]
    },
    {
      "cell_type": "markdown",
      "metadata": {
        "id": "1LK8hTN6epzE"
      },
      "source": [
        "#16.STRING\n",
        "- Strings are sequence of Uni code Characters\n",
        "- In Python specifically, strings are a sequence of Unicode Characters\n",
        "- NORMALLY USED IN APPLICATION PROGRAMMING LAUNGUAGE WHERE YOU HAVE TO TALK WITH USER."
      ]
    },
    {
      "cell_type": "markdown",
      "metadata": {
        "id": "FUNs6thce5j6"
      },
      "source": [
        "##creating a string"
      ]
    },
    {
      "cell_type": "code",
      "execution_count": null,
      "metadata": {
        "colab": {
          "base_uri": "https://localhost:8080/"
        },
        "id": "pIVScbYMhzqS",
        "outputId": "091a06cd-dbe6-4670-bbf1-df3390e1022c"
      },
      "outputs": [
        {
          "output_type": "stream",
          "name": "stdout",
          "text": [
            "hello hello hello hello\n"
          ]
        }
      ],
      "source": [
        "print('hello',\"hello\",\"\"\"hello\"\"\",'''hello''')"
      ]
    },
    {
      "cell_type": "code",
      "execution_count": null,
      "metadata": {
        "colab": {
          "base_uri": "https://localhost:8080/"
        },
        "id": "jG7CMiTvNb6b",
        "outputId": "c6d77d32-3c1f-4535-9ffc-a805a4b56388"
      },
      "outputs": [
        {
          "output_type": "stream",
          "name": "stdout",
          "text": [
            "Temitope Sanni\n"
          ]
        }
      ],
      "source": [
        "print(\"Temitope\",'Sanni')"
      ]
    },
    {
      "cell_type": "code",
      "source": [
        "d=12\n",
        "type(d)"
      ],
      "metadata": {
        "colab": {
          "base_uri": "https://localhost:8080/"
        },
        "id": "NrpwurKHLT_z",
        "outputId": "90f5d575-c982-4d09-b3cd-692273efb51f"
      },
      "execution_count": null,
      "outputs": [
        {
          "output_type": "execute_result",
          "data": {
            "text/plain": [
              "int"
            ]
          },
          "metadata": {},
          "execution_count": 4
        }
      ]
    },
    {
      "cell_type": "code",
      "execution_count": null,
      "metadata": {
        "colab": {
          "base_uri": "https://localhost:8080/"
        },
        "id": "mQaeb_fgiIU-",
        "outputId": "6b707175-8e67-4e4d-a464-0b6aece9ccb9"
      },
      "outputs": [
        {
          "output_type": "execute_result",
          "data": {
            "text/plain": [
              "str"
            ]
          },
          "metadata": {},
          "execution_count": 5
        }
      ],
      "source": [
        "d=str(12)\n",
        "type(d)"
      ]
    },
    {
      "cell_type": "markdown",
      "metadata": {
        "id": "uLHbP9ocfqwn"
      },
      "source": [
        "##Accessing substrings from string (INDEXING AND SLICING)"
      ]
    },
    {
      "cell_type": "markdown",
      "source": [
        "- The positive indexing starts from 0 and negative indexing starts from -1"
      ],
      "metadata": {
        "id": "3g46_mJDMjHr"
      }
    },
    {
      "cell_type": "markdown",
      "metadata": {
        "id": "pemBHLb4gF_t"
      },
      "source": [
        "###1. positive indexing"
      ]
    },
    {
      "cell_type": "code",
      "execution_count": null,
      "metadata": {
        "colab": {
          "base_uri": "https://localhost:8080/"
        },
        "id": "9fMUI0jVirBy",
        "outputId": "9d6e58bb-5390-4132-955b-3152600576d9"
      },
      "outputs": [
        {
          "output_type": "stream",
          "name": "stdout",
          "text": [
            "hello\n"
          ]
        }
      ],
      "source": [
        "g=\"hello\"\n",
        "print(g)"
      ]
    },
    {
      "cell_type": "code",
      "execution_count": null,
      "metadata": {
        "colab": {
          "base_uri": "https://localhost:8080/",
          "height": 36
        },
        "id": "23XRPxH3izMP",
        "outputId": "fa5c8bca-829f-4f3c-900d-aef5ff6ca10d"
      },
      "outputs": [
        {
          "output_type": "execute_result",
          "data": {
            "text/plain": [
              "'o'"
            ],
            "application/vnd.google.colaboratory.intrinsic+json": {
              "type": "string"
            }
          },
          "metadata": {},
          "execution_count": 9
        }
      ],
      "source": [
        "g[4]"
      ]
    },
    {
      "cell_type": "code",
      "source": [
        "# we cannot provide index that is out of the range\n",
        "g[10]"
      ],
      "metadata": {
        "colab": {
          "base_uri": "https://localhost:8080/",
          "height": 164
        },
        "id": "3Zrs7nx8MH_m",
        "outputId": "95440867-eb1d-4623-c59c-55277e9d58eb"
      },
      "execution_count": null,
      "outputs": [
        {
          "output_type": "error",
          "ename": "IndexError",
          "evalue": "string index out of range",
          "traceback": [
            "\u001b[0;31m---------------------------------------------------------------------------\u001b[0m",
            "\u001b[0;31mIndexError\u001b[0m                                Traceback (most recent call last)",
            "\u001b[0;32m<ipython-input-10-4d2f65f1e4db>\u001b[0m in \u001b[0;36m<cell line: 2>\u001b[0;34m()\u001b[0m\n\u001b[1;32m      1\u001b[0m \u001b[0;31m# we cannot provide index that is out of the range\u001b[0m\u001b[0;34m\u001b[0m\u001b[0;34m\u001b[0m\u001b[0m\n\u001b[0;32m----> 2\u001b[0;31m \u001b[0mg\u001b[0m\u001b[0;34m[\u001b[0m\u001b[0;36m10\u001b[0m\u001b[0;34m]\u001b[0m\u001b[0;34m\u001b[0m\u001b[0;34m\u001b[0m\u001b[0m\n\u001b[0m",
            "\u001b[0;31mIndexError\u001b[0m: string index out of range"
          ]
        }
      ]
    },
    {
      "cell_type": "markdown",
      "metadata": {
        "id": "doB3kNYGgg0P"
      },
      "source": [
        "###2.negative indexing"
      ]
    },
    {
      "cell_type": "code",
      "source": [
        "g"
      ],
      "metadata": {
        "colab": {
          "base_uri": "https://localhost:8080/",
          "height": 36
        },
        "id": "5mVXJUuMMsgg",
        "outputId": "d143c4ee-711c-4c49-c8ef-beaaef88d911"
      },
      "execution_count": null,
      "outputs": [
        {
          "output_type": "execute_result",
          "data": {
            "text/plain": [
              "'hello'"
            ],
            "application/vnd.google.colaboratory.intrinsic+json": {
              "type": "string"
            }
          },
          "metadata": {},
          "execution_count": 12
        }
      ]
    },
    {
      "cell_type": "code",
      "execution_count": null,
      "metadata": {
        "colab": {
          "base_uri": "https://localhost:8080/",
          "height": 36
        },
        "id": "x39YCGYjjQHi",
        "outputId": "954a3643-7c4b-46b9-a088-64150977dc0c"
      },
      "outputs": [
        {
          "output_type": "execute_result",
          "data": {
            "text/plain": [
              "'o'"
            ],
            "application/vnd.google.colaboratory.intrinsic+json": {
              "type": "string"
            }
          },
          "metadata": {},
          "execution_count": 15
        }
      ],
      "source": [
        "g[-1]"
      ]
    },
    {
      "cell_type": "markdown",
      "metadata": {
        "id": "lSvswdPKhPn8"
      },
      "source": [
        "###3.slicing concept"
      ]
    },
    {
      "cell_type": "markdown",
      "source": [
        "- To fetch the number of unicode charaters froma particular string you just have to provide one indexinging position higher than required\n",
        "\n",
        "- The out of range indexing will not give an error in case of slicing"
      ],
      "metadata": {
        "id": "tI34cTepNa9s"
      }
    },
    {
      "cell_type": "code",
      "source": [
        "g= 'hello world'"
      ],
      "metadata": {
        "id": "ad4dXXGQNQBU"
      },
      "execution_count": null,
      "outputs": []
    },
    {
      "cell_type": "code",
      "execution_count": null,
      "metadata": {
        "colab": {
          "base_uri": "https://localhost:8080/",
          "height": 36
        },
        "id": "SuNelqdrjtzM",
        "outputId": "e4401369-36ad-4c2b-adbb-5ac4121bc0e2"
      },
      "outputs": [
        {
          "output_type": "execute_result",
          "data": {
            "text/plain": [
              "'hello'"
            ],
            "application/vnd.google.colaboratory.intrinsic+json": {
              "type": "string"
            }
          },
          "metadata": {},
          "execution_count": 19
        }
      ],
      "source": [
        "g[0:10]"
      ]
    },
    {
      "cell_type": "code",
      "execution_count": null,
      "metadata": {
        "colab": {
          "base_uri": "https://localhost:8080/"
        },
        "id": "WMzNRSV5kDqo",
        "outputId": "c6c72a33-6e8c-4aba-a9de-8f87bcb2f58e"
      },
      "outputs": [
        {
          "output_type": "stream",
          "name": "stdout",
          "text": [
            "lo world\n"
          ]
        }
      ],
      "source": [
        "print(g[3:])"
      ]
    },
    {
      "cell_type": "code",
      "execution_count": null,
      "metadata": {
        "colab": {
          "base_uri": "https://localhost:8080/"
        },
        "id": "pjN1iG1ckQWf",
        "outputId": "83445e9b-13c0-4fcc-8ae2-233793e31c68"
      },
      "outputs": [
        {
          "output_type": "stream",
          "name": "stdout",
          "text": [
            "hel\n"
          ]
        }
      ],
      "source": [
        "print(g[:3])"
      ]
    },
    {
      "cell_type": "code",
      "execution_count": null,
      "metadata": {
        "colab": {
          "base_uri": "https://localhost:8080/"
        },
        "id": "wD9svNNIkY7-",
        "outputId": "d531a146-dd37-4c0d-be6b-8bd0f56e3300"
      },
      "outputs": [
        {
          "output_type": "stream",
          "name": "stdout",
          "text": [
            "hello world\n"
          ]
        }
      ],
      "source": [
        "print(g[:])"
      ]
    },
    {
      "cell_type": "code",
      "execution_count": null,
      "metadata": {
        "colab": {
          "base_uri": "https://localhost:8080/"
        },
        "id": "vUNW2yjCkfbg",
        "outputId": "6d34c030-e338-4c9e-87ff-4d1c9c6f0e23"
      },
      "outputs": [
        {
          "output_type": "stream",
          "name": "stdout",
          "text": [
            "hlowr\n"
          ]
        }
      ],
      "source": [
        "# every 3rd element is printed out\n",
        "print(g[0:10:2])"
      ]
    },
    {
      "cell_type": "code",
      "execution_count": null,
      "metadata": {
        "colab": {
          "base_uri": "https://localhost:8080/",
          "height": 36
        },
        "id": "bdu-dDSCkxj3",
        "outputId": "b0d3745f-d403-43ff-b320-f5a30fada388"
      },
      "outputs": [
        {
          "output_type": "execute_result",
          "data": {
            "text/plain": [
              "'dlrow olleh'"
            ],
            "application/vnd.google.colaboratory.intrinsic+json": {
              "type": "string"
            }
          },
          "metadata": {},
          "execution_count": 25
        }
      ],
      "source": [
        "g[::-1]"
      ]
    },
    {
      "cell_type": "markdown",
      "metadata": {
        "id": "FIYqy6wKiogn"
      },
      "source": [
        "## EDITING,ADDITION AND DELETING STRINGS"
      ]
    },
    {
      "cell_type": "markdown",
      "source": [
        "##Mutagenecity (access to change or modify the information present in a specific data structure\"\n",
        "\n",
        "- 1.Immutable data types (strings and tuples)\n",
        "- 2.mutable data types (all other data types)"
      ],
      "metadata": {
        "id": "vUVzK6iZPvpK"
      }
    },
    {
      "cell_type": "markdown",
      "metadata": {
        "id": "Dm6MMpgAkNqo"
      },
      "source": [
        "###editing"
      ]
    },
    {
      "cell_type": "code",
      "execution_count": null,
      "metadata": {
        "colab": {
          "base_uri": "https://localhost:8080/"
        },
        "id": "LbHSXYL8lGth",
        "outputId": "6d60bbb2-847d-4a55-b01d-66458dbc2820"
      },
      "outputs": [
        {
          "output_type": "stream",
          "name": "stdout",
          "text": [
            "hello\n"
          ]
        }
      ],
      "source": [
        "g=('hello')\n",
        "print(g)"
      ]
    },
    {
      "cell_type": "code",
      "source": [
        "g[4]='p'"
      ],
      "metadata": {
        "colab": {
          "base_uri": "https://localhost:8080/",
          "height": 146
        },
        "id": "LdSeTm1DPgXQ",
        "outputId": "a30c0075-dc6a-4995-f097-c463dde4e85a"
      },
      "execution_count": null,
      "outputs": [
        {
          "output_type": "error",
          "ename": "TypeError",
          "evalue": "'str' object does not support item assignment",
          "traceback": [
            "\u001b[0;31m---------------------------------------------------------------------------\u001b[0m",
            "\u001b[0;31mTypeError\u001b[0m                                 Traceback (most recent call last)",
            "\u001b[0;32m<ipython-input-27-d8a785f39fcc>\u001b[0m in \u001b[0;36m<cell line: 1>\u001b[0;34m()\u001b[0m\n\u001b[0;32m----> 1\u001b[0;31m \u001b[0mg\u001b[0m\u001b[0;34m[\u001b[0m\u001b[0;36m4\u001b[0m\u001b[0;34m]\u001b[0m\u001b[0;34m=\u001b[0m\u001b[0;34m'p'\u001b[0m\u001b[0;34m\u001b[0m\u001b[0;34m\u001b[0m\u001b[0m\n\u001b[0m",
            "\u001b[0;31mTypeError\u001b[0m: 'str' object does not support item assignment"
          ]
        }
      ]
    },
    {
      "cell_type": "code",
      "execution_count": null,
      "metadata": {
        "colab": {
          "base_uri": "https://localhost:8080/",
          "height": 182
        },
        "id": "sjp4FrDGlLZM",
        "outputId": "2746736e-0a10-49e2-8b7b-57b1ecc92c9c"
      },
      "outputs": [
        {
          "output_type": "error",
          "ename": "TypeError",
          "evalue": "'str' object does not support item assignment",
          "traceback": [
            "\u001b[0;31m---------------------------------------------------------------------------\u001b[0m",
            "\u001b[0;31mTypeError\u001b[0m                                 Traceback (most recent call last)",
            "\u001b[0;32m<ipython-input-28-f34887d234b9>\u001b[0m in \u001b[0;36m<cell line: 1>\u001b[0;34m()\u001b[0m\n\u001b[0;32m----> 1\u001b[0;31m \u001b[0mg\u001b[0m\u001b[0;34m[\u001b[0m\u001b[0;36m0\u001b[0m\u001b[0;34m]\u001b[0m\u001b[0;34m=\u001b[0m\u001b[0md\u001b[0m\u001b[0;34m\u001b[0m\u001b[0;34m\u001b[0m\u001b[0m\n\u001b[0m\u001b[1;32m      2\u001b[0m \u001b[0;31m# Strings are immutable data types (not editable)\u001b[0m\u001b[0;34m\u001b[0m\u001b[0;34m\u001b[0m\u001b[0m\n\u001b[1;32m      3\u001b[0m \u001b[0;31m# Addition is also not possible for the same reason\u001b[0m\u001b[0;34m\u001b[0m\u001b[0;34m\u001b[0m\u001b[0m\n",
            "\u001b[0;31mTypeError\u001b[0m: 'str' object does not support item assignment"
          ]
        }
      ],
      "source": [
        "g[0]=d\n",
        "# Strings are immutable data types (not editable)\n",
        "# Addition is also not possible for the same reason"
      ]
    },
    {
      "cell_type": "code",
      "execution_count": null,
      "metadata": {
        "colab": {
          "base_uri": "https://localhost:8080/"
        },
        "id": "q8XiDN-alnRh",
        "outputId": "24fa0b48-2e4e-402d-bdac-66048fc7b1ed"
      },
      "outputs": [
        {
          "output_type": "stream",
          "name": "stdout",
          "text": [
            "world\n"
          ]
        }
      ],
      "source": [
        "g=(\"world\")\n",
        "print(g)"
      ]
    },
    {
      "cell_type": "markdown",
      "metadata": {
        "id": "vq3SSfTVkQl1"
      },
      "source": [
        "###delete"
      ]
    },
    {
      "cell_type": "markdown",
      "source": [
        "- We can delete the whole string but not its subparts"
      ],
      "metadata": {
        "id": "Fr2El7-JRw4V"
      }
    },
    {
      "cell_type": "code",
      "execution_count": null,
      "metadata": {
        "id": "qgbKgMu4l3GI"
      },
      "outputs": [],
      "source": [
        "del g"
      ]
    },
    {
      "cell_type": "code",
      "execution_count": null,
      "metadata": {
        "colab": {
          "base_uri": "https://localhost:8080/",
          "height": 146
        },
        "id": "z9mR2caYl7Gx",
        "outputId": "baef040a-eeae-43e2-f529-9c6ff8bf51d8"
      },
      "outputs": [
        {
          "output_type": "error",
          "ename": "NameError",
          "evalue": "name 'g' is not defined",
          "traceback": [
            "\u001b[0;31m---------------------------------------------------------------------------\u001b[0m",
            "\u001b[0;31mNameError\u001b[0m                                 Traceback (most recent call last)",
            "\u001b[0;32m<ipython-input-32-e1cdc681402c>\u001b[0m in \u001b[0;36m<cell line: 1>\u001b[0;34m()\u001b[0m\n\u001b[0;32m----> 1\u001b[0;31m \u001b[0mprint\u001b[0m\u001b[0;34m(\u001b[0m\u001b[0mg\u001b[0m\u001b[0;34m)\u001b[0m\u001b[0;34m\u001b[0m\u001b[0;34m\u001b[0m\u001b[0m\n\u001b[0m",
            "\u001b[0;31mNameError\u001b[0m: name 'g' is not defined"
          ]
        }
      ],
      "source": [
        "print(g)"
      ]
    },
    {
      "cell_type": "code",
      "execution_count": null,
      "metadata": {
        "colab": {
          "base_uri": "https://localhost:8080/",
          "height": 164
        },
        "id": "T_bq_xZbmBiw",
        "outputId": "54f71686-2e52-40ad-a109-d2d5968813e0"
      },
      "outputs": [
        {
          "output_type": "error",
          "ename": "IndexError",
          "evalue": "list assignment index out of range",
          "traceback": [
            "\u001b[0;31m---------------------------------------------------------------------------\u001b[0m",
            "\u001b[0;31mIndexError\u001b[0m                                Traceback (most recent call last)",
            "\u001b[0;32m<ipython-input-33-9abea7fbbde2>\u001b[0m in \u001b[0;36m<cell line: 2>\u001b[0;34m()\u001b[0m\n\u001b[1;32m      1\u001b[0m \u001b[0mg\u001b[0m\u001b[0;34m=\u001b[0m\u001b[0;34m[\u001b[0m\u001b[0;34m'element'\u001b[0m\u001b[0;34m]\u001b[0m\u001b[0;34m\u001b[0m\u001b[0;34m\u001b[0m\u001b[0m\n\u001b[0;32m----> 2\u001b[0;31m \u001b[0;32mdel\u001b[0m \u001b[0mg\u001b[0m\u001b[0;34m[\u001b[0m\u001b[0;36m2\u001b[0m\u001b[0;34m]\u001b[0m\u001b[0;34m\u001b[0m\u001b[0;34m\u001b[0m\u001b[0m\n\u001b[0m",
            "\u001b[0;31mIndexError\u001b[0m: list assignment index out of range"
          ]
        }
      ],
      "source": [
        "g=['element']\n",
        "del g[2]"
      ]
    },
    {
      "cell_type": "markdown",
      "metadata": {
        "id": "J9KGTERekpeI"
      },
      "source": [
        "##STRING OPERATIONS"
      ]
    },
    {
      "cell_type": "markdown",
      "metadata": {
        "id": "5_v7Daxdk8Dm"
      },
      "source": [
        "###1.Arithmetic"
      ]
    },
    {
      "cell_type": "markdown",
      "metadata": {
        "id": "yyV5651LlIsJ"
      },
      "source": [
        "####(a). string concatenation(addition)"
      ]
    },
    {
      "cell_type": "code",
      "execution_count": null,
      "metadata": {
        "colab": {
          "base_uri": "https://localhost:8080/",
          "height": 36
        },
        "id": "IReqx1jLmttZ",
        "outputId": "7cac16a3-8327-47fa-da3e-a96ececeddb8"
      },
      "outputs": [
        {
          "output_type": "execute_result",
          "data": {
            "text/plain": [
              "'Ahmad Hassan'"
            ],
            "application/vnd.google.colaboratory.intrinsic+json": {
              "type": "string"
            }
          },
          "metadata": {},
          "execution_count": 40
        }
      ],
      "source": [
        "\"Ahmad\" + ' '+ \"Hassan\""
      ]
    },
    {
      "cell_type": "markdown",
      "metadata": {
        "id": "11_nzESOlMHv"
      },
      "source": [
        "####(b)strings multiplication"
      ]
    },
    {
      "cell_type": "code",
      "execution_count": null,
      "metadata": {
        "colab": {
          "base_uri": "https://localhost:8080/"
        },
        "id": "4nSCugV5m8gh",
        "outputId": "6e8288da-77ae-40f8-85bd-1474ad939143"
      },
      "outputs": [
        {
          "output_type": "stream",
          "name": "stdout",
          "text": [
            "stopstopstopstopstopstopstopstopstopstop\n"
          ]
        }
      ],
      "source": [
        "print('stop'*10)"
      ]
    },
    {
      "cell_type": "code",
      "execution_count": null,
      "metadata": {
        "colab": {
          "base_uri": "https://localhost:8080/"
        },
        "id": "PZfyNBUrnKzy",
        "outputId": "038f0243-200e-4c32-c4fa-1902df55c94e"
      },
      "outputs": [
        {
          "output_type": "stream",
          "name": "stdout",
          "text": [
            "****************************************************************************************************\n"
          ]
        }
      ],
      "source": [
        "print(\"*\"*100)"
      ]
    },
    {
      "cell_type": "markdown",
      "metadata": {
        "id": "KbGovyY_lQFu"
      },
      "source": [
        "###2.Relational/Comparison"
      ]
    },
    {
      "cell_type": "markdown",
      "source": [
        "- If two different strings present then lexiographical addition will happen\n",
        "- If same strings are present then order of index matters"
      ],
      "metadata": {
        "id": "8eHcJFpPUolW"
      }
    },
    {
      "cell_type": "code",
      "execution_count": null,
      "metadata": {
        "colab": {
          "base_uri": "https://localhost:8080/"
        },
        "id": "UYVoyl2SnX9f",
        "outputId": "eaf5f1b6-e123-44b8-9f4b-3666e7ba3d4d"
      },
      "outputs": [
        {
          "output_type": "execute_result",
          "data": {
            "text/plain": [
              "False"
            ]
          },
          "metadata": {},
          "execution_count": 44
        }
      ],
      "source": [
        "'true'=='eutr'"
      ]
    },
    {
      "cell_type": "code",
      "execution_count": null,
      "metadata": {
        "colab": {
          "base_uri": "https://localhost:8080/"
        },
        "id": "57Sy_CKzno5K",
        "outputId": "aa2f3442-d3e4-44d7-fbe7-71febd1b596c"
      },
      "outputs": [
        {
          "output_type": "execute_result",
          "data": {
            "text/plain": [
              "True"
            ]
          },
          "metadata": {},
          "execution_count": 42
        }
      ],
      "source": [
        "'false'!='true'"
      ]
    },
    {
      "cell_type": "code",
      "source": [
        "'adfg' == 'fgda'"
      ],
      "metadata": {
        "colab": {
          "base_uri": "https://localhost:8080/"
        },
        "id": "_QkQWlMlUCID",
        "outputId": "2c2671cb-cd6a-4a84-cc0c-aa6ec80963fb"
      },
      "execution_count": null,
      "outputs": [
        {
          "output_type": "execute_result",
          "data": {
            "text/plain": [
              "False"
            ]
          },
          "metadata": {},
          "execution_count": 43
        }
      ]
    },
    {
      "cell_type": "code",
      "execution_count": null,
      "metadata": {
        "colab": {
          "base_uri": "https://localhost:8080/"
        },
        "id": "9f52q0EMnq0I",
        "outputId": "1019742f-060f-4b32-f41e-02e395de4832"
      },
      "outputs": [
        {
          "output_type": "execute_result",
          "data": {
            "text/plain": [
              "False"
            ]
          },
          "metadata": {},
          "execution_count": 45
        }
      ],
      "source": [
        "\"hello\">'world'"
      ]
    },
    {
      "cell_type": "code",
      "execution_count": null,
      "metadata": {
        "colab": {
          "base_uri": "https://localhost:8080/"
        },
        "id": "WDMrjJgYoH0r",
        "outputId": "e024e63d-b6b8-43e4-8f46-f7d6b281d258"
      },
      "outputs": [
        {
          "output_type": "execute_result",
          "data": {
            "text/plain": [
              "True"
            ]
          },
          "metadata": {},
          "execution_count": 46
        }
      ],
      "source": [
        "'true'=='true'"
      ]
    },
    {
      "cell_type": "markdown",
      "metadata": {
        "id": "i3Z0uC5-lWtX"
      },
      "source": [
        "###3.logical"
      ]
    },
    {
      "cell_type": "markdown",
      "source": [
        "- For logical operation on strings any written string will be considered as 1 and empty string will be considered as 0"
      ],
      "metadata": {
        "id": "vflSAsmKVLvJ"
      }
    },
    {
      "cell_type": "code",
      "execution_count": null,
      "metadata": {
        "colab": {
          "base_uri": "https://localhost:8080/",
          "height": 36
        },
        "id": "J8JKvoX8oQ2K",
        "outputId": "221cce77-e8b0-41ea-aff3-3f40d23d6eba"
      },
      "outputs": [
        {
          "data": {
            "application/vnd.google.colaboratory.intrinsic+json": {
              "type": "string"
            },
            "text/plain": [
              "'hello'"
            ]
          },
          "execution_count": 6,
          "metadata": {},
          "output_type": "execute_result"
        }
      ],
      "source": [
        "'world'and'hello'"
      ]
    },
    {
      "cell_type": "code",
      "execution_count": null,
      "metadata": {
        "colab": {
          "base_uri": "https://localhost:8080/",
          "height": 36
        },
        "id": "tSBueNygogaY",
        "outputId": "bdb6d45e-308a-46bc-ffa6-fca1bdb9a5b0"
      },
      "outputs": [
        {
          "output_type": "execute_result",
          "data": {
            "text/plain": [
              "'hello'"
            ],
            "application/vnd.google.colaboratory.intrinsic+json": {
              "type": "string"
            }
          },
          "metadata": {},
          "execution_count": 47
        }
      ],
      "source": [
        "\" \"and\"hello\""
      ]
    },
    {
      "cell_type": "code",
      "execution_count": null,
      "metadata": {
        "colab": {
          "base_uri": "https://localhost:8080/",
          "height": 36
        },
        "id": "DQeaAcXgoxFT",
        "outputId": "ca29bbb4-3989-4a80-97f8-86c56b71727d"
      },
      "outputs": [
        {
          "output_type": "execute_result",
          "data": {
            "text/plain": [
              "'hello'"
            ],
            "application/vnd.google.colaboratory.intrinsic+json": {
              "type": "string"
            }
          },
          "metadata": {},
          "execution_count": 48
        }
      ],
      "source": [
        "\"\"or\"hello\""
      ]
    },
    {
      "cell_type": "code",
      "execution_count": null,
      "metadata": {
        "colab": {
          "base_uri": "https://localhost:8080/"
        },
        "id": "ndLAMPHDo6EJ",
        "outputId": "f578f029-0e13-4d5a-f6c6-223160a515b4"
      },
      "outputs": [
        {
          "output_type": "execute_result",
          "data": {
            "text/plain": [
              "False"
            ]
          },
          "metadata": {},
          "execution_count": 50
        }
      ],
      "source": [
        "not \" \""
      ]
    },
    {
      "cell_type": "markdown",
      "metadata": {
        "id": "-5pUD9UdlftT"
      },
      "source": [
        "###4.Loops on strings"
      ]
    },
    {
      "cell_type": "code",
      "execution_count": null,
      "metadata": {
        "colab": {
          "base_uri": "https://localhost:8080/"
        },
        "id": "W-bG9JHwpFqr",
        "outputId": "2a932631-efdc-4e42-cde1-615bbee6efe9"
      },
      "outputs": [
        {
          "output_type": "stream",
          "name": "stdout",
          "text": [
            "d\n",
            "l\n",
            "r\n",
            "o\n",
            "w\n",
            " \n",
            "o\n",
            "l\n",
            "l\n",
            "e\n",
            "h\n"
          ]
        }
      ],
      "source": [
        "j='hello world'\n",
        "for p in j[::-1]:\n",
        "  print(p)"
      ]
    },
    {
      "cell_type": "markdown",
      "metadata": {
        "id": "QoQJdl6QqWUj"
      },
      "source": [
        "###5.Membership (in) (not in)\n",
        "\n",
        "- It is used to check whether one thing is present in other or not"
      ]
    },
    {
      "cell_type": "code",
      "execution_count": null,
      "metadata": {
        "colab": {
          "base_uri": "https://localhost:8080/"
        },
        "id": "LIaqOBQipaeP",
        "outputId": "c4388308-0448-4075-b6c0-f9a385284d80"
      },
      "outputs": [
        {
          "output_type": "stream",
          "name": "stdout",
          "text": [
            "True\n"
          ]
        }
      ],
      "source": [
        "x= 'ahmed'\n",
        "print('d'in x)"
      ]
    },
    {
      "cell_type": "markdown",
      "metadata": {
        "id": "GWTFZljbqurx"
      },
      "source": [
        "## FUNCTIONS ON STRINGS"
      ]
    },
    {
      "cell_type": "markdown",
      "metadata": {
        "id": "hu_GXxXbYIp0"
      },
      "source": [
        "###Common Functions(apply on any iterable)"
      ]
    },
    {
      "cell_type": "code",
      "execution_count": null,
      "metadata": {
        "colab": {
          "base_uri": "https://localhost:8080/"
        },
        "id": "CgUZzm6op3ep",
        "outputId": "9427eb65-4614-4892-95b7-d922b46b0059"
      },
      "outputs": [
        {
          "output_type": "execute_result",
          "data": {
            "text/plain": [
              "7"
            ]
          },
          "metadata": {},
          "execution_count": 55
        }
      ],
      "source": [
        "len('ahmed  ')"
      ]
    },
    {
      "cell_type": "code",
      "execution_count": null,
      "metadata": {
        "colab": {
          "base_uri": "https://localhost:8080/",
          "height": 36
        },
        "id": "gTTCMuk1p7HO",
        "outputId": "5aabc24b-dded-4071-af26-371bfc0f0224"
      },
      "outputs": [
        {
          "output_type": "execute_result",
          "data": {
            "text/plain": [
              "'m'"
            ],
            "application/vnd.google.colaboratory.intrinsic+json": {
              "type": "string"
            }
          },
          "metadata": {},
          "execution_count": 56
        }
      ],
      "source": [
        "max('ahmad')"
      ]
    },
    {
      "cell_type": "code",
      "execution_count": null,
      "metadata": {
        "colab": {
          "base_uri": "https://localhost:8080/",
          "height": 36
        },
        "id": "Fjxq29hWp-6F",
        "outputId": "6c697d1a-eb84-4289-f258-927fc4f5d52c"
      },
      "outputs": [
        {
          "output_type": "execute_result",
          "data": {
            "text/plain": [
              "'a'"
            ],
            "application/vnd.google.colaboratory.intrinsic+json": {
              "type": "string"
            }
          },
          "metadata": {},
          "execution_count": 57
        }
      ],
      "source": [
        "min('ahmad')"
      ]
    },
    {
      "cell_type": "code",
      "execution_count": null,
      "metadata": {
        "colab": {
          "base_uri": "https://localhost:8080/"
        },
        "id": "8GZ1e1JLqDCI",
        "outputId": "31229621-df5b-44b7-fcbd-7829f84afa5b"
      },
      "outputs": [
        {
          "output_type": "execute_result",
          "data": {
            "text/plain": [
              "[' ', 'a', 'a', 'a', 'a', 'd', 'h', 'h', 'm', 'n', 's', 's']"
            ]
          },
          "metadata": {},
          "execution_count": 59
        }
      ],
      "source": [
        "sorted(\"ahmad hassan\")"
      ]
    },
    {
      "cell_type": "code",
      "execution_count": null,
      "metadata": {
        "colab": {
          "base_uri": "https://localhost:8080/"
        },
        "id": "PjvpWIgJqWmm",
        "outputId": "f60cf1a2-3c45-4b27-b762-093fe06f1af5"
      },
      "outputs": [
        {
          "output_type": "execute_result",
          "data": {
            "text/plain": [
              "['s', 's', 'n', 'm', 'h', 'h', 'd', 'a', 'a', 'a', 'a', ' ']"
            ]
          },
          "metadata": {},
          "execution_count": 60
        }
      ],
      "source": [
        "sorted(\"ahmad hassan\",reverse=True)"
      ]
    },
    {
      "cell_type": "markdown",
      "metadata": {
        "id": "-LrQxVEBYnfp"
      },
      "source": [
        "###Function apply on only strings\n",
        "\n"
      ]
    },
    {
      "cell_type": "markdown",
      "metadata": {
        "id": "NoX_uB72Fmii"
      },
      "source": [
        "####1.Capitalize/Title/Upper/Lower/Swapcase"
      ]
    },
    {
      "cell_type": "code",
      "execution_count": null,
      "metadata": {
        "id": "P0MvkYJBqiio"
      },
      "outputs": [],
      "source": [
        "d=\"we are learning Python\""
      ]
    },
    {
      "cell_type": "code",
      "execution_count": null,
      "metadata": {
        "colab": {
          "base_uri": "https://localhost:8080/",
          "height": 36
        },
        "id": "84C2g5GMq4YX",
        "outputId": "1c2add91-7cad-41fd-d628-d32171eef266"
      },
      "outputs": [
        {
          "output_type": "execute_result",
          "data": {
            "text/plain": [
              "'We are learning python'"
            ],
            "application/vnd.google.colaboratory.intrinsic+json": {
              "type": "string"
            }
          },
          "metadata": {},
          "execution_count": 63
        }
      ],
      "source": [
        "d.capitalize()"
      ]
    },
    {
      "cell_type": "code",
      "execution_count": null,
      "metadata": {
        "colab": {
          "base_uri": "https://localhost:8080/",
          "height": 36
        },
        "id": "LMwwi5_6q-fo",
        "outputId": "9836bff9-71af-46a3-c250-225aa676765f"
      },
      "outputs": [
        {
          "output_type": "execute_result",
          "data": {
            "text/plain": [
              "'We Are Learning Python'"
            ],
            "application/vnd.google.colaboratory.intrinsic+json": {
              "type": "string"
            }
          },
          "metadata": {},
          "execution_count": 65
        }
      ],
      "source": [
        "d.title()"
      ]
    },
    {
      "cell_type": "code",
      "execution_count": null,
      "metadata": {
        "colab": {
          "base_uri": "https://localhost:8080/",
          "height": 36
        },
        "id": "2RAGKwv_rD7U",
        "outputId": "b1d6d426-df09-4d79-aa2a-cc391b40b432"
      },
      "outputs": [
        {
          "output_type": "execute_result",
          "data": {
            "text/plain": [
              "'WE ARE LEARNING PYTHON'"
            ],
            "application/vnd.google.colaboratory.intrinsic+json": {
              "type": "string"
            }
          },
          "metadata": {},
          "execution_count": 66
        }
      ],
      "source": [
        "d.upper()"
      ]
    },
    {
      "cell_type": "code",
      "source": [
        "d.lower()"
      ],
      "metadata": {
        "colab": {
          "base_uri": "https://localhost:8080/",
          "height": 36
        },
        "id": "HkTy6Jg5Z5O5",
        "outputId": "0edc388d-5583-4429-bf5d-47079716b1b1"
      },
      "execution_count": null,
      "outputs": [
        {
          "output_type": "execute_result",
          "data": {
            "text/plain": [
              "'we are learning python'"
            ],
            "application/vnd.google.colaboratory.intrinsic+json": {
              "type": "string"
            }
          },
          "metadata": {},
          "execution_count": 68
        }
      ]
    },
    {
      "cell_type": "code",
      "execution_count": null,
      "metadata": {
        "colab": {
          "base_uri": "https://localhost:8080/",
          "height": 36
        },
        "id": "6J-JlWGUrIe0",
        "outputId": "7cf7c317-f177-4c5b-e381-282a697d4ed8"
      },
      "outputs": [
        {
          "output_type": "execute_result",
          "data": {
            "text/plain": [
              "'WE ARE LEARNING pYTHON'"
            ],
            "application/vnd.google.colaboratory.intrinsic+json": {
              "type": "string"
            }
          },
          "metadata": {},
          "execution_count": 67
        }
      ],
      "source": [
        "d.swapcase()"
      ]
    },
    {
      "cell_type": "markdown",
      "metadata": {
        "id": "TrqCqT_raxy_"
      },
      "source": [
        "####2.COUNT"
      ]
    },
    {
      "cell_type": "code",
      "execution_count": null,
      "metadata": {
        "colab": {
          "base_uri": "https://localhost:8080/",
          "height": 36
        },
        "id": "jnW02I9AXOit",
        "outputId": "05b4e962-2148-4939-cd1e-07a89e4ee9fc"
      },
      "outputs": [
        {
          "output_type": "execute_result",
          "data": {
            "text/plain": [
              "'we are learning Python'"
            ],
            "application/vnd.google.colaboratory.intrinsic+json": {
              "type": "string"
            }
          },
          "metadata": {},
          "execution_count": 69
        }
      ],
      "source": [
        "d"
      ]
    },
    {
      "cell_type": "code",
      "execution_count": null,
      "metadata": {
        "colab": {
          "base_uri": "https://localhost:8080/"
        },
        "id": "rub9L7YTrkmo",
        "outputId": "72b00d47-e7cf-4476-dd1c-61740a72ddfd"
      },
      "outputs": [
        {
          "output_type": "execute_result",
          "data": {
            "text/plain": [
              "1"
            ]
          },
          "metadata": {},
          "execution_count": 70
        }
      ],
      "source": [
        "d.count('are')"
      ]
    },
    {
      "cell_type": "code",
      "execution_count": null,
      "metadata": {
        "colab": {
          "base_uri": "https://localhost:8080/"
        },
        "id": "FQ9yHsvervhV",
        "outputId": "0073d912-19e4-47c5-f98c-f4b64873f2ba"
      },
      "outputs": [
        {
          "output_type": "execute_result",
          "data": {
            "text/plain": [
              "2"
            ]
          },
          "metadata": {},
          "execution_count": 73
        }
      ],
      "source": [
        "d.count('a')"
      ]
    },
    {
      "cell_type": "markdown",
      "metadata": {
        "id": "w_3DyinMbKdN"
      },
      "source": [
        "####3.FIND/INDEX\n",
        "-\n",
        "In Python, the find() method is used to locate the index of a substring within a string. The index is the position of the first occurrence of the substring in the string."
      ]
    },
    {
      "cell_type": "code",
      "execution_count": null,
      "metadata": {
        "colab": {
          "base_uri": "https://localhost:8080/",
          "height": 36
        },
        "id": "VWvdvOHjZcXf",
        "outputId": "4a1f4807-e0c2-4425-c8d4-f11be9442ea5"
      },
      "outputs": [
        {
          "output_type": "execute_result",
          "data": {
            "text/plain": [
              "'we are learning Python'"
            ],
            "application/vnd.google.colaboratory.intrinsic+json": {
              "type": "string"
            }
          },
          "metadata": {},
          "execution_count": 75
        }
      ],
      "source": [
        "d"
      ]
    },
    {
      "cell_type": "code",
      "execution_count": null,
      "metadata": {
        "colab": {
          "base_uri": "https://localhost:8080/"
        },
        "id": "huLrT89or6i2",
        "outputId": "7fdd05ea-1047-4c5c-8e20-f99be766a855"
      },
      "outputs": [
        {
          "output_type": "execute_result",
          "data": {
            "text/plain": [
              "3"
            ]
          },
          "metadata": {},
          "execution_count": 74
        }
      ],
      "source": [
        "d.find('a')"
      ]
    },
    {
      "cell_type": "code",
      "execution_count": null,
      "metadata": {
        "colab": {
          "base_uri": "https://localhost:8080/"
        },
        "id": "oHHEC1Y1sCd7",
        "outputId": "e3427a49-9046-4106-9095-83458442fab3"
      },
      "outputs": [
        {
          "output_type": "execute_result",
          "data": {
            "text/plain": [
              "7"
            ]
          },
          "metadata": {},
          "execution_count": 78
        }
      ],
      "source": [
        "d=\"we are learning Python\"\n",
        "d.find(\"learning\")"
      ]
    },
    {
      "cell_type": "code",
      "execution_count": null,
      "metadata": {
        "colab": {
          "base_uri": "https://localhost:8080/"
        },
        "id": "ZziC8tE6V8uU",
        "outputId": "a39ee0ae-295a-490a-914f-6ad2f1dd65c8"
      },
      "outputs": [
        {
          "output_type": "execute_result",
          "data": {
            "text/plain": [
              "16"
            ]
          },
          "metadata": {},
          "execution_count": 80
        }
      ],
      "source": [
        "d.index(\"Python\")"
      ]
    },
    {
      "cell_type": "code",
      "execution_count": null,
      "metadata": {
        "colab": {
          "base_uri": "https://localhost:8080/"
        },
        "id": "7Mtdw-A6Vs0g",
        "outputId": "7ce21c64-f493-4669-d207-bc06d7b24464"
      },
      "outputs": [
        {
          "output_type": "execute_result",
          "data": {
            "text/plain": [
              "-1"
            ]
          },
          "metadata": {},
          "execution_count": 81
        }
      ],
      "source": [
        "d.find(\"going\")"
      ]
    },
    {
      "cell_type": "code",
      "execution_count": null,
      "metadata": {
        "colab": {
          "base_uri": "https://localhost:8080/",
          "height": 146
        },
        "id": "IIlsjtD4V1cT",
        "outputId": "dd33a7fe-9b7f-4be3-dae1-0cb3755924f2"
      },
      "outputs": [
        {
          "output_type": "error",
          "ename": "ValueError",
          "evalue": "substring not found",
          "traceback": [
            "\u001b[0;31m---------------------------------------------------------------------------\u001b[0m",
            "\u001b[0;31mValueError\u001b[0m                                Traceback (most recent call last)",
            "\u001b[0;32m<ipython-input-82-447ac9fbd592>\u001b[0m in \u001b[0;36m<cell line: 1>\u001b[0;34m()\u001b[0m\n\u001b[0;32m----> 1\u001b[0;31m \u001b[0md\u001b[0m\u001b[0;34m.\u001b[0m\u001b[0mindex\u001b[0m\u001b[0;34m(\u001b[0m\u001b[0;34m'going'\u001b[0m\u001b[0;34m)\u001b[0m\u001b[0;34m\u001b[0m\u001b[0;34m\u001b[0m\u001b[0m\n\u001b[0m",
            "\u001b[0;31mValueError\u001b[0m: substring not found"
          ]
        }
      ],
      "source": [
        "d.index('going')"
      ]
    },
    {
      "cell_type": "markdown",
      "metadata": {
        "id": "TKXuyX8gcWsi"
      },
      "source": [
        "####4.ENDS WITH/STARTS WITH"
      ]
    },
    {
      "cell_type": "code",
      "execution_count": null,
      "metadata": {
        "colab": {
          "base_uri": "https://localhost:8080/",
          "height": 36
        },
        "id": "nGZ1_IkGs98u",
        "outputId": "6e8fd014-f567-49ba-cf7b-30a8fe793415"
      },
      "outputs": [
        {
          "output_type": "execute_result",
          "data": {
            "text/plain": [
              "'we are learning Python'"
            ],
            "application/vnd.google.colaboratory.intrinsic+json": {
              "type": "string"
            }
          },
          "metadata": {},
          "execution_count": 83
        }
      ],
      "source": [
        "d"
      ]
    },
    {
      "cell_type": "code",
      "execution_count": null,
      "metadata": {
        "colab": {
          "base_uri": "https://localhost:8080/"
        },
        "id": "gfdkDV0AtCfT",
        "outputId": "663b55f0-006c-48d1-ad04-028869523c8a"
      },
      "outputs": [
        {
          "output_type": "execute_result",
          "data": {
            "text/plain": [
              "True"
            ]
          },
          "metadata": {},
          "execution_count": 86
        }
      ],
      "source": [
        "d.endswith('Python')"
      ]
    },
    {
      "cell_type": "code",
      "execution_count": null,
      "metadata": {
        "colab": {
          "base_uri": "https://localhost:8080/"
        },
        "id": "RM9606nqtI4Q",
        "outputId": "a538e6b7-09f1-4793-a376-7973d94ce3f0"
      },
      "outputs": [
        {
          "output_type": "execute_result",
          "data": {
            "text/plain": [
              "True"
            ]
          },
          "metadata": {},
          "execution_count": 89
        }
      ],
      "source": [
        "d.startswith('we')"
      ]
    },
    {
      "cell_type": "markdown",
      "metadata": {
        "id": "7ieeTEAmc402"
      },
      "source": [
        "####5.FORMAT"
      ]
    },
    {
      "cell_type": "code",
      "execution_count": null,
      "metadata": {
        "colab": {
          "base_uri": "https://localhost:8080/",
          "height": 36
        },
        "id": "WsI4OhWMtYO7",
        "outputId": "827b374d-8fd3-47ae-c8a9-95bed1603ec7"
      },
      "outputs": [
        {
          "output_type": "execute_result",
          "data": {
            "text/plain": [
              "'the basket contains fruits and vegetables'"
            ],
            "application/vnd.google.colaboratory.intrinsic+json": {
              "type": "string"
            }
          },
          "metadata": {},
          "execution_count": 90
        }
      ],
      "source": [
        "\"the basket contains {} and {}\".format(\"fruits\",'vegetables')"
      ]
    },
    {
      "cell_type": "code",
      "execution_count": null,
      "metadata": {
        "colab": {
          "base_uri": "https://localhost:8080/",
          "height": 36
        },
        "id": "yv3VO3EBtw1o",
        "outputId": "35a47d20-41ed-4dc3-d1d6-0531cff7a5af"
      },
      "outputs": [
        {
          "output_type": "execute_result",
          "data": {
            "text/plain": [
              "'the basket contains vegetables and fruits'"
            ],
            "application/vnd.google.colaboratory.intrinsic+json": {
              "type": "string"
            }
          },
          "metadata": {},
          "execution_count": 91
        }
      ],
      "source": [
        "\"the basket contains {1} and {0}\".format(\"fruits\",'vegetables')"
      ]
    },
    {
      "cell_type": "code",
      "execution_count": null,
      "metadata": {
        "colab": {
          "base_uri": "https://localhost:8080/",
          "height": 36
        },
        "id": "HkwL4guTt34Q",
        "outputId": "865f36dd-55f1-431e-d5b1-efccf9fe0338"
      },
      "outputs": [
        {
          "output_type": "execute_result",
          "data": {
            "text/plain": [
              "'the basket contains vegetables and fruits'"
            ],
            "application/vnd.google.colaboratory.intrinsic+json": {
              "type": "string"
            }
          },
          "metadata": {},
          "execution_count": 92
        }
      ],
      "source": [
        "\"the basket contains {two} and {one}\".format(one=\"fruits\",two='vegetables')"
      ]
    },
    {
      "cell_type": "markdown",
      "metadata": {
        "id": "BBPk2qC5d1jR"
      },
      "source": [
        "####6.isalnum/ isalpha/ isdecimal/ isdigit/ isidentifier"
      ]
    },
    {
      "cell_type": "code",
      "execution_count": null,
      "metadata": {
        "colab": {
          "base_uri": "https://localhost:8080/"
        },
        "id": "IIL1hOJXuCIQ",
        "outputId": "a99a987d-306f-4a6f-d465-a65042713381"
      },
      "outputs": [
        {
          "output_type": "execute_result",
          "data": {
            "text/plain": [
              "True"
            ]
          },
          "metadata": {},
          "execution_count": 96
        }
      ],
      "source": [
        "\"city66\".isalnum()"
      ]
    },
    {
      "cell_type": "code",
      "execution_count": null,
      "metadata": {
        "colab": {
          "base_uri": "https://localhost:8080/"
        },
        "id": "7cMpsmAtuSPA",
        "outputId": "e6aaab24-d0e6-4ffd-b144-9f4f8e5b2c08"
      },
      "outputs": [
        {
          "output_type": "execute_result",
          "data": {
            "text/plain": [
              "True"
            ]
          },
          "metadata": {},
          "execution_count": 98
        }
      ],
      "source": [
        "\"city\".isalpha()"
      ]
    },
    {
      "cell_type": "code",
      "execution_count": null,
      "metadata": {
        "colab": {
          "base_uri": "https://localhost:8080/"
        },
        "id": "n47o2D0cunJD",
        "outputId": "7d2ca853-ad30-47a8-c0cf-0ee2bea4a490"
      },
      "outputs": [
        {
          "output_type": "execute_result",
          "data": {
            "text/plain": [
              "True"
            ]
          },
          "metadata": {},
          "execution_count": 100
        }
      ],
      "source": [
        "'3'.isdecimal()"
      ]
    },
    {
      "cell_type": "code",
      "execution_count": null,
      "metadata": {
        "colab": {
          "base_uri": "https://localhost:8080/"
        },
        "id": "GJswpyd3uv3M",
        "outputId": "8152cebc-e2bb-4b18-eeb7-791af0950f88"
      },
      "outputs": [
        {
          "output_type": "execute_result",
          "data": {
            "text/plain": [
              "False"
            ]
          },
          "metadata": {},
          "execution_count": 102
        }
      ],
      "source": [
        "\"40j\".isdigit()"
      ]
    },
    {
      "cell_type": "code",
      "execution_count": null,
      "metadata": {
        "colab": {
          "base_uri": "https://localhost:8080/",
          "height": 36
        },
        "id": "nE2aRYxAdOAz",
        "outputId": "f55d99b7-64c3-404a-fd64-c7e10121164e"
      },
      "outputs": [
        {
          "output_type": "execute_result",
          "data": {
            "text/plain": [
              "'we are learning Python'"
            ],
            "application/vnd.google.colaboratory.intrinsic+json": {
              "type": "string"
            }
          },
          "metadata": {},
          "execution_count": 103
        }
      ],
      "source": [
        "d"
      ]
    },
    {
      "cell_type": "code",
      "execution_count": null,
      "metadata": {
        "colab": {
          "base_uri": "https://localhost:8080/"
        },
        "id": "4I7OT8CUu5py",
        "outputId": "bfa715c5-3fdd-41c1-a962-a1c3e29e1000"
      },
      "outputs": [
        {
          "output_type": "execute_result",
          "data": {
            "text/plain": [
              "False"
            ]
          },
          "metadata": {},
          "execution_count": 106
        }
      ],
      "source": [
        "\"0_d\".isidentifier()"
      ]
    },
    {
      "cell_type": "markdown",
      "metadata": {
        "id": "ws9nylJHfh6A"
      },
      "source": [
        "####7.SPLIT"
      ]
    },
    {
      "cell_type": "code",
      "execution_count": null,
      "metadata": {
        "colab": {
          "base_uri": "https://localhost:8080/"
        },
        "id": "9z7BDitEvE2S",
        "outputId": "b78640e0-8166-4b6e-998a-4fc4341d22d9"
      },
      "outputs": [
        {
          "output_type": "execute_result",
          "data": {
            "text/plain": [
              "['he', 'is', 'going', 'to', 'university']"
            ]
          },
          "metadata": {},
          "execution_count": 107
        }
      ],
      "source": [
        "\"he is going to university\".split()"
      ]
    },
    {
      "cell_type": "code",
      "execution_count": null,
      "metadata": {
        "colab": {
          "base_uri": "https://localhost:8080/"
        },
        "id": "3ItNEd-5vP9Z",
        "outputId": "b9430446-1285-44fb-d301-ed8cbdcbe0eb"
      },
      "outputs": [
        {
          "output_type": "execute_result",
          "data": {
            "text/plain": [
              "['he ', 's go', 'ng to un', 'vers', 'ty']"
            ]
          },
          "metadata": {},
          "execution_count": 108
        }
      ],
      "source": [
        "\"he is going to university\".split('i')"
      ]
    },
    {
      "cell_type": "markdown",
      "metadata": {
        "id": "ZUn1dK0_gY6q"
      },
      "source": [
        "####8.JOIN(OPPOSITE TO SPLIT)"
      ]
    },
    {
      "cell_type": "markdown",
      "source": [
        "- The output of a split function can be used as an input of a join function"
      ],
      "metadata": {
        "id": "ssn0ktXfeOZV"
      }
    },
    {
      "cell_type": "code",
      "execution_count": null,
      "metadata": {
        "colab": {
          "base_uri": "https://localhost:8080/",
          "height": 36
        },
        "id": "TD1kGDC9WcPf",
        "outputId": "b6e45eb8-5c66-4ed8-b886-a86c04fba80e"
      },
      "outputs": [
        {
          "output_type": "execute_result",
          "data": {
            "text/plain": [
              "'he is going to university'"
            ],
            "application/vnd.google.colaboratory.intrinsic+json": {
              "type": "string"
            }
          },
          "metadata": {},
          "execution_count": 112
        }
      ],
      "source": [
        "' '.join(['he', 'is', 'going', 'to', 'university'])"
      ]
    },
    {
      "cell_type": "markdown",
      "metadata": {
        "id": "gtlT2mcJgy-k"
      },
      "source": [
        "####9.REPLACE"
      ]
    },
    {
      "cell_type": "code",
      "execution_count": null,
      "metadata": {
        "colab": {
          "base_uri": "https://localhost:8080/",
          "height": 36
        },
        "id": "mWZVNf0uWsjv",
        "outputId": "59fdeca9-de7b-4fa7-d635-703b6ba0590b"
      },
      "outputs": [
        {
          "output_type": "execute_result",
          "data": {
            "text/plain": [
              "'he is going to School'"
            ],
            "application/vnd.google.colaboratory.intrinsic+json": {
              "type": "string"
            }
          },
          "metadata": {},
          "execution_count": 113
        }
      ],
      "source": [
        "\"he is going to university\".replace(\"university\",\"School\")"
      ]
    },
    {
      "cell_type": "markdown",
      "metadata": {
        "id": "7qGplNkzg8OC"
      },
      "source": [
        "####10.STRIP"
      ]
    },
    {
      "cell_type": "code",
      "execution_count": null,
      "metadata": {
        "colab": {
          "base_uri": "https://localhost:8080/",
          "height": 36
        },
        "id": "_-A3sg40XO8R",
        "outputId": "78726648-d511-49f2-eeac-4b58cedf8893"
      },
      "outputs": [
        {
          "output_type": "execute_result",
          "data": {
            "text/plain": [
              "'ahmad                '"
            ],
            "application/vnd.google.colaboratory.intrinsic+json": {
              "type": "string"
            }
          },
          "metadata": {},
          "execution_count": 115
        }
      ],
      "source": [
        "# This is called as trailing space\n",
        "name = \"ahmad                \"\n",
        "name"
      ]
    },
    {
      "cell_type": "code",
      "execution_count": null,
      "metadata": {
        "colab": {
          "base_uri": "https://localhost:8080/",
          "height": 36
        },
        "id": "MrYckf2wXbNP",
        "outputId": "e6543598-9c59-42ff-fa1a-6bd803f73147"
      },
      "outputs": [
        {
          "output_type": "execute_result",
          "data": {
            "text/plain": [
              "'ahmad'"
            ],
            "application/vnd.google.colaboratory.intrinsic+json": {
              "type": "string"
            }
          },
          "metadata": {},
          "execution_count": 116
        }
      ],
      "source": [
        "name.strip()"
      ]
    },
    {
      "cell_type": "markdown",
      "metadata": {
        "id": "3JWpFqJpX36V"
      },
      "source": [
        "\n",
        "\n",
        "---\n",
        "\n",
        "\n",
        "\n",
        "---\n",
        "\n"
      ]
    },
    {
      "cell_type": "markdown",
      "source": [
        "#Container Data types\n",
        "\n",
        "- The datatypes where we can **store multiple basic types** regardless of the fact that they are same or different!"
      ],
      "metadata": {
        "id": "ZlTUy6BTSGFD"
      }
    },
    {
      "cell_type": "markdown",
      "metadata": {
        "id": "VhABTHNhYoPT"
      },
      "source": [
        "#17.List"
      ]
    },
    {
      "cell_type": "markdown",
      "metadata": {
        "id": "uoMZnXnTi6UR"
      },
      "source": [
        "**where you can store data**\n",
        "\n",
        "different from \"arrays\"like\n",
        "\n",
        "- here data is hetrogenous while in arrays data type is homogenous.\n",
        "\n",
        "- IN arrays data is stored in continuos memory location while in list not\n",
        "\n",
        "- Arrays are faster.\n",
        "\n",
        "- List are more programmer friendly."
      ]
    },
    {
      "cell_type": "markdown",
      "metadata": {
        "id": "0MAAjcHNjamQ"
      },
      "source": [
        "##Create list"
      ]
    },
    {
      "cell_type": "markdown",
      "source": [
        "- Strings =>  chains of unicode characters\n",
        "- Container datatypes => combination of individual elemensts"
      ],
      "metadata": {
        "id": "0mPNyN5dWtQq"
      }
    },
    {
      "cell_type": "code",
      "source": [
        "# a.homogenous list\n",
        "x = ['string']\n",
        "type(x)"
      ],
      "metadata": {
        "colab": {
          "base_uri": "https://localhost:8080/"
        },
        "id": "lig9vycoTzPT",
        "outputId": "17dab27e-b4cf-4944-f148-4b5a693f0320"
      },
      "execution_count": null,
      "outputs": [
        {
          "output_type": "execute_result",
          "data": {
            "text/plain": [
              "list"
            ]
          },
          "metadata": {},
          "execution_count": 4
        }
      ]
    },
    {
      "cell_type": "code",
      "execution_count": null,
      "metadata": {
        "colab": {
          "base_uri": "https://localhost:8080/"
        },
        "id": "VmAc4vTBiILT",
        "outputId": "ed049668-c478-40d0-b9fc-71e3fe162103"
      },
      "outputs": [
        {
          "output_type": "stream",
          "name": "stdout",
          "text": [
            "[1, 2, 3, 4, 5]\n"
          ]
        }
      ],
      "source": [
        "# a.homogenous list (integers are present only)\n",
        "x=[1,2,3,4,5]\n",
        "print(x)"
      ]
    },
    {
      "cell_type": "code",
      "execution_count": null,
      "metadata": {
        "colab": {
          "base_uri": "https://localhost:8080/"
        },
        "id": "wxqS_-J_j3bF",
        "outputId": "b8a1219f-f5ac-4821-8fc5-58a5e16fedf4"
      },
      "outputs": [
        {
          "output_type": "stream",
          "name": "stdout",
          "text": [
            "[1, 'string', True, False, 3.5, (3+7j)]\n"
          ]
        }
      ],
      "source": [
        "# hetrogenous list\n",
        "x=[1,'string',True,False,3.5,3+7j]\n",
        "print(x)"
      ]
    },
    {
      "cell_type": "code",
      "execution_count": null,
      "metadata": {
        "colab": {
          "base_uri": "https://localhost:8080/"
        },
        "id": "s2VLlMbPkFW6",
        "outputId": "aa6c628e-ea8b-46c4-d591-902738b5a036"
      },
      "outputs": [
        {
          "output_type": "stream",
          "name": "stdout",
          "text": [
            "[1, 2, 3, [2, 3, 4]]\n"
          ]
        }
      ],
      "source": [
        "#multidimensional list\n",
        "#2D\n",
        "x=([1,2,3,[2,3,4]])\n",
        "print(x)"
      ]
    },
    {
      "cell_type": "code",
      "execution_count": null,
      "metadata": {
        "colab": {
          "base_uri": "https://localhost:8080/"
        },
        "id": "kF4sK3JMksLC",
        "outputId": "19b7b561-6bd9-48e3-9f64-4ed8863975d0"
      },
      "outputs": [
        {
          "output_type": "stream",
          "name": "stdout",
          "text": [
            "[[[2, 3, 45, 5], [2, 3, 4], [2, 3, 4]]]\n"
          ]
        }
      ],
      "source": [
        "#3D list\n",
        "x=[[[2,3,45,5],[2,3,4],[2,3,4]]]\n",
        "print(x)"
      ]
    },
    {
      "cell_type": "code",
      "execution_count": null,
      "metadata": {
        "colab": {
          "base_uri": "https://localhost:8080/"
        },
        "id": "W4Vi8WsOk06W",
        "outputId": "ef1c4c92-1171-43ac-9604-cd1d0a2ae1fb"
      },
      "outputs": [
        {
          "output_type": "stream",
          "name": "stdout",
          "text": [
            "['i', ' ', 'w', 'i', 'l', 'l', ' ', 'g', 'o', ' ', 't', 'o', ' ', 'a', 'u', 's', 't', 'r', 'a', 'l', 'i', 'a']\n"
          ]
        }
      ],
      "source": [
        "#type conversion\n",
        "x=list(\"i will go to australia\")\n",
        "print(x)"
      ]
    },
    {
      "cell_type": "code",
      "execution_count": null,
      "metadata": {
        "colab": {
          "base_uri": "https://localhost:8080/"
        },
        "id": "AeeVuqvqlC_T",
        "outputId": "97290894-b279-4b7a-d7b1-7a61b9b643ff"
      },
      "outputs": [
        {
          "output_type": "execute_result",
          "data": {
            "text/plain": [
              "list"
            ]
          },
          "metadata": {},
          "execution_count": 18
        }
      ],
      "source": [
        "x=list()\n",
        "type(x)"
      ]
    },
    {
      "cell_type": "code",
      "execution_count": null,
      "metadata": {
        "colab": {
          "base_uri": "https://localhost:8080/"
        },
        "id": "UeqH0MrnhJJh",
        "outputId": "9c308188-8bad-46a7-a250-ccbd1a4b9f8c"
      },
      "outputs": [
        {
          "output_type": "execute_result",
          "data": {
            "text/plain": [
              "str"
            ]
          },
          "metadata": {},
          "execution_count": 19
        }
      ],
      "source": [
        "x=\"\"\n",
        "type(x)"
      ]
    },
    {
      "cell_type": "markdown",
      "metadata": {
        "id": "MGV3KOvllRoT"
      },
      "source": [
        "##ACCESSING\n",
        "\n",
        "It is same as strings.only diff in multidimensional lists!"
      ]
    },
    {
      "cell_type": "code",
      "source": [
        "x=['o-index','1-index','2-index','3-index','4-index']\n",
        "x[-2]"
      ],
      "metadata": {
        "colab": {
          "base_uri": "https://localhost:8080/",
          "height": 36
        },
        "id": "abu9LsrgXzZA",
        "outputId": "f9c214e7-6a2f-476a-fb9c-eee3dc18f02f"
      },
      "execution_count": null,
      "outputs": [
        {
          "output_type": "execute_result",
          "data": {
            "text/plain": [
              "'3-index'"
            ],
            "application/vnd.google.colaboratory.intrinsic+json": {
              "type": "string"
            }
          },
          "metadata": {},
          "execution_count": 21
        }
      ]
    },
    {
      "cell_type": "code",
      "execution_count": null,
      "metadata": {
        "colab": {
          "base_uri": "https://localhost:8080/"
        },
        "id": "28cUxiMBlfOh",
        "outputId": "3f83b251-10ce-4eaf-a3b5-95550a365a85"
      },
      "outputs": [
        {
          "output_type": "execute_result",
          "data": {
            "text/plain": [
              "888"
            ]
          },
          "metadata": {},
          "execution_count": 23
        }
      ],
      "source": [
        "x=[1,2,3,[888,33,44]]\n",
        "x[3][0]"
      ]
    },
    {
      "cell_type": "code",
      "execution_count": null,
      "metadata": {
        "colab": {
          "base_uri": "https://localhost:8080/"
        },
        "id": "C31LpsKImPTG",
        "outputId": "f95363bc-04b5-4739-9305-04dc273105a4"
      },
      "outputs": [
        {
          "output_type": "execute_result",
          "data": {
            "text/plain": [
              "87"
            ]
          },
          "metadata": {},
          "execution_count": 27
        }
      ],
      "source": [
        "x=[[[2,3,45,5],[22,33,87],[21,39,4444]]]\n",
        "x[0][1][2]"
      ]
    },
    {
      "cell_type": "markdown",
      "metadata": {
        "id": "PBvpdKm4m_3d"
      },
      "source": [
        "##EDITING\n",
        "\n",
        "(LISTS ARE MUTABLE UNLIKE STRINGS)"
      ]
    },
    {
      "cell_type": "code",
      "execution_count": null,
      "metadata": {
        "colab": {
          "base_uri": "https://localhost:8080/"
        },
        "id": "dMKRIWsinfzp",
        "outputId": "118c212d-9361-4eac-a0e6-19782de52a96"
      },
      "outputs": [
        {
          "output_type": "execute_result",
          "data": {
            "text/plain": [
              "[1, 23, 200, 55, 6]"
            ]
          },
          "metadata": {},
          "execution_count": 28
        }
      ],
      "source": [
        "X=[1,23,44,55,6]\n",
        "X[2]=200\n",
        "X"
      ]
    },
    {
      "cell_type": "code",
      "execution_count": null,
      "metadata": {
        "colab": {
          "base_uri": "https://localhost:8080/"
        },
        "id": "dE-oTD1An0uV",
        "outputId": "bbb9edce-2751-4f24-dae3-68bfc7b6a9a2"
      },
      "outputs": [
        {
          "output_type": "execute_result",
          "data": {
            "text/plain": [
              "[1, 23, 22, 33, 88]"
            ]
          },
          "metadata": {},
          "execution_count": 33
        }
      ],
      "source": [
        "X=[1,23,44,55,6]\n",
        "X[2:5]=[22,33,88]\n",
        "X"
      ]
    },
    {
      "cell_type": "markdown",
      "metadata": {
        "id": "ScgjEaM5op60"
      },
      "source": [
        "##ADDITION\n",
        "- 1.APPEND\n",
        "- 2.EXTEND\n",
        "- 3.INSERT"
      ]
    },
    {
      "cell_type": "markdown",
      "source": [
        "**Appen vs extend**\n",
        "\n",
        "- Append can increse dimentionality while extend cannot\n",
        "- Append can add both iterable and non iterable data types while extend only supports iterable types."
      ],
      "metadata": {
        "id": "VXm4K7V7c-f9"
      }
    },
    {
      "cell_type": "code",
      "execution_count": null,
      "metadata": {
        "colab": {
          "base_uri": "https://localhost:8080/"
        },
        "id": "VO-Fi5bLouRg",
        "outputId": "29c9685b-95a7-48de-8c6f-0f81af5c05f7"
      },
      "outputs": [
        {
          "output_type": "execute_result",
          "data": {
            "text/plain": [
              "[1, 23, 44, 55, 6, 333]"
            ]
          },
          "metadata": {},
          "execution_count": 51
        }
      ],
      "source": [
        "#append\n",
        "X=[1,23,44,55,6]\n",
        "X.append(333)\n",
        "X"
      ]
    },
    {
      "cell_type": "code",
      "execution_count": null,
      "metadata": {
        "colab": {
          "base_uri": "https://localhost:8080/"
        },
        "id": "tqlZjg27o-s-",
        "outputId": "3f6df8b5-3978-4e35-81fa-2e515929e019"
      },
      "outputs": [
        {
          "output_type": "execute_result",
          "data": {
            "text/plain": [
              "[1, 23, 44, 55, 6, 333, [333, 3, 876]]"
            ]
          },
          "metadata": {},
          "execution_count": 52
        }
      ],
      "source": [
        "X.append([333,3,876])\n",
        "X"
      ]
    },
    {
      "cell_type": "code",
      "execution_count": null,
      "metadata": {
        "colab": {
          "base_uri": "https://localhost:8080/"
        },
        "id": "ZsyoDyuZpGVE",
        "outputId": "91423c7e-8f47-43f7-8db0-08fcdfddf8fd"
      },
      "outputs": [
        {
          "output_type": "execute_result",
          "data": {
            "text/plain": [
              "[1, 23, 44, 55, 6, 333, [333, 3, 876], 2222, 333, 4444]"
            ]
          },
          "metadata": {},
          "execution_count": 53
        }
      ],
      "source": [
        "#extend (here the dimentionality of data type remains same)\n",
        "X.extend([2222,333,4444])\n",
        "X"
      ]
    },
    {
      "cell_type": "code",
      "source": [
        "y=[1,2,3]\n",
        "y.extend([4,5,6])\n",
        "y"
      ],
      "metadata": {
        "colab": {
          "base_uri": "https://localhost:8080/"
        },
        "id": "80DDoB_2beQR",
        "outputId": "ce6ddaa6-1beb-44af-e1e5-9676c400f417"
      },
      "execution_count": null,
      "outputs": [
        {
          "output_type": "execute_result",
          "data": {
            "text/plain": [
              "[1, 2, 3, 4, 5, 6]"
            ]
          },
          "metadata": {},
          "execution_count": 54
        }
      ]
    },
    {
      "cell_type": "code",
      "execution_count": null,
      "metadata": {
        "colab": {
          "base_uri": "https://localhost:8080/"
        },
        "id": "yJrU5jD6pOJS",
        "outputId": "8a7857fd-e9ce-4881-9500-d37a93337304"
      },
      "outputs": [
        {
          "output_type": "stream",
          "name": "stdout",
          "text": [
            "[1, 23, 44, 55, 6, 333, [333, 3, 876], 2222, 333, 4444, 3, 's', 't', 'r', 'i', 'n', 'g']\n"
          ]
        }
      ],
      "source": [
        "X.extend('string')\n",
        "print(X)"
      ]
    },
    {
      "cell_type": "code",
      "execution_count": null,
      "metadata": {
        "colab": {
          "base_uri": "https://localhost:8080/"
        },
        "id": "Cf3Msf3ypcm1",
        "outputId": "5af76662-9225-4f8c-966a-f2217ee2f9e5"
      },
      "outputs": [
        {
          "output_type": "execute_result",
          "data": {
            "text/plain": [
              "[1, 2, 3, 'hello', 45, 5]"
            ]
          },
          "metadata": {},
          "execution_count": 62
        }
      ],
      "source": [
        "#insert (here we can add more than 1 element at the same time)\n",
        "x=[1,2,3,45,5]\n",
        "x.insert(3,\"hello\")\n",
        "x"
      ]
    },
    {
      "cell_type": "markdown",
      "metadata": {
        "id": "ja8FU1tJpr6U"
      },
      "source": [
        "##DELETE\n",
        "- DEL\n",
        "- REMOVE\n",
        "- POP\n",
        "- CLEAR"
      ]
    },
    {
      "cell_type": "code",
      "execution_count": null,
      "metadata": {
        "colab": {
          "base_uri": "https://localhost:8080/"
        },
        "id": "wkewGJMnp21G",
        "outputId": "39c59287-6650-45b2-d379-e265bd15814d"
      },
      "outputs": [
        {
          "output_type": "execute_result",
          "data": {
            "text/plain": [
              "[1, 23, 44, 6, 5, 66, 77]"
            ]
          },
          "metadata": {},
          "execution_count": 63
        }
      ],
      "source": [
        "#del\n",
        "x=[1,23,44,55,6,5,66,77]\n",
        "del x [3]\n",
        "x"
      ]
    },
    {
      "cell_type": "code",
      "execution_count": null,
      "metadata": {
        "colab": {
          "base_uri": "https://localhost:8080/"
        },
        "id": "2OQNkEY1qFiM",
        "outputId": "ce2b3670-fbb0-4dc8-f8ce-8022bd70f35e"
      },
      "outputs": [
        {
          "output_type": "execute_result",
          "data": {
            "text/plain": [
              "[1, 23, 66, 77]"
            ]
          },
          "metadata": {},
          "execution_count": 64
        }
      ],
      "source": [
        "del x [2:5]\n",
        "x"
      ]
    },
    {
      "cell_type": "code",
      "execution_count": null,
      "metadata": {
        "colab": {
          "base_uri": "https://localhost:8080/"
        },
        "id": "gVGer9Apqc5v",
        "outputId": "412dfea2-9143-4169-9b70-5771de61e0dc"
      },
      "outputs": [
        {
          "output_type": "execute_result",
          "data": {
            "text/plain": [
              "[2, 3, 4, 566, 77, 999, 9, 999]"
            ]
          },
          "metadata": {},
          "execution_count": 67
        }
      ],
      "source": [
        "#remove\n",
        "x=[2,3,4,566,77,88,999,9,999]\n",
        "x.remove(88)\n",
        "x"
      ]
    },
    {
      "cell_type": "code",
      "execution_count": null,
      "metadata": {
        "colab": {
          "base_uri": "https://localhost:8080/"
        },
        "id": "3t1PWQ0jqseB",
        "outputId": "3b19b6fb-bff0-47c1-a902-8c8b296292a7"
      },
      "outputs": [
        {
          "output_type": "execute_result",
          "data": {
            "text/plain": [
              "[2, 3, 4, 566, 77]"
            ]
          },
          "metadata": {},
          "execution_count": 70
        }
      ],
      "source": [
        "#pop (it will delete the last element)\n",
        "x.pop()\n",
        "x"
      ]
    },
    {
      "cell_type": "code",
      "execution_count": null,
      "metadata": {
        "colab": {
          "base_uri": "https://localhost:8080/"
        },
        "id": "8-DiPYZsq1Xw",
        "outputId": "0d5cf0f7-57fe-4f17-b7c8-bedde9af1c2a"
      },
      "outputs": [
        {
          "output_type": "execute_result",
          "data": {
            "text/plain": [
              "[]"
            ]
          },
          "metadata": {},
          "execution_count": 72
        }
      ],
      "source": [
        "#clear (all elements will be deleted)\n",
        "x.clear()\n",
        "x"
      ]
    },
    {
      "cell_type": "markdown",
      "metadata": {
        "id": "18p7D1dUq4mp"
      },
      "source": [
        "##OPERATIONS ON LIST"
      ]
    },
    {
      "cell_type": "markdown",
      "source": [
        "##1.Arithmetic"
      ],
      "metadata": {
        "id": "gU6sKOSXgBTp"
      }
    },
    {
      "cell_type": "code",
      "execution_count": null,
      "metadata": {
        "colab": {
          "base_uri": "https://localhost:8080/"
        },
        "id": "NQolzGqtrBg6",
        "outputId": "baf4476e-84a9-40c9-9875-726364b9eec0"
      },
      "outputs": [
        {
          "output_type": "execute_result",
          "data": {
            "text/plain": [
              "[1, 2, 3, 4, 5, 6, 7, 8, 9]"
            ]
          },
          "metadata": {},
          "execution_count": 77
        }
      ],
      "source": [
        "#addition (concatenation concept is applied)\n",
        "x=[1,2,3,4,5]\n",
        "y=[6,7,8,9]\n",
        "x+y"
      ]
    },
    {
      "cell_type": "code",
      "execution_count": null,
      "metadata": {
        "colab": {
          "base_uri": "https://localhost:8080/"
        },
        "id": "N11ACQjdrV3f",
        "outputId": "ddaa3ddb-e74f-4215-9e2a-6303e3bea5a2"
      },
      "outputs": [
        {
          "output_type": "execute_result",
          "data": {
            "text/plain": [
              "[1, 2, 3, 4, 5, 1, 2, 3, 4, 5, 1, 2, 3, 4, 5, 1, 2, 3, 4, 5, 1, 2, 3, 4, 5]"
            ]
          },
          "metadata": {},
          "execution_count": 78
        }
      ],
      "source": [
        "#multiplication\n",
        "x*5"
      ]
    },
    {
      "cell_type": "markdown",
      "metadata": {
        "id": "JZXdgcokrilg"
      },
      "source": [
        "**2.LOOP**"
      ]
    },
    {
      "cell_type": "code",
      "execution_count": null,
      "metadata": {
        "colab": {
          "base_uri": "https://localhost:8080/"
        },
        "id": "i_HwjFtirnCc",
        "outputId": "c091961b-8185-4bf5-b84d-3b4d36d123b8"
      },
      "outputs": [
        {
          "output_type": "stream",
          "name": "stdout",
          "text": [
            "1\n",
            "2\n",
            "3\n",
            "4\n",
            "5\n"
          ]
        }
      ],
      "source": [
        "for i in x:\n",
        "  print(i)"
      ]
    },
    {
      "cell_type": "markdown",
      "metadata": {
        "id": "ihCReW05rzoH"
      },
      "source": [
        "**3.membership**"
      ]
    },
    {
      "cell_type": "code",
      "execution_count": null,
      "metadata": {
        "colab": {
          "base_uri": "https://localhost:8080/"
        },
        "id": "TgIvwyaRrvjn",
        "outputId": "4cadadf6-43f0-40f6-c12a-d7d769a0abc3"
      },
      "outputs": [
        {
          "output_type": "execute_result",
          "data": {
            "text/plain": [
              "False"
            ]
          },
          "metadata": {},
          "execution_count": 87
        }
      ],
      "source": [
        "x=[1,22,3,[2,3,44]]\n",
        "[44] in x"
      ]
    },
    {
      "cell_type": "code",
      "source": [
        "for i in x:\n",
        "  print(i)"
      ],
      "metadata": {
        "colab": {
          "base_uri": "https://localhost:8080/"
        },
        "id": "DCDdTkBogZaU",
        "outputId": "8ad9e37f-3831-4690-8024-487be12a5250"
      },
      "execution_count": null,
      "outputs": [
        {
          "output_type": "stream",
          "name": "stdout",
          "text": [
            "1\n",
            "2\n",
            "3\n",
            "[2, 3, 44]\n"
          ]
        }
      ]
    },
    {
      "cell_type": "code",
      "execution_count": null,
      "metadata": {
        "colab": {
          "base_uri": "https://localhost:8080/"
        },
        "id": "talWstq9sCne",
        "outputId": "40edfbaa-bd64-4fdb-d2ac-45e4f9903f1e"
      },
      "outputs": [
        {
          "output_type": "execute_result",
          "data": {
            "text/plain": [
              "True"
            ]
          },
          "metadata": {},
          "execution_count": 89
        }
      ],
      "source": [
        "22 in x"
      ]
    },
    {
      "cell_type": "markdown",
      "metadata": {
        "id": "ncyE3H8BsOb9"
      },
      "source": [
        "##FUNCTIONS ON LISTS"
      ]
    },
    {
      "cell_type": "code",
      "execution_count": null,
      "metadata": {
        "colab": {
          "base_uri": "https://localhost:8080/"
        },
        "id": "j7qC8th8jOqk",
        "outputId": "29f015ec-273f-4d71-9f0d-6d748d612087"
      },
      "outputs": [
        {
          "output_type": "execute_result",
          "data": {
            "text/plain": [
              "[1, 22, 3, [2, 3, 44]]"
            ]
          },
          "metadata": {},
          "execution_count": 90
        }
      ],
      "source": [
        "x"
      ]
    },
    {
      "cell_type": "code",
      "execution_count": null,
      "metadata": {
        "colab": {
          "base_uri": "https://localhost:8080/"
        },
        "id": "XU00fvKasTut",
        "outputId": "16d86ad0-4f70-44e1-86ea-58d12b406e1e"
      },
      "outputs": [
        {
          "output_type": "execute_result",
          "data": {
            "text/plain": [
              "4"
            ]
          },
          "metadata": {},
          "execution_count": 91
        }
      ],
      "source": [
        "1#LEN\n",
        "len(x)"
      ]
    },
    {
      "cell_type": "code",
      "execution_count": null,
      "metadata": {
        "colab": {
          "base_uri": "https://localhost:8080/"
        },
        "id": "ZkYyHPffsfxn",
        "outputId": "c6a6fc11-2cf9-4805-8203-5d2bb6f606c2"
      },
      "outputs": [
        {
          "output_type": "execute_result",
          "data": {
            "text/plain": [
              "333"
            ]
          },
          "metadata": {},
          "execution_count": 95
        }
      ],
      "source": [
        "# 2.max\n",
        "x=[11,2.2,333]\n",
        "max(x)"
      ]
    },
    {
      "cell_type": "code",
      "execution_count": null,
      "metadata": {
        "colab": {
          "base_uri": "https://localhost:8080/"
        },
        "id": "2Ag2-MlHtIvF",
        "outputId": "a62974c6-164e-4dc1-f6b9-a9f59fa71aa4"
      },
      "outputs": [
        {
          "output_type": "execute_result",
          "data": {
            "text/plain": [
              "2.2"
            ]
          },
          "metadata": {},
          "execution_count": 96
        }
      ],
      "source": [
        "3#min\n",
        "min(x)"
      ]
    },
    {
      "cell_type": "code",
      "execution_count": null,
      "metadata": {
        "colab": {
          "base_uri": "https://localhost:8080/"
        },
        "id": "0ZrmRG1WtLyZ",
        "outputId": "d0201b17-9869-4c51-c35a-dade66a232e5"
      },
      "outputs": [
        {
          "output_type": "execute_result",
          "data": {
            "text/plain": [
              "[2.2, 11, 333]"
            ]
          },
          "metadata": {},
          "execution_count": 97
        }
      ],
      "source": [
        "4#sorted\n",
        "sorted(x)"
      ]
    },
    {
      "cell_type": "code",
      "execution_count": null,
      "metadata": {
        "colab": {
          "base_uri": "https://localhost:8080/"
        },
        "id": "gogbPMA8tScU",
        "outputId": "5d1cdceb-3d6c-4a89-ccbc-32b2bde1c1a4"
      },
      "outputs": [
        {
          "output_type": "execute_result",
          "data": {
            "text/plain": [
              "[333, 11, 2.2]"
            ]
          },
          "metadata": {},
          "execution_count": 98
        }
      ],
      "source": [
        "sorted(x,reverse=True)\n",
        "#it is temporary operation"
      ]
    },
    {
      "cell_type": "code",
      "execution_count": null,
      "metadata": {
        "colab": {
          "base_uri": "https://localhost:8080/"
        },
        "id": "HBMKqrVecYtE",
        "outputId": "6fac8916-c8d1-4454-ccd6-6c4ad9aa28ce"
      },
      "outputs": [
        {
          "output_type": "execute_result",
          "data": {
            "text/plain": [
              "[11, 2.2, 333]"
            ]
          },
          "metadata": {},
          "execution_count": 99
        }
      ],
      "source": [
        "x"
      ]
    },
    {
      "cell_type": "code",
      "execution_count": null,
      "metadata": {
        "colab": {
          "base_uri": "https://localhost:8080/"
        },
        "id": "L2-BVCSCtYFe",
        "outputId": "ff0ad709-8cbd-41be-d1f0-869ec7f13b57"
      },
      "outputs": [
        {
          "output_type": "execute_result",
          "data": {
            "text/plain": [
              "[2.2, 11, 333]"
            ]
          },
          "metadata": {},
          "execution_count": 102
        }
      ],
      "source": [
        "x.sort(reverse=False)\n",
        "x\n",
        "#it is a permanenet operation"
      ]
    },
    {
      "cell_type": "markdown",
      "metadata": {
        "id": "wzlxKUvuc0ZO"
      },
      "source": [
        "\n",
        "\n",
        "---\n",
        "\n",
        "\n",
        "\n",
        "---\n",
        "\n"
      ]
    },
    {
      "cell_type": "markdown",
      "metadata": {
        "id": "gsHBTdg8dnEz"
      },
      "source": [
        "#18.Tuples"
      ]
    },
    {
      "cell_type": "markdown",
      "metadata": {
        "id": "LfPsEOVIr6Ia"
      },
      "source": [
        "##create tuples"
      ]
    },
    {
      "cell_type": "markdown",
      "metadata": {
        "id": "lwE3yoIbsCIq"
      },
      "source": [
        "- a.homogenous/hetrogenous tuples  \n",
        "- 2D...3D tuples\n",
        "- type conversion can be done as well"
      ]
    },
    {
      "cell_type": "code",
      "execution_count": null,
      "metadata": {
        "colab": {
          "base_uri": "https://localhost:8080/"
        },
        "id": "LEmDyeRQs2sK",
        "outputId": "44dd49bc-65bf-4c5a-c2ad-78d89f438174"
      },
      "outputs": [
        {
          "output_type": "execute_result",
          "data": {
            "text/plain": [
              "tuple"
            ]
          },
          "metadata": {},
          "execution_count": 117
        }
      ],
      "source": [
        "x=(1,2,4,5,6,(7,88,9))\n",
        "type(x)"
      ]
    },
    {
      "cell_type": "code",
      "execution_count": null,
      "metadata": {
        "colab": {
          "base_uri": "https://localhost:8080/"
        },
        "id": "siN8AvqHuYlB",
        "outputId": "0ebfca82-ab8b-42c6-f03a-d3273724efb4"
      },
      "outputs": [
        {
          "output_type": "execute_result",
          "data": {
            "text/plain": [
              "tuple"
            ]
          },
          "metadata": {},
          "execution_count": 110
        }
      ],
      "source": [
        "x=tuple('dellos')\n",
        "type(x)"
      ]
    },
    {
      "cell_type": "code",
      "execution_count": null,
      "metadata": {
        "colab": {
          "base_uri": "https://localhost:8080/"
        },
        "id": "QqwU3H5OundT",
        "outputId": "fbd9917d-7458-4c81-9e6c-599c673e67e3"
      },
      "outputs": [
        {
          "output_type": "execute_result",
          "data": {
            "text/plain": [
              "tuple"
            ]
          },
          "metadata": {},
          "execution_count": 113
        }
      ],
      "source": [
        "#only difference is in creating a single item tuple\n",
        "x=tuple('a')\n",
        "type(x)"
      ]
    },
    {
      "cell_type": "code",
      "execution_count": null,
      "metadata": {
        "colab": {
          "base_uri": "https://localhost:8080/"
        },
        "id": "9uw-4Pn7u42R",
        "outputId": "0cb451f2-8d5f-4595-f8d3-754984e39bf7"
      },
      "outputs": [
        {
          "output_type": "execute_result",
          "data": {
            "text/plain": [
              "tuple"
            ]
          },
          "metadata": {},
          "execution_count": 114
        }
      ],
      "source": [
        "# 2 items tuple can be generated\n",
        "x=(\"e\",'t')\n",
        "type(x)"
      ]
    },
    {
      "cell_type": "code",
      "source": [
        "x=(1)\n",
        "type(x)"
      ],
      "metadata": {
        "colab": {
          "base_uri": "https://localhost:8080/"
        },
        "id": "t4jmt9EzjjCK",
        "outputId": "b2aa35fb-c4cd-4e27-9b58-9915bf244908"
      },
      "execution_count": null,
      "outputs": [
        {
          "output_type": "execute_result",
          "data": {
            "text/plain": [
              "int"
            ]
          },
          "metadata": {},
          "execution_count": 115
        }
      ]
    },
    {
      "cell_type": "code",
      "source": [
        "x=(1,2)\n",
        "type(x)"
      ],
      "metadata": {
        "colab": {
          "base_uri": "https://localhost:8080/"
        },
        "id": "6KejNxSAjnv-",
        "outputId": "0d2ba372-c519-4cdb-f091-08c598e30434"
      },
      "execution_count": null,
      "outputs": [
        {
          "output_type": "execute_result",
          "data": {
            "text/plain": [
              "tuple"
            ]
          },
          "metadata": {},
          "execution_count": 116
        }
      ]
    },
    {
      "cell_type": "markdown",
      "metadata": {
        "id": "hX9aSTr-vDN4"
      },
      "source": [
        "##ACCESSING\n",
        "- It is exactly same as lists"
      ]
    },
    {
      "cell_type": "markdown",
      "metadata": {
        "id": "gM6DhltzvUtV"
      },
      "source": [
        "##Editing\n",
        "- THEY ARE LIKE STRINGS AND ARE IMMUTABLE"
      ]
    },
    {
      "cell_type": "markdown",
      "metadata": {
        "id": "i9Jl_6lAvZKZ"
      },
      "source": [
        "##ADDING\n",
        "- NOT POSSIBLE AS THEY ARE IMMUTABLE"
      ]
    },
    {
      "cell_type": "markdown",
      "metadata": {
        "id": "HRze8abUvkWe"
      },
      "source": [
        "##DELETING\n",
        "\n",
        "- JUST LIKE STRINGS THAT WE CAN COMPLETELY DELETE THE TUPLE BUT NOT ITS SUB PARTS"
      ]
    },
    {
      "cell_type": "markdown",
      "metadata": {
        "id": "ttQsPAiavzCb"
      },
      "source": [
        "##OPERATIONS\n",
        "- SAME LIKE Lists"
      ]
    },
    {
      "cell_type": "markdown",
      "metadata": {
        "id": "OWg4mkOLv5nN"
      },
      "source": [
        "##FUNCTIONS\n",
        "\n",
        "- SAME LIKE LISTS"
      ]
    },
    {
      "cell_type": "markdown",
      "metadata": {
        "id": "JlfWXUK2wBw_"
      },
      "source": [
        "- The tuplles are **READ ONLY** data types and **not** **WRITE type**...Thats why when integrity of data is to be ensured then we used tuples!"
      ]
    },
    {
      "cell_type": "markdown",
      "metadata": {
        "id": "JbPxiClveyPQ"
      },
      "source": [
        "\n",
        "\n",
        "---\n",
        "\n",
        "\n",
        "\n",
        "---\n",
        "\n"
      ]
    },
    {
      "cell_type": "markdown",
      "metadata": {
        "id": "zLfHcLNDwf9q"
      },
      "source": [
        "#19.SETS\n",
        "\n",
        "(basic rules)\n",
        "- 1.Sets donot allow duplicates\n",
        "- 2.Sets have no indexing/slicing\n",
        "- 3.Sets donot allow mutable data types\n",
        "- 4.Sets itself is a mutable data type"
      ]
    },
    {
      "cell_type": "markdown",
      "metadata": {
        "id": "hypDa2wsxJa0"
      },
      "source": [
        "##1.CREATE"
      ]
    },
    {
      "cell_type": "code",
      "execution_count": null,
      "metadata": {
        "colab": {
          "base_uri": "https://localhost:8080/"
        },
        "id": "GLK1grXXxRth",
        "outputId": "6f71790d-6f32-4c9c-d4a3-ab807a814c7c"
      },
      "outputs": [
        {
          "output_type": "execute_result",
          "data": {
            "text/plain": [
              "set"
            ]
          },
          "metadata": {},
          "execution_count": 143
        }
      ],
      "source": [
        "# all of these are immutable data types\n",
        "x={1,1.5,False,4+7j,'string',(1,2,3)}\n",
        "x\n",
        "type(x)"
      ]
    },
    {
      "cell_type": "code",
      "execution_count": null,
      "metadata": {
        "colab": {
          "base_uri": "https://localhost:8080/"
        },
        "id": "JpHMI5AhfSD6",
        "outputId": "1f584a96-dea0-4946-871b-a50eb28a7ff5"
      },
      "outputs": [
        {
          "output_type": "execute_result",
          "data": {
            "text/plain": [
              "dict"
            ]
          },
          "metadata": {},
          "execution_count": 126
        }
      ],
      "source": [
        "# You cannot create an empty sets\n",
        "X={}\n",
        "type(X)"
      ]
    },
    {
      "cell_type": "code",
      "execution_count": null,
      "metadata": {
        "colab": {
          "base_uri": "https://localhost:8080/",
          "height": 109
        },
        "id": "JjiqYSmNxTqD",
        "outputId": "1ec38cb2-a523-4fc6-c9a1-44cf48cb6a8d"
      },
      "outputs": [
        {
          "output_type": "error",
          "ename": "SyntaxError",
          "evalue": "invalid syntax (<ipython-input-134-9e5cdba40f53>, line 2)",
          "traceback": [
            "\u001b[0;36m  File \u001b[0;32m\"<ipython-input-134-9e5cdba40f53>\"\u001b[0;36m, line \u001b[0;32m2\u001b[0m\n\u001b[0;31m    x=set{}\u001b[0m\n\u001b[0m         ^\u001b[0m\n\u001b[0;31mSyntaxError\u001b[0m\u001b[0;31m:\u001b[0m invalid syntax\n"
          ]
        }
      ],
      "source": [
        "# Empty sets are not possible even with data conversion\n",
        "x=set{}\n",
        "type(x)"
      ]
    },
    {
      "cell_type": "code",
      "execution_count": null,
      "metadata": {
        "id": "kVxfwTjzxcEi",
        "colab": {
          "base_uri": "https://localhost:8080/"
        },
        "outputId": "fc744530-57d1-4db8-b7f9-877806e24e04"
      },
      "outputs": [
        {
          "output_type": "execute_result",
          "data": {
            "text/plain": [
              "{(4+7j), 1, 2, 3, 4, 4.5, False, 'string'}"
            ]
          },
          "metadata": {},
          "execution_count": 135
        }
      ],
      "source": [
        "#homogenous\n",
        "x={1,2,3,4,5}\n",
        "#hetrogenous\n",
        "x={1,2,3,4,\"string\",False,4.5,4+7j}\n",
        "x"
      ]
    },
    {
      "cell_type": "code",
      "execution_count": null,
      "metadata": {
        "colab": {
          "base_uri": "https://localhost:8080/"
        },
        "id": "X7MFrseFxyV2",
        "outputId": "a7bcd460-803d-4371-f876-2533ad00f1eb"
      },
      "outputs": [
        {
          "output_type": "execute_result",
          "data": {
            "text/plain": [
              "{1, 2, 3}"
            ]
          },
          "metadata": {},
          "execution_count": 136
        }
      ],
      "source": [
        "#1st rule proved(Sets donot allow duplicates)\n",
        "x={1,1,1,1,1,1,2,2,3,3}\n",
        "x"
      ]
    },
    {
      "cell_type": "code",
      "execution_count": null,
      "metadata": {
        "colab": {
          "base_uri": "https://localhost:8080/"
        },
        "id": "5-I5htOZVS2u",
        "outputId": "eb0bfafe-2895-4b27-9ca3-5b9fbaa44468"
      },
      "outputs": [
        {
          "output_type": "execute_result",
          "data": {
            "text/plain": [
              "3"
            ]
          },
          "metadata": {},
          "execution_count": 137
        }
      ],
      "source": [
        "len(x)"
      ]
    },
    {
      "cell_type": "code",
      "execution_count": null,
      "metadata": {
        "colab": {
          "base_uri": "https://localhost:8080/",
          "height": 164
        },
        "id": "RmII5DKIyEUX",
        "outputId": "87557aa3-de26-45be-d22a-dfae979fba60"
      },
      "outputs": [
        {
          "output_type": "error",
          "ename": "TypeError",
          "evalue": "unhashable type: 'set'",
          "traceback": [
            "\u001b[0;31m---------------------------------------------------------------------------\u001b[0m",
            "\u001b[0;31mTypeError\u001b[0m                                 Traceback (most recent call last)",
            "\u001b[0;32m<ipython-input-139-4f157150676a>\u001b[0m in \u001b[0;36m<cell line: 2>\u001b[0;34m()\u001b[0m\n\u001b[1;32m      1\u001b[0m \u001b[0;31m# rule no 3 proved (Sets donot allow mutable data types)\u001b[0m\u001b[0;34m\u001b[0m\u001b[0;34m\u001b[0m\u001b[0m\n\u001b[0;32m----> 2\u001b[0;31m \u001b[0mx\u001b[0m\u001b[0;34m=\u001b[0m\u001b[0;34m{\u001b[0m\u001b[0;34m{\u001b[0m\u001b[0;36m1\u001b[0m\u001b[0;34m,\u001b[0m\u001b[0;36m2\u001b[0m\u001b[0;34m,\u001b[0m\u001b[0;36m3\u001b[0m\u001b[0;34m}\u001b[0m\u001b[0;34m}\u001b[0m\u001b[0;34m\u001b[0m\u001b[0;34m\u001b[0m\u001b[0m\n\u001b[0m",
            "\u001b[0;31mTypeError\u001b[0m: unhashable type: 'set'"
          ]
        }
      ],
      "source": [
        "# rule no 3 proved (Sets donot allow mutable data types)\n",
        "x={{1,2,3}}"
      ]
    },
    {
      "cell_type": "code",
      "execution_count": null,
      "metadata": {
        "colab": {
          "base_uri": "https://localhost:8080/",
          "height": 164
        },
        "id": "p2eryBNtySzz",
        "outputId": "15fe9192-186d-41b2-8670-f56aa75de4e8"
      },
      "outputs": [
        {
          "output_type": "error",
          "ename": "TypeError",
          "evalue": "unhashable type: 'set'",
          "traceback": [
            "\u001b[0;31m---------------------------------------------------------------------------\u001b[0m",
            "\u001b[0;31mTypeError\u001b[0m                                 Traceback (most recent call last)",
            "\u001b[0;32m<ipython-input-140-289ccbba23fb>\u001b[0m in \u001b[0;36m<cell line: 1>\u001b[0;34m()\u001b[0m\n\u001b[0;32m----> 1\u001b[0;31m \u001b[0mx\u001b[0m\u001b[0;34m=\u001b[0m\u001b[0;34m{\u001b[0m\u001b[0;36m3\u001b[0m\u001b[0;34m,\u001b[0m\u001b[0;34m{\u001b[0m\u001b[0;36m4\u001b[0m\u001b[0;34m}\u001b[0m\u001b[0;34m}\u001b[0m\u001b[0;34m\u001b[0m\u001b[0;34m\u001b[0m\u001b[0m\n\u001b[0m\u001b[1;32m      2\u001b[0m \u001b[0;31m# rule no 4 is proved (sets are mutable data type itself)\u001b[0m\u001b[0;34m\u001b[0m\u001b[0;34m\u001b[0m\u001b[0m\n",
            "\u001b[0;31mTypeError\u001b[0m: unhashable type: 'set'"
          ]
        }
      ],
      "source": [
        "x={3,{4}}\n",
        "# rule no 4 is proved (sets are mutable data type itself)"
      ]
    },
    {
      "cell_type": "code",
      "execution_count": null,
      "metadata": {
        "colab": {
          "base_uri": "https://localhost:8080/"
        },
        "id": "knz4kWByyxPW",
        "outputId": "767d7cad-cd7b-498e-c20a-2228c9e34502"
      },
      "outputs": [
        {
          "output_type": "execute_result",
          "data": {
            "text/plain": [
              "{(1, 2, 4), (2, 3, 4, 5), 'ghost', 'hello', 'string'}"
            ]
          },
          "metadata": {},
          "execution_count": 145
        }
      ],
      "source": [
        "x={(1,2,4),\"hello\",(2,3,4,5),\"string\",\"ghost\"}\n",
        "x\n",
        "#order is not proper..2nd rule is proved(Sets have no indexing/slicing)"
      ]
    },
    {
      "cell_type": "markdown",
      "metadata": {
        "id": "2VCzn8f1y81j"
      },
      "source": [
        "##ACCESSING\n",
        "(not possible)"
      ]
    },
    {
      "cell_type": "code",
      "execution_count": null,
      "metadata": {
        "colab": {
          "base_uri": "https://localhost:8080/",
          "height": 200
        },
        "id": "6GgsiftCzTx_",
        "outputId": "9a5e58e4-a1d8-426c-e5f8-7c49ca87e0d3"
      },
      "outputs": [
        {
          "output_type": "error",
          "ename": "TypeError",
          "evalue": "'set' object is not subscriptable",
          "traceback": [
            "\u001b[0;31m---------------------------------------------------------------------------\u001b[0m",
            "\u001b[0;31mTypeError\u001b[0m                                 Traceback (most recent call last)",
            "\u001b[0;32m<ipython-input-149-7bb594da9d02>\u001b[0m in \u001b[0;36m<cell line: 2>\u001b[0;34m()\u001b[0m\n\u001b[1;32m      1\u001b[0m \u001b[0mx\u001b[0m\u001b[0;34m=\u001b[0m\u001b[0;34m{\u001b[0m\u001b[0;36m1\u001b[0m\u001b[0;34m,\u001b[0m\u001b[0;36m2\u001b[0m\u001b[0;34m,\u001b[0m\u001b[0;36m3\u001b[0m\u001b[0;34m,\u001b[0m\u001b[0;36m4\u001b[0m\u001b[0;34m,\u001b[0m\u001b[0;36m5\u001b[0m\u001b[0;34m,\u001b[0m\u001b[0;36m6\u001b[0m\u001b[0;34m}\u001b[0m\u001b[0;34m\u001b[0m\u001b[0;34m\u001b[0m\u001b[0m\n\u001b[0;32m----> 2\u001b[0;31m \u001b[0mx\u001b[0m\u001b[0;34m[\u001b[0m\u001b[0;36m3\u001b[0m\u001b[0;34m]\u001b[0m\u001b[0;34m\u001b[0m\u001b[0;34m\u001b[0m\u001b[0m\n\u001b[0m\u001b[1;32m      3\u001b[0m \u001b[0;31m#rule no 2\u001b[0m\u001b[0;34m\u001b[0m\u001b[0;34m\u001b[0m\u001b[0m\n\u001b[1;32m      4\u001b[0m \u001b[0;31m#indexing,slicing dont work\u001b[0m\u001b[0;34m\u001b[0m\u001b[0;34m\u001b[0m\u001b[0m\n",
            "\u001b[0;31mTypeError\u001b[0m: 'set' object is not subscriptable"
          ]
        }
      ],
      "source": [
        "x={1,2,3,4,5,6}\n",
        "x[3]\n",
        "#rule no 2\n",
        "#indexing,slicing dont work"
      ]
    },
    {
      "cell_type": "markdown",
      "metadata": {
        "id": "B9N6nd60zuU0"
      },
      "source": [
        "##EDITING\n",
        "(not possible)\n",
        "\n",
        "- The edition here not possible not because of immuatbility but because of the absece of indexing concept"
      ]
    },
    {
      "cell_type": "code",
      "source": [
        "x={1,2,3,4,5,6}\n",
        "x[3]= 22\n",
        "#rule no 2\n",
        "#indexing,slicing dont work"
      ],
      "metadata": {
        "colab": {
          "base_uri": "https://localhost:8080/",
          "height": 200
        },
        "id": "f4I7n3SzpAR4",
        "outputId": "3b1fc9bd-a50d-4911-87d0-b4bb41d7a549"
      },
      "execution_count": null,
      "outputs": [
        {
          "output_type": "error",
          "ename": "TypeError",
          "evalue": "'set' object does not support item assignment",
          "traceback": [
            "\u001b[0;31m---------------------------------------------------------------------------\u001b[0m",
            "\u001b[0;31mTypeError\u001b[0m                                 Traceback (most recent call last)",
            "\u001b[0;32m<ipython-input-150-8cdd3c067f6b>\u001b[0m in \u001b[0;36m<cell line: 2>\u001b[0;34m()\u001b[0m\n\u001b[1;32m      1\u001b[0m \u001b[0mx\u001b[0m\u001b[0;34m=\u001b[0m\u001b[0;34m{\u001b[0m\u001b[0;36m1\u001b[0m\u001b[0;34m,\u001b[0m\u001b[0;36m2\u001b[0m\u001b[0;34m,\u001b[0m\u001b[0;36m3\u001b[0m\u001b[0;34m,\u001b[0m\u001b[0;36m4\u001b[0m\u001b[0;34m,\u001b[0m\u001b[0;36m5\u001b[0m\u001b[0;34m,\u001b[0m\u001b[0;36m6\u001b[0m\u001b[0;34m}\u001b[0m\u001b[0;34m\u001b[0m\u001b[0;34m\u001b[0m\u001b[0m\n\u001b[0;32m----> 2\u001b[0;31m \u001b[0mx\u001b[0m\u001b[0;34m[\u001b[0m\u001b[0;36m3\u001b[0m\u001b[0;34m]\u001b[0m\u001b[0;34m=\u001b[0m \u001b[0;36m22\u001b[0m\u001b[0;34m\u001b[0m\u001b[0;34m\u001b[0m\u001b[0m\n\u001b[0m\u001b[1;32m      3\u001b[0m \u001b[0;31m#rule no 2\u001b[0m\u001b[0;34m\u001b[0m\u001b[0;34m\u001b[0m\u001b[0m\n\u001b[1;32m      4\u001b[0m \u001b[0;31m#indexing,slicing dont work\u001b[0m\u001b[0;34m\u001b[0m\u001b[0;34m\u001b[0m\u001b[0m\n",
            "\u001b[0;31mTypeError\u001b[0m: 'set' object does not support item assignment"
          ]
        }
      ]
    },
    {
      "cell_type": "markdown",
      "metadata": {
        "id": "aHZwryHSz3mO"
      },
      "source": [
        "##ADDING"
      ]
    },
    {
      "cell_type": "code",
      "execution_count": null,
      "metadata": {
        "colab": {
          "base_uri": "https://localhost:8080/"
        },
        "id": "wj_eBOXsz7HJ",
        "outputId": "27628006-1882-46fa-91cd-95fcc7c1510c"
      },
      "outputs": [
        {
          "output_type": "execute_result",
          "data": {
            "text/plain": [
              "{1, 2, 3, 4, 'd'}"
            ]
          },
          "metadata": {},
          "execution_count": 154
        }
      ],
      "source": [
        "# Proved that they are mutable datatypes\n",
        "x={1,2,3,4}\n",
        "x.add('d')\n",
        "x"
      ]
    },
    {
      "cell_type": "markdown",
      "metadata": {
        "id": "9CoOB9ok0Gb6"
      },
      "source": [
        "##DELETE"
      ]
    },
    {
      "cell_type": "code",
      "execution_count": null,
      "metadata": {
        "colab": {
          "base_uri": "https://localhost:8080/"
        },
        "id": "WYLK2vWt0KRd",
        "outputId": "f3ceb743-f0af-40fe-f9bd-790a37d5cbc1"
      },
      "outputs": [
        {
          "output_type": "execute_result",
          "data": {
            "text/plain": [
              "{1, 2, 3, 'd'}"
            ]
          },
          "metadata": {},
          "execution_count": 155
        }
      ],
      "source": [
        "#del(it works on whole set but not on individual items as there is no indexing)\n",
        "#remove\n",
        "x.remove(4)\n",
        "x"
      ]
    },
    {
      "cell_type": "code",
      "execution_count": null,
      "metadata": {
        "colab": {
          "base_uri": "https://localhost:8080/"
        },
        "id": "ULIppsA80fZQ",
        "outputId": "d6ed1802-072a-494c-d149-5fceb6dd182d"
      },
      "outputs": [
        {
          "output_type": "execute_result",
          "data": {
            "text/plain": [
              "{2, 3, 'd'}"
            ]
          },
          "metadata": {},
          "execution_count": 156
        }
      ],
      "source": [
        "#pop\n",
        "x.pop()\n",
        "x\n",
        "#again because of no indexing,here is the concept of 'hashing'\n",
        "# Normally dont prefer for deletion"
      ]
    },
    {
      "cell_type": "code",
      "execution_count": null,
      "metadata": {
        "colab": {
          "base_uri": "https://localhost:8080/"
        },
        "id": "WKtqsKLC0qsL",
        "outputId": "22efabc1-e966-4cba-b6e5-c58c3f56bf0f"
      },
      "outputs": [
        {
          "output_type": "execute_result",
          "data": {
            "text/plain": [
              "set()"
            ]
          },
          "metadata": {},
          "execution_count": 157
        }
      ],
      "source": [
        "x.clear()\n",
        "x"
      ]
    },
    {
      "cell_type": "markdown",
      "metadata": {
        "id": "Nq6lm_VV04E-"
      },
      "source": [
        "##SETS OPERATIONS"
      ]
    },
    {
      "cell_type": "markdown",
      "metadata": {
        "id": "dtzM1H1v1ArK"
      },
      "source": [
        "**1.ADDITION AND MULTIPLICATION NOT POSSIBLE HERE**"
      ]
    },
    {
      "cell_type": "code",
      "execution_count": null,
      "metadata": {
        "colab": {
          "base_uri": "https://localhost:8080/",
          "height": 182
        },
        "id": "exorXAJ80-y2",
        "outputId": "73d3585b-8e27-4dd7-e691-c6532e8eb3c8"
      },
      "outputs": [
        {
          "output_type": "error",
          "ename": "TypeError",
          "evalue": "unsupported operand type(s) for +: 'set' and 'set'",
          "traceback": [
            "\u001b[0;31m---------------------------------------------------------------------------\u001b[0m",
            "\u001b[0;31mTypeError\u001b[0m                                 Traceback (most recent call last)",
            "\u001b[0;32m<ipython-input-158-dff3b6075ab0>\u001b[0m in \u001b[0;36m<cell line: 3>\u001b[0;34m()\u001b[0m\n\u001b[1;32m      1\u001b[0m \u001b[0mx\u001b[0m\u001b[0;34m=\u001b[0m\u001b[0;34m{\u001b[0m\u001b[0;36m1\u001b[0m\u001b[0;34m,\u001b[0m\u001b[0;36m2\u001b[0m\u001b[0;34m,\u001b[0m\u001b[0;36m3\u001b[0m\u001b[0;34m,\u001b[0m\u001b[0;36m4\u001b[0m\u001b[0;34m,\u001b[0m\u001b[0;36m5\u001b[0m\u001b[0;34m,\u001b[0m\u001b[0;36m67\u001b[0m\u001b[0;34m,\u001b[0m\u001b[0;36m66\u001b[0m\u001b[0;34m}\u001b[0m\u001b[0;34m\u001b[0m\u001b[0;34m\u001b[0m\u001b[0m\n\u001b[1;32m      2\u001b[0m \u001b[0my\u001b[0m\u001b[0;34m=\u001b[0m\u001b[0;34m{\u001b[0m\u001b[0;36m55\u001b[0m\u001b[0;34m,\u001b[0m\u001b[0;36m76\u001b[0m\u001b[0;34m,\u001b[0m\u001b[0;36m88\u001b[0m\u001b[0;34m,\u001b[0m\u001b[0;36m33\u001b[0m\u001b[0;34m,\u001b[0m\u001b[0;36m22\u001b[0m\u001b[0;34m,\u001b[0m\u001b[0;36m11\u001b[0m\u001b[0;34m}\u001b[0m\u001b[0;34m\u001b[0m\u001b[0;34m\u001b[0m\u001b[0m\n\u001b[0;32m----> 3\u001b[0;31m \u001b[0mx\u001b[0m\u001b[0;34m+\u001b[0m\u001b[0my\u001b[0m\u001b[0;34m\u001b[0m\u001b[0;34m\u001b[0m\u001b[0m\n\u001b[0m",
            "\u001b[0;31mTypeError\u001b[0m: unsupported operand type(s) for +: 'set' and 'set'"
          ]
        }
      ],
      "source": [
        "x={1,2,3,4,5,67,66}\n",
        "y={55,76,88,33,22,11}\n",
        "x+y"
      ]
    },
    {
      "cell_type": "code",
      "execution_count": null,
      "metadata": {
        "colab": {
          "base_uri": "https://localhost:8080/",
          "height": 146
        },
        "id": "wcHdP_9M1Nia",
        "outputId": "a2314da6-3999-44ec-a64c-16411043d7b5"
      },
      "outputs": [
        {
          "output_type": "error",
          "ename": "TypeError",
          "evalue": "unsupported operand type(s) for *: 'set' and 'set'",
          "traceback": [
            "\u001b[0;31m---------------------------------------------------------------------------\u001b[0m",
            "\u001b[0;31mTypeError\u001b[0m                                 Traceback (most recent call last)",
            "\u001b[0;32m<ipython-input-159-7a2c1caf0dad>\u001b[0m in \u001b[0;36m<cell line: 1>\u001b[0;34m()\u001b[0m\n\u001b[0;32m----> 1\u001b[0;31m \u001b[0mx\u001b[0m\u001b[0;34m*\u001b[0m\u001b[0my\u001b[0m\u001b[0;34m\u001b[0m\u001b[0;34m\u001b[0m\u001b[0m\n\u001b[0m",
            "\u001b[0;31mTypeError\u001b[0m: unsupported operand type(s) for *: 'set' and 'set'"
          ]
        }
      ],
      "source": [
        "x*y"
      ]
    },
    {
      "cell_type": "markdown",
      "metadata": {
        "id": "nUJA60g61X9Y"
      },
      "source": [
        "**2.loop**"
      ]
    },
    {
      "cell_type": "code",
      "execution_count": null,
      "metadata": {
        "colab": {
          "base_uri": "https://localhost:8080/"
        },
        "id": "_-rLVn881Pfn",
        "outputId": "7cf7a9ee-db09-41f1-febc-a8a0cac2243b"
      },
      "outputs": [
        {
          "output_type": "stream",
          "name": "stdout",
          "text": [
            "1\n",
            "2\n",
            "3\n",
            "4\n",
            "5\n",
            "67\n",
            "66\n"
          ]
        }
      ],
      "source": [
        "for i in x:\n",
        "  print(i)"
      ]
    },
    {
      "cell_type": "markdown",
      "metadata": {
        "id": "sbJUK0ty1iqS"
      },
      "source": [
        "**3. membership**"
      ]
    },
    {
      "cell_type": "code",
      "source": [
        "x"
      ],
      "metadata": {
        "colab": {
          "base_uri": "https://localhost:8080/"
        },
        "id": "uq0zFSkYqWcd",
        "outputId": "ee87009a-4327-4b93-b76c-aa8ae6d2a1d3"
      },
      "execution_count": null,
      "outputs": [
        {
          "output_type": "execute_result",
          "data": {
            "text/plain": [
              "{1, 2, 3, 4, 5, 66, 67}"
            ]
          },
          "metadata": {},
          "execution_count": 161
        }
      ]
    },
    {
      "cell_type": "code",
      "execution_count": null,
      "metadata": {
        "colab": {
          "base_uri": "https://localhost:8080/"
        },
        "id": "7zd-eB6X1eO5",
        "outputId": "258d56aa-09ad-4ff2-f4ef-2a846c8587f7"
      },
      "outputs": [
        {
          "output_type": "execute_result",
          "data": {
            "text/plain": [
              "False"
            ]
          },
          "metadata": {},
          "execution_count": 163
        }
      ],
      "source": [
        "44 in x"
      ]
    },
    {
      "cell_type": "markdown",
      "metadata": {
        "id": "ELBJV4DH1ruh"
      },
      "source": [
        "##FUNCTIONS ON SETS\n",
        "- LEN\n",
        "- MIN/MAX(NUMERICAL DATA TYPE)\n",
        "-SORTED(REVERSE=TRUE)\n",
        "-SUM"
      ]
    },
    {
      "cell_type": "markdown",
      "metadata": {
        "id": "kIa1hnKh2qdt"
      },
      "source": [
        "**FUNCTIONS SPECIFIC TO SETS**"
      ]
    },
    {
      "cell_type": "code",
      "execution_count": null,
      "metadata": {
        "colab": {
          "base_uri": "https://localhost:8080/"
        },
        "id": "Gcl0XIqB2mVU",
        "outputId": "df780490-4768-4d77-a298-55357d05e052"
      },
      "outputs": [
        {
          "output_type": "execute_result",
          "data": {
            "text/plain": [
              "{1, 4, 5, 8, 33, 55, 66, 77, 88}"
            ]
          },
          "metadata": {},
          "execution_count": 166
        }
      ],
      "source": [
        "x={1,1,1,1,4,5,77,8,66}\n",
        "y={33,55,77,88,66}\n",
        "z={22,4,5,55}\n",
        "x.union(y)"
      ]
    },
    {
      "cell_type": "code",
      "execution_count": null,
      "metadata": {
        "colab": {
          "base_uri": "https://localhost:8080/"
        },
        "id": "4KXVaHpa2yy9",
        "outputId": "9548c797-7191-42c2-d886-4645c35a2c29"
      },
      "outputs": [
        {
          "output_type": "execute_result",
          "data": {
            "text/plain": [
              "{66, 77}"
            ]
          },
          "metadata": {},
          "execution_count": 167
        }
      ],
      "source": [
        "x.intersection(y)"
      ]
    },
    {
      "cell_type": "code",
      "execution_count": null,
      "metadata": {
        "colab": {
          "base_uri": "https://localhost:8080/"
        },
        "id": "jHKGnoyB25xQ",
        "outputId": "52643e08-d419-4f20-eff2-2274452b7acc"
      },
      "outputs": [
        {
          "output_type": "execute_result",
          "data": {
            "text/plain": [
              "{1, 4, 5, 8}"
            ]
          },
          "metadata": {},
          "execution_count": 168
        }
      ],
      "source": [
        "x.difference(y)"
      ]
    },
    {
      "cell_type": "markdown",
      "metadata": {
        "id": "gaDtFwTGimJ7"
      },
      "source": [
        "The set which contains the elements which are either in set A or in set B but not in both is called the symmetric difference between two given sets. It is represented by A ⊝ B and is read as a symmetric difference of set A and B"
      ]
    },
    {
      "cell_type": "code",
      "execution_count": null,
      "metadata": {
        "colab": {
          "base_uri": "https://localhost:8080/"
        },
        "id": "6AQ1RI4j2639",
        "outputId": "d481e148-07f5-4ed5-95e1-068d141aad17"
      },
      "outputs": [
        {
          "output_type": "execute_result",
          "data": {
            "text/plain": [
              "{1, 4, 5, 8, 33, 55, 88}"
            ]
          },
          "metadata": {},
          "execution_count": 169
        }
      ],
      "source": [
        "x.symmetric_difference(y)"
      ]
    },
    {
      "cell_type": "markdown",
      "metadata": {
        "id": "Pmav3btidC4A"
      },
      "source": [
        "The sets are called disjoint if there are no common elements between the two sets."
      ]
    },
    {
      "cell_type": "code",
      "execution_count": null,
      "metadata": {
        "colab": {
          "base_uri": "https://localhost:8080/"
        },
        "id": "6C_FIlT6293s",
        "outputId": "f4eba73f-c9a9-4b48-8190-6339e479608f"
      },
      "outputs": [
        {
          "output_type": "execute_result",
          "data": {
            "text/plain": [
              "False"
            ]
          },
          "metadata": {},
          "execution_count": 170
        }
      ],
      "source": [
        "x.isdisjoint(y)"
      ]
    },
    {
      "cell_type": "code",
      "execution_count": null,
      "metadata": {
        "id": "wtZsKmCJdh9W"
      },
      "outputs": [],
      "source": [
        "x={1,2,3}\n",
        "y={1,2,3,4,5}"
      ]
    },
    {
      "cell_type": "code",
      "execution_count": null,
      "metadata": {
        "colab": {
          "base_uri": "https://localhost:8080/"
        },
        "id": "DwcDdd9K3B2V",
        "outputId": "1090354d-bdee-4ffc-e6ca-c695151b1651"
      },
      "outputs": [
        {
          "output_type": "execute_result",
          "data": {
            "text/plain": [
              "False"
            ]
          },
          "metadata": {},
          "execution_count": 171
        }
      ],
      "source": [
        "x.issubset(y)"
      ]
    },
    {
      "cell_type": "markdown",
      "metadata": {
        "id": "nvMYZRGReFwz"
      },
      "source": [
        "**SET vs SUPERSET**\n",
        "\n",
        "A subset of a set A is any set B such that every element of B is also an element of A. A strict subset is a subset that isn't equal to the original set (i.e. B must have at least one fewer element than A). A superset of A is any set C such that A is a subset of C."
      ]
    },
    {
      "cell_type": "code",
      "execution_count": null,
      "metadata": {
        "colab": {
          "base_uri": "https://localhost:8080/"
        },
        "id": "wPR386F73GT7",
        "outputId": "4caec442-0121-4981-a851-d572afd1643e"
      },
      "outputs": [
        {
          "output_type": "execute_result",
          "data": {
            "text/plain": [
              "False"
            ]
          },
          "metadata": {},
          "execution_count": 172
        }
      ],
      "source": [
        "y.issuperset(x)"
      ]
    },
    {
      "cell_type": "markdown",
      "metadata": {
        "id": "sBCQROy8hZ3Y"
      },
      "source": [
        "\n",
        "\n",
        "---\n",
        "\n",
        "\n",
        "\n",
        "---\n",
        "\n"
      ]
    },
    {
      "cell_type": "markdown",
      "metadata": {
        "id": "wxEhRFDyiB6y"
      },
      "source": [
        "#20.Dictionary"
      ]
    },
    {
      "cell_type": "markdown",
      "metadata": {
        "id": "l5I6GjBT36rL"
      },
      "source": [
        "**DICTIONARY(BASIC RULES)**\n",
        "- 1.IT HAS NO INDEXING\n",
        "- 2.IT IS A MUTABLE DATA TYPES\n",
        "- 3.KEYS = ALWAYS IMMUTABLE,VALUES= CAN BE MUTABLE\n",
        "- 4.KEYS SHOULD BE UNIQUE"
      ]
    },
    {
      "cell_type": "markdown",
      "metadata": {
        "id": "g3aqU4Lu4Im-"
      },
      "source": [
        "##CREATE"
      ]
    },
    {
      "cell_type": "code",
      "execution_count": null,
      "metadata": {
        "colab": {
          "base_uri": "https://localhost:8080/"
        },
        "id": "0q114M0s3ZDA",
        "outputId": "235b247e-2f42-433f-ccaa-5076d4bd3fc7"
      },
      "outputs": [
        {
          "output_type": "execute_result",
          "data": {
            "text/plain": [
              "dict"
            ]
          },
          "metadata": {},
          "execution_count": 3
        }
      ],
      "source": [
        "x={}\n",
        "type(x)"
      ]
    },
    {
      "cell_type": "code",
      "execution_count": null,
      "metadata": {
        "colab": {
          "base_uri": "https://localhost:8080/"
        },
        "id": "KlkpIRBn4T4n",
        "outputId": "b61a8b49-ce55-475b-ec80-aa4844f3426b"
      },
      "outputs": [
        {
          "output_type": "execute_result",
          "data": {
            "text/plain": [
              "{'name': 'ahmad', 'age': '22', 'sex': 'male'}"
            ]
          },
          "metadata": {},
          "execution_count": 4
        }
      ],
      "source": [
        "x={\"name\":'ahmad',\"age\":\"22\",\"sex\":\"male\"}\n",
        "x"
      ]
    },
    {
      "cell_type": "code",
      "execution_count": null,
      "metadata": {
        "colab": {
          "base_uri": "https://localhost:8080/"
        },
        "id": "OocBoRi44-Sf",
        "outputId": "a51ad25c-58dc-4127-da71-37c7d907b6c4"
      },
      "outputs": [
        {
          "output_type": "execute_result",
          "data": {
            "text/plain": [
              "{'age': '22'}"
            ]
          },
          "metadata": {},
          "execution_count": 28
        }
      ],
      "source": [
        "x={'age':\"22\"}\n",
        "x"
      ]
    },
    {
      "cell_type": "code",
      "execution_count": null,
      "metadata": {
        "colab": {
          "base_uri": "https://localhost:8080/"
        },
        "id": "W41wv2EL4_zo",
        "outputId": "f0b275b6-5648-40a6-f7c1-9d6456ddd1a4"
      },
      "outputs": [
        {
          "output_type": "execute_result",
          "data": {
            "text/plain": [
              "{'age': [22]}"
            ]
          },
          "metadata": {},
          "execution_count": 6
        }
      ],
      "source": [
        "x={(\"age\"):[22]}\n",
        "x\n",
        "#hence it proves that keys should always be immutable and not mutable like lists,dic,sets"
      ]
    },
    {
      "cell_type": "code",
      "execution_count": null,
      "metadata": {
        "colab": {
          "base_uri": "https://localhost:8080/"
        },
        "id": "wi1vLD2p5Frq",
        "outputId": "cf428773-88b3-467c-d9fe-1edd8513594f"
      },
      "outputs": [
        {
          "output_type": "execute_result",
          "data": {
            "text/plain": [
              "{'name1': 'ahamd', 'name2': 'ajmal'}"
            ]
          },
          "metadata": {},
          "execution_count": 9
        }
      ],
      "source": [
        "x={\"name1\":\"ahamd\",\"name2\":\"ajmal\"}\n",
        "x\n",
        "#keys always be unique,if used same then only recent one used will be interpreted"
      ]
    },
    {
      "cell_type": "code",
      "execution_count": null,
      "metadata": {
        "colab": {
          "base_uri": "https://localhost:8080/"
        },
        "id": "ZucWLgy65PuZ",
        "outputId": "c94209af-16f7-4404-9a4e-1e6139b213da"
      },
      "outputs": [
        {
          "output_type": "execute_result",
          "data": {
            "text/plain": [
              "{'name': 'ahmad', 'uni': 'xyz', 'marks': {'s1': 23, 's2': 33, 's3': 44}}"
            ]
          },
          "metadata": {},
          "execution_count": 10
        }
      ],
      "source": [
        "#2D dictionary\n",
        "x={\"name\":\"ahmad\",\"uni\":\"xyz\",\"marks\":{\"s1\":23,\"s2\":33,\"s3\":44}}\n",
        "x"
      ]
    },
    {
      "cell_type": "markdown",
      "metadata": {
        "id": "CwoSoL7E5amA"
      },
      "source": [
        "##ACCESSING\n",
        "BECAUSE THHERE IS NO INDEXING/SLICING THUS WE CAN ACCESS VALUES BY ONLY PROVIDING CORRECT KEYS."
      ]
    },
    {
      "cell_type": "code",
      "execution_count": null,
      "metadata": {
        "colab": {
          "base_uri": "https://localhost:8080/",
          "height": 182
        },
        "id": "OKTYpGnj5b53",
        "outputId": "b465a7b1-bf44-4eda-e5a5-8ac2973191af"
      },
      "outputs": [
        {
          "output_type": "error",
          "ename": "KeyError",
          "evalue": "1",
          "traceback": [
            "\u001b[0;31m---------------------------------------------------------------------------\u001b[0m",
            "\u001b[0;31mKeyError\u001b[0m                                  Traceback (most recent call last)",
            "\u001b[0;32m<ipython-input-11-dc1967882d9d>\u001b[0m in \u001b[0;36m<cell line: 2>\u001b[0;34m()\u001b[0m\n\u001b[1;32m      1\u001b[0m \u001b[0mx\u001b[0m\u001b[0;34m=\u001b[0m\u001b[0;34m{\u001b[0m\u001b[0;34m\"name\"\u001b[0m\u001b[0;34m:\u001b[0m\u001b[0;34m\"ahmad\"\u001b[0m\u001b[0;34m,\u001b[0m\u001b[0;34m\"age\"\u001b[0m\u001b[0;34m:\u001b[0m\u001b[0;34m\"22\"\u001b[0m\u001b[0;34m,\u001b[0m\u001b[0;34m\"sex\"\u001b[0m\u001b[0;34m:\u001b[0m\u001b[0;34m\"male\"\u001b[0m\u001b[0;34m}\u001b[0m\u001b[0;34m\u001b[0m\u001b[0;34m\u001b[0m\u001b[0m\n\u001b[0;32m----> 2\u001b[0;31m \u001b[0mx\u001b[0m\u001b[0;34m[\u001b[0m\u001b[0;36m1\u001b[0m\u001b[0;34m]\u001b[0m\u001b[0;34m\u001b[0m\u001b[0;34m\u001b[0m\u001b[0m\n\u001b[0m\u001b[1;32m      3\u001b[0m \u001b[0;31m#thus dictionary has no indexing\u001b[0m\u001b[0;34m\u001b[0m\u001b[0;34m\u001b[0m\u001b[0m\n",
            "\u001b[0;31mKeyError\u001b[0m: 1"
          ]
        }
      ],
      "source": [
        "x={\"name\":\"ahmad\",\"age\":\"22\",\"sex\":\"male\"}\n",
        "x[1]\n",
        "#thus dictionary has no indexing"
      ]
    },
    {
      "cell_type": "code",
      "execution_count": null,
      "metadata": {
        "colab": {
          "base_uri": "https://localhost:8080/",
          "height": 36
        },
        "id": "eWwSxBao5tAy",
        "outputId": "ede1de4b-950e-4be0-eaee-9c93d034c177"
      },
      "outputs": [
        {
          "output_type": "execute_result",
          "data": {
            "text/plain": [
              "'ahmad'"
            ],
            "application/vnd.google.colaboratory.intrinsic+json": {
              "type": "string"
            }
          },
          "metadata": {},
          "execution_count": 15
        }
      ],
      "source": [
        "x[\"name\"]"
      ]
    },
    {
      "cell_type": "code",
      "execution_count": null,
      "metadata": {
        "colab": {
          "base_uri": "https://localhost:8080/"
        },
        "id": "kiB2JIMK5xsl",
        "outputId": "da964896-8806-415e-feb0-10b137cf704a"
      },
      "outputs": [
        {
          "output_type": "execute_result",
          "data": {
            "text/plain": [
              "23"
            ]
          },
          "metadata": {},
          "execution_count": 17
        }
      ],
      "source": [
        "x={\"name\":\"ahmad\",\"uni\":\"qau\",\"marks\":{\"s1\":23,\"s2\":33,\"s3\":44}}\n",
        "x[\"marks\"]['s1']"
      ]
    },
    {
      "cell_type": "markdown",
      "metadata": {
        "id": "0X-LHHO8527g"
      },
      "source": [
        "##EDITING\n",
        "JUST LIKE ACCESSING BY PROVIDING CORRECT KEY"
      ]
    },
    {
      "cell_type": "code",
      "execution_count": null,
      "metadata": {
        "colab": {
          "base_uri": "https://localhost:8080/"
        },
        "id": "WvPMKXEV57_s",
        "outputId": "f6daf8f7-4d22-4198-ffac-e65339812bbf"
      },
      "outputs": [
        {
          "output_type": "execute_result",
          "data": {
            "text/plain": [
              "{'name': 'Dammy', 'age': '22', 'sex': 'male'}"
            ]
          },
          "metadata": {},
          "execution_count": 18
        }
      ],
      "source": [
        "x={\"name\":\"ahmad\",\"age\":\"22\",\"sex\":\"male\"}\n",
        "x[\"name\"]=\"Dammy\"\n",
        "x"
      ]
    },
    {
      "cell_type": "code",
      "execution_count": null,
      "metadata": {
        "colab": {
          "base_uri": "https://localhost:8080/"
        },
        "id": "QEbGv3iL6AYk",
        "outputId": "38b814a5-ca80-4b79-9131-45b89e652ddc"
      },
      "outputs": [
        {
          "output_type": "execute_result",
          "data": {
            "text/plain": [
              "{'name': 'ahmad', 'uni': 'qau', 'marks': {'s1': 66, 's2': 33, 's3': 44}}"
            ]
          },
          "metadata": {},
          "execution_count": 19
        }
      ],
      "source": [
        "x={\"name\":\"ahmad\",\"uni\":\"qau\",\"marks\":{\"s1\":23,\"s2\":33,\"s3\":44}}\n",
        "x[\"marks\"][\"s1\"]=66\n",
        "x"
      ]
    },
    {
      "cell_type": "markdown",
      "metadata": {
        "id": "V01AiEI56FTY"
      },
      "source": [
        "##ADDING"
      ]
    },
    {
      "cell_type": "code",
      "execution_count": null,
      "metadata": {
        "colab": {
          "base_uri": "https://localhost:8080/"
        },
        "id": "Xneo2cYj6JY9",
        "outputId": "c0d639f6-de5a-4727-92b7-d6592cc33043"
      },
      "outputs": [
        {
          "output_type": "execute_result",
          "data": {
            "text/plain": [
              "{'name': 'ahmad', 'age': '22', 'sex': 'male', 'adress': 'rwp'}"
            ]
          },
          "metadata": {},
          "execution_count": 20
        }
      ],
      "source": [
        "x={\"name\":\"ahmad\",\"age\":\"22\",\"sex\":\"male\"}\n",
        "x[\"adress\"]=\"rwp\"\n",
        "x"
      ]
    },
    {
      "cell_type": "code",
      "execution_count": null,
      "metadata": {
        "colab": {
          "base_uri": "https://localhost:8080/"
        },
        "id": "o0OXStmA6QPd",
        "outputId": "7686a5fe-d321-45d9-cf64-70ca0d6d9072"
      },
      "outputs": [
        {
          "output_type": "execute_result",
          "data": {
            "text/plain": [
              "{'name': 'ahmad',\n",
              " 'uni': 'qau',\n",
              " 'marks': {'s1': 23, 's2': 33, 's3': 44, 's4': 88}}"
            ]
          },
          "metadata": {},
          "execution_count": 21
        }
      ],
      "source": [
        "x={\"name\":\"ahmad\",\"uni\":\"qau\",\"marks\":{\"s1\":23,\"s2\":33,\"s3\":44}}\n",
        "x[\"marks\"][\"s4\"]=88\n",
        "x"
      ]
    },
    {
      "cell_type": "markdown",
      "metadata": {
        "id": "m6wHQoeG6VjG"
      },
      "source": [
        "##DELETE"
      ]
    },
    {
      "cell_type": "code",
      "execution_count": null,
      "metadata": {
        "colab": {
          "base_uri": "https://localhost:8080/",
          "height": 182
        },
        "id": "nd74nMJD6Sy4",
        "outputId": "fb52c8f7-598d-4563-9217-1a08a5850417"
      },
      "outputs": [
        {
          "output_type": "error",
          "ename": "NameError",
          "evalue": "name 'x1' is not defined",
          "traceback": [
            "\u001b[0;31m---------------------------------------------------------------------------\u001b[0m",
            "\u001b[0;31mNameError\u001b[0m                                 Traceback (most recent call last)",
            "\u001b[0;32m<ipython-input-22-641927fabee0>\u001b[0m in \u001b[0;36m<cell line: 3>\u001b[0;34m()\u001b[0m\n\u001b[1;32m      1\u001b[0m \u001b[0mx1\u001b[0m\u001b[0;34m=\u001b[0m\u001b[0;34m{\u001b[0m\u001b[0;34m}\u001b[0m\u001b[0;34m\u001b[0m\u001b[0;34m\u001b[0m\u001b[0m\n\u001b[1;32m      2\u001b[0m \u001b[0;32mdel\u001b[0m\u001b[0;34m[\u001b[0m\u001b[0mx1\u001b[0m\u001b[0;34m]\u001b[0m\u001b[0;34m\u001b[0m\u001b[0;34m\u001b[0m\u001b[0m\n\u001b[0;32m----> 3\u001b[0;31m \u001b[0mx1\u001b[0m\u001b[0;34m\u001b[0m\u001b[0;34m\u001b[0m\u001b[0m\n\u001b[0m",
            "\u001b[0;31mNameError\u001b[0m: name 'x1' is not defined"
          ]
        }
      ],
      "source": [
        "x1={}\n",
        "del[x1]\n",
        "x1"
      ]
    },
    {
      "cell_type": "code",
      "execution_count": null,
      "metadata": {
        "colab": {
          "base_uri": "https://localhost:8080/"
        },
        "id": "dqTCSNdn6bp9",
        "outputId": "2c0f28a6-63d0-492d-acf8-5e466e85ae6d"
      },
      "outputs": [
        {
          "output_type": "execute_result",
          "data": {
            "text/plain": [
              "{'name': 'ahmad', 'sex': 'male'}"
            ]
          },
          "metadata": {},
          "execution_count": 23
        }
      ],
      "source": [
        "x={\"name\":\"ahmad\",\"age\":\"22\",\"sex\":\"male\"}\n",
        "del x[\"age\"]\n",
        "x"
      ]
    },
    {
      "cell_type": "code",
      "execution_count": null,
      "metadata": {
        "colab": {
          "base_uri": "https://localhost:8080/"
        },
        "id": "RTBAPXcy6jCK",
        "outputId": "3b03908e-73bc-45e5-c238-7551780b7602"
      },
      "outputs": [
        {
          "output_type": "execute_result",
          "data": {
            "text/plain": [
              "{'name': 'ahmad', 'uni': 'qau', 'marks': {'s2': 33, 's3': 44}}"
            ]
          },
          "metadata": {},
          "execution_count": 24
        }
      ],
      "source": [
        "x={\"name\":\"ahmad\",\"uni\":\"qau\",\"marks\":{\"s1\":23,\"s2\":33,\"s3\":44}}\n",
        "del x[\"marks\"][\"s1\"]\n",
        "x"
      ]
    },
    {
      "cell_type": "code",
      "execution_count": null,
      "metadata": {
        "colab": {
          "base_uri": "https://localhost:8080/"
        },
        "id": "7KUV06kI6kq1",
        "outputId": "e795bd17-de11-44f3-ad35-d83ae77dd7e2"
      },
      "outputs": [
        {
          "output_type": "execute_result",
          "data": {
            "text/plain": [
              "{}"
            ]
          },
          "metadata": {},
          "execution_count": 25
        }
      ],
      "source": [
        "# it will remove all the key value base pairs and gives empty dic in the output\n",
        "x.clear()\n",
        "x"
      ]
    },
    {
      "cell_type": "code",
      "execution_count": null,
      "metadata": {
        "colab": {
          "base_uri": "https://localhost:8080/",
          "height": 182
        },
        "id": "n0RBpkgf6rF5",
        "outputId": "9e32127a-cca6-46cd-fe81-d1c578e24521"
      },
      "outputs": [
        {
          "output_type": "error",
          "ename": "TypeError",
          "evalue": "pop expected at least 1 argument, got 0",
          "traceback": [
            "\u001b[0;31m---------------------------------------------------------------------------\u001b[0m",
            "\u001b[0;31mTypeError\u001b[0m                                 Traceback (most recent call last)",
            "\u001b[0;32m<ipython-input-26-7feddbce7c3b>\u001b[0m in \u001b[0;36m<cell line: 2>\u001b[0;34m()\u001b[0m\n\u001b[1;32m      1\u001b[0m \u001b[0mx\u001b[0m\u001b[0;34m=\u001b[0m\u001b[0;34m{\u001b[0m\u001b[0;34m\"name\"\u001b[0m\u001b[0;34m:\u001b[0m\u001b[0;34m\"ahmad\"\u001b[0m\u001b[0;34m,\u001b[0m\u001b[0;34m\"uni\"\u001b[0m\u001b[0;34m:\u001b[0m\u001b[0;34m\"qau\"\u001b[0m\u001b[0;34m}\u001b[0m\u001b[0;34m\u001b[0m\u001b[0;34m\u001b[0m\u001b[0m\n\u001b[0;32m----> 2\u001b[0;31m \u001b[0mx\u001b[0m\u001b[0;34m.\u001b[0m\u001b[0mpop\u001b[0m\u001b[0;34m(\u001b[0m\u001b[0;34m)\u001b[0m\u001b[0;34m\u001b[0m\u001b[0;34m\u001b[0m\u001b[0m\n\u001b[0m\u001b[1;32m      3\u001b[0m \u001b[0mx\u001b[0m\u001b[0;34m\u001b[0m\u001b[0;34m\u001b[0m\u001b[0m\n",
            "\u001b[0;31mTypeError\u001b[0m: pop expected at least 1 argument, got 0"
          ]
        }
      ],
      "source": [
        "# It does not have indexing\n",
        "x={\"name\":\"ahmad\",\"uni\":\"qau\"}\n",
        "x.pop()\n",
        "x"
      ]
    },
    {
      "cell_type": "markdown",
      "metadata": {
        "id": "PbryOuz06nvP"
      },
      "source": [
        "##OPERATIONS ON DICTIONARY"
      ]
    },
    {
      "cell_type": "markdown",
      "metadata": {
        "id": "IkooABbe7FGV"
      },
      "source": [
        "**1. addition and multiplication**"
      ]
    },
    {
      "cell_type": "code",
      "execution_count": null,
      "metadata": {
        "colab": {
          "base_uri": "https://localhost:8080/",
          "height": 182
        },
        "id": "QTcKUntr60TI",
        "outputId": "c4695315-6a3a-4022-87c6-98c1116512f6"
      },
      "outputs": [
        {
          "output_type": "error",
          "ename": "TypeError",
          "evalue": "unsupported operand type(s) for +: 'dict' and 'dict'",
          "traceback": [
            "\u001b[0;31m---------------------------------------------------------------------------\u001b[0m",
            "\u001b[0;31mTypeError\u001b[0m                                 Traceback (most recent call last)",
            "\u001b[0;32m<ipython-input-29-ed194b61fbf2>\u001b[0m in \u001b[0;36m<cell line: 3>\u001b[0;34m()\u001b[0m\n\u001b[1;32m      1\u001b[0m \u001b[0mx\u001b[0m\u001b[0;34m=\u001b[0m\u001b[0;34m{\u001b[0m\u001b[0;34m\"name\"\u001b[0m\u001b[0;34m:\u001b[0m\u001b[0;34m\"ahmad\"\u001b[0m\u001b[0;34m,\u001b[0m\u001b[0;34m\"age\"\u001b[0m\u001b[0;34m:\u001b[0m\u001b[0;34m\"22\"\u001b[0m\u001b[0;34m,\u001b[0m\u001b[0;34m\"sex\"\u001b[0m\u001b[0;34m:\u001b[0m\u001b[0;34m\"male\"\u001b[0m\u001b[0;34m}\u001b[0m\u001b[0;34m\u001b[0m\u001b[0;34m\u001b[0m\u001b[0m\n\u001b[1;32m      2\u001b[0m \u001b[0my\u001b[0m\u001b[0;34m=\u001b[0m\u001b[0;34m{\u001b[0m\u001b[0;34m\"name\"\u001b[0m\u001b[0;34m:\u001b[0m\u001b[0;34m\"ahmad\"\u001b[0m\u001b[0;34m,\u001b[0m\u001b[0;34m\"uni\"\u001b[0m\u001b[0;34m:\u001b[0m\u001b[0;34m\"qau\"\u001b[0m\u001b[0;34m,\u001b[0m\u001b[0;34m\"marks\"\u001b[0m\u001b[0;34m:\u001b[0m\u001b[0;34m{\u001b[0m\u001b[0;34m\"s1\"\u001b[0m\u001b[0;34m:\u001b[0m\u001b[0;36m23\u001b[0m\u001b[0;34m,\u001b[0m\u001b[0;34m\"s2\"\u001b[0m\u001b[0;34m:\u001b[0m\u001b[0;36m33\u001b[0m\u001b[0;34m,\u001b[0m\u001b[0;34m\"s3\"\u001b[0m\u001b[0;34m:\u001b[0m\u001b[0;36m44\u001b[0m\u001b[0;34m}\u001b[0m\u001b[0;34m}\u001b[0m\u001b[0;34m\u001b[0m\u001b[0;34m\u001b[0m\u001b[0m\n\u001b[0;32m----> 3\u001b[0;31m \u001b[0mx\u001b[0m\u001b[0;34m+\u001b[0m\u001b[0my\u001b[0m\u001b[0;34m\u001b[0m\u001b[0;34m\u001b[0m\u001b[0m\n\u001b[0m",
            "\u001b[0;31mTypeError\u001b[0m: unsupported operand type(s) for +: 'dict' and 'dict'"
          ]
        }
      ],
      "source": [
        "x={\"name\":\"ahmad\",\"age\":\"22\",\"sex\":\"male\"}\n",
        "y={\"name\":\"ahmad\",\"uni\":\"qau\",\"marks\":{\"s1\":23,\"s2\":33,\"s3\":44}}\n",
        "x+y"
      ]
    },
    {
      "cell_type": "code",
      "execution_count": null,
      "metadata": {
        "colab": {
          "base_uri": "https://localhost:8080/",
          "height": 146
        },
        "id": "wgH9DkX07A-A",
        "outputId": "560c265f-9919-4ed0-bbeb-54efd788910d"
      },
      "outputs": [
        {
          "output_type": "error",
          "ename": "TypeError",
          "evalue": "unsupported operand type(s) for *: 'dict' and 'dict'",
          "traceback": [
            "\u001b[0;31m---------------------------------------------------------------------------\u001b[0m",
            "\u001b[0;31mTypeError\u001b[0m                                 Traceback (most recent call last)",
            "\u001b[0;32m<ipython-input-30-7a2c1caf0dad>\u001b[0m in \u001b[0;36m<cell line: 1>\u001b[0;34m()\u001b[0m\n\u001b[0;32m----> 1\u001b[0;31m \u001b[0mx\u001b[0m\u001b[0;34m*\u001b[0m\u001b[0my\u001b[0m\u001b[0;34m\u001b[0m\u001b[0;34m\u001b[0m\u001b[0m\n\u001b[0m",
            "\u001b[0;31mTypeError\u001b[0m: unsupported operand type(s) for *: 'dict' and 'dict'"
          ]
        }
      ],
      "source": [
        "x*y"
      ]
    },
    {
      "cell_type": "markdown",
      "metadata": {
        "id": "VZOvk_PE7KdV"
      },
      "source": [
        "**2. for loops**"
      ]
    },
    {
      "cell_type": "code",
      "execution_count": null,
      "metadata": {
        "colab": {
          "base_uri": "https://localhost:8080/"
        },
        "id": "bTEgO-iB0nyj",
        "outputId": "61b61e43-9bf0-4df1-b820-8fb489825a9a"
      },
      "outputs": [
        {
          "output_type": "execute_result",
          "data": {
            "text/plain": [
              "{'name': 'ahmad', 'age': '22', 'sex': 'male'}"
            ]
          },
          "metadata": {},
          "execution_count": 31
        }
      ],
      "source": [
        "x"
      ]
    },
    {
      "cell_type": "code",
      "execution_count": null,
      "metadata": {
        "colab": {
          "base_uri": "https://localhost:8080/"
        },
        "id": "GmGb1Rt77P0_",
        "outputId": "22c501ca-eaa7-488c-a729-aea8a6cc27df"
      },
      "outputs": [
        {
          "output_type": "stream",
          "name": "stdout",
          "text": [
            "name\n",
            "age\n",
            "sex\n"
          ]
        }
      ],
      "source": [
        "for i in x:\n",
        "  print(i)"
      ]
    },
    {
      "cell_type": "markdown",
      "metadata": {
        "id": "10DXiGi17eEM"
      },
      "source": [
        "**3. membership**"
      ]
    },
    {
      "cell_type": "code",
      "execution_count": null,
      "metadata": {
        "colab": {
          "base_uri": "https://localhost:8080/"
        },
        "id": "SPwnaDtE7hSA",
        "outputId": "73db611f-a864-4891-884b-549331585f1d"
      },
      "outputs": [
        {
          "output_type": "execute_result",
          "data": {
            "text/plain": [
              "False"
            ]
          },
          "metadata": {},
          "execution_count": 33
        }
      ],
      "source": [
        "x={'name': 'ahmad', 'age': '22', 'sex': 'male'}\n",
        "\"ahmad\" in x"
      ]
    },
    {
      "cell_type": "code",
      "execution_count": null,
      "metadata": {
        "colab": {
          "base_uri": "https://localhost:8080/"
        },
        "id": "opwIeccr7p0M",
        "outputId": "9a0297dd-9038-45e6-9d92-ddceac16d5d0"
      },
      "outputs": [
        {
          "output_type": "execute_result",
          "data": {
            "text/plain": [
              "True"
            ]
          },
          "metadata": {},
          "execution_count": 35
        }
      ],
      "source": [
        "\"age\" in x\n",
        "#in dic membership only identify the keys not values"
      ]
    },
    {
      "cell_type": "markdown",
      "metadata": {
        "id": "Z8kXFrDu73Ax"
      },
      "source": [
        "##FUNCTIONS ON DICTIONARY"
      ]
    },
    {
      "cell_type": "markdown",
      "metadata": {
        "id": "h0bfohkB8KWy"
      },
      "source": [
        "- LEN\n",
        "- MIN/MAX(NUMERICAL DATA TYPE)\n",
        "-SORTED(REVERSE=TRUE)"
      ]
    },
    {
      "cell_type": "markdown",
      "source": [
        "##Functions only for dictionaries"
      ],
      "metadata": {
        "id": "LHxsDnHsLO2V"
      }
    },
    {
      "cell_type": "code",
      "execution_count": null,
      "metadata": {
        "colab": {
          "base_uri": "https://localhost:8080/"
        },
        "id": "ng_GoMlM7-Ai",
        "outputId": "48013347-e18e-45ab-90a8-8fc02f2b6c5e"
      },
      "outputs": [
        {
          "output_type": "execute_result",
          "data": {
            "text/plain": [
              "dict_keys(['name', 'age', 'sex'])"
            ]
          },
          "metadata": {},
          "execution_count": 40
        }
      ],
      "source": [
        "x.keys()"
      ]
    },
    {
      "cell_type": "code",
      "execution_count": null,
      "metadata": {
        "colab": {
          "base_uri": "https://localhost:8080/"
        },
        "id": "GrUrWRZU8D-3",
        "outputId": "09b3ad4c-2d5e-4650-fe8a-0fee8dcd4e82"
      },
      "outputs": [
        {
          "output_type": "execute_result",
          "data": {
            "text/plain": [
              "dict_values(['ahmad', '22', 'male'])"
            ]
          },
          "metadata": {},
          "execution_count": 42
        }
      ],
      "source": [
        "x.values()"
      ]
    },
    {
      "cell_type": "markdown",
      "metadata": {
        "id": "RyjigtN6kwRj"
      },
      "source": [
        "\n",
        "\n",
        "\n",
        "---\n",
        "\n",
        "\n",
        "\n",
        "---\n",
        "\n",
        "\n",
        "\n",
        "---\n",
        "\n",
        "\n",
        "\n",
        "---\n",
        "\n",
        "\n",
        "---\n",
        "\n"
      ]
    }
  ],
  "metadata": {
    "accelerator": "TPU",
    "colab": {
      "provenance": [],
      "gpuType": "V28"
    },
    "kernelspec": {
      "display_name": "Python 3",
      "name": "python3"
    },
    "language_info": {
      "name": "python"
    }
  },
  "nbformat": 4,
  "nbformat_minor": 0
}